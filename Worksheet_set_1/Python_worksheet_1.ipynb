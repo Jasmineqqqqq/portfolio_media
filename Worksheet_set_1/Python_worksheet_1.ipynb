{
 "cells": [
  {
   "cell_type": "code",
   "execution_count": 3,
   "id": "fc048792",
   "metadata": {},
   "outputs": [
    {
     "name": "stdout",
     "output_type": "stream",
     "text": [
      "Factorial of 7 is 5040\n"
     ]
    }
   ],
   "source": [
    "#Q11. Write a python program to find the factorial of a number.\n",
    "def factorial(n):\n",
    "    return 1 if (n==1 or n==0) else n * factorial(n - 1);\n",
    " \n",
    "# Driver Code\n",
    "num = 7;\n",
    "print(\"Factorial of\",num,\"is\",\n",
    "factorial(num))"
   ]
  },
  {
   "cell_type": "code",
   "execution_count": 6,
   "id": "797c9a91",
   "metadata": {},
   "outputs": [
    {
     "name": "stdout",
     "output_type": "stream",
     "text": [
      "Enter any number : 0\n",
      "0 is a neither prime NOR composite number\n"
     ]
    }
   ],
   "source": [
    "#q12. Write a python program to find whether a number is prime or composite.\n",
    "\n",
    "num = int(input(\"Enter any number : \"))\n",
    "if num > 1:\n",
    "    for i in range(2, num):\n",
    "        if (num % i) == 0:\n",
    "            print(num, \"is NOT a prime number\")\n",
    "            break\n",
    "    else:\n",
    "        print(num, \"is a PRIME number\")\n",
    "elif num == 0 or 1:\n",
    "    print(num, \"is a neither prime NOR composite number\")\n",
    "else:\n",
    "    print(num, \"is NOT a prime number it is a COMPOSITE number\")"
   ]
  },
  {
   "cell_type": "code",
   "execution_count": 7,
   "id": "8fdbf05e",
   "metadata": {},
   "outputs": [
    {
     "name": "stdout",
     "output_type": "stream",
     "text": [
      "The string is a palindrome.\n"
     ]
    }
   ],
   "source": [
    "#Q.13 . . Write a python program to check whether a given string is palindrome or not.\n",
    "my_str = 'aIbohPhoBiA'\n",
    "\n",
    "# make it suitable for caseless comparison\n",
    "my_str = my_str.casefold()\n",
    "\n",
    "# reverse the string\n",
    "rev_str = reversed(my_str)\n",
    "\n",
    "# check if the string is equal to its reverse\n",
    "if list(my_str) == list(rev_str):\n",
    "   print(\"The string is a palindrome.\")\n",
    "else:\n",
    "   print(\"The string is not a palindrome.\")"
   ]
  },
  {
   "cell_type": "code",
   "execution_count": 8,
   "id": "dcaa0cd4",
   "metadata": {},
   "outputs": [
    {
     "name": "stdout",
     "output_type": "stream",
     "text": [
      "Hypotenuse = 5.0\n",
      "Adjacent = 4.0\n",
      "Opposite = 3.0\n",
      "You know the answer!\n"
     ]
    }
   ],
   "source": [
    "#Q.14. #Write a Python program to get the third side of right-angled triangle from two given sides.\n",
    "def pythagoras(opposite_side,adjacent_side,hypotenuse):\n",
    "        if opposite_side == str(\"x\"):\n",
    "            return (\"Opposite = \" + str(((hypotenuse**2) - (adjacent_side**2))**0.5))\n",
    "        elif adjacent_side == str(\"x\"):\n",
    "            return (\"Adjacent = \" + str(((hypotenuse**2) - (opposite_side**2))**0.5))\n",
    "        elif hypotenuse == str(\"x\"):\n",
    "            return (\"Hypotenuse = \" + str(((opposite_side**2) + (adjacent_side**2))**0.5))\n",
    "        else:\n",
    "            return \"You know the answer!\"\n",
    "    \n",
    "print(pythagoras(3,4,'x'))\n",
    "print(pythagoras(3,'x',5))\n",
    "print(pythagoras('x',4,5))\n",
    "print(pythagoras(3,4,5))"
   ]
  },
  {
   "cell_type": "code",
   "execution_count": 9,
   "id": "1f587c69",
   "metadata": {},
   "outputs": [
    {
     "name": "stdout",
     "output_type": "stream",
     "text": [
      "Count of all characters in PythonforMachineLearning is :\n",
      " {'P': 1}\n",
      "Count of all characters in PythonforMachineLearning is :\n",
      " {'P': 1, 'y': 1}\n",
      "Count of all characters in PythonforMachineLearning is :\n",
      " {'P': 1, 'y': 1, 't': 1}\n",
      "Count of all characters in PythonforMachineLearning is :\n",
      " {'P': 1, 'y': 1, 't': 1, 'h': 1}\n",
      "Count of all characters in PythonforMachineLearning is :\n",
      " {'P': 1, 'y': 1, 't': 1, 'h': 1, 'o': 1}\n",
      "Count of all characters in PythonforMachineLearning is :\n",
      " {'P': 1, 'y': 1, 't': 1, 'h': 1, 'o': 1, 'n': 1}\n",
      "Count of all characters in PythonforMachineLearning is :\n",
      " {'P': 1, 'y': 1, 't': 1, 'h': 1, 'o': 1, 'n': 1, 'f': 1}\n",
      "Count of all characters in PythonforMachineLearning is :\n",
      " {'P': 1, 'y': 1, 't': 1, 'h': 1, 'o': 2, 'n': 1, 'f': 1, 'r': 1}\n",
      "Count of all characters in PythonforMachineLearning is :\n",
      " {'P': 1, 'y': 1, 't': 1, 'h': 1, 'o': 2, 'n': 1, 'f': 1, 'r': 1, 'M': 1}\n",
      "Count of all characters in PythonforMachineLearning is :\n",
      " {'P': 1, 'y': 1, 't': 1, 'h': 1, 'o': 2, 'n': 1, 'f': 1, 'r': 1, 'M': 1, 'a': 1}\n",
      "Count of all characters in PythonforMachineLearning is :\n",
      " {'P': 1, 'y': 1, 't': 1, 'h': 1, 'o': 2, 'n': 1, 'f': 1, 'r': 1, 'M': 1, 'a': 1, 'c': 1}\n",
      "Count of all characters in PythonforMachineLearning is :\n",
      " {'P': 1, 'y': 1, 't': 1, 'h': 2, 'o': 2, 'n': 1, 'f': 1, 'r': 1, 'M': 1, 'a': 1, 'c': 1, 'i': 1}\n",
      "Count of all characters in PythonforMachineLearning is :\n",
      " {'P': 1, 'y': 1, 't': 1, 'h': 2, 'o': 2, 'n': 2, 'f': 1, 'r': 1, 'M': 1, 'a': 1, 'c': 1, 'i': 1, 'e': 1}\n",
      "Count of all characters in PythonforMachineLearning is :\n",
      " {'P': 1, 'y': 1, 't': 1, 'h': 2, 'o': 2, 'n': 2, 'f': 1, 'r': 1, 'M': 1, 'a': 1, 'c': 1, 'i': 1, 'e': 1, 'L': 1}\n",
      "Count of all characters in PythonforMachineLearning is :\n",
      " {'P': 1, 'y': 1, 't': 1, 'h': 2, 'o': 2, 'n': 4, 'f': 1, 'r': 2, 'M': 1, 'a': 2, 'c': 1, 'i': 2, 'e': 2, 'L': 1, 'g': 1}\n"
     ]
    }
   ],
   "source": [
    "#15. Write a python program to print the frequency of each of the characters present in a given string\n",
    "\n",
    "test_str = \"PythonforMachineLearning\"\n",
    "# using naive method to get count \n",
    "# of each element in string \n",
    "all_freq = {}\n",
    "  \n",
    "for i in test_str:\n",
    "    if i in all_freq:\n",
    "        all_freq[i] += 1\n",
    "    else:\n",
    "        all_freq[i] = 1\n",
    "        print (\"Count of all characters in PythonforMachineLearning is :\\n \"\n",
    "                                        +  str(all_freq))"
   ]
  },
  {
   "cell_type": "code",
   "execution_count": null,
   "id": "e19f31fb",
   "metadata": {},
   "outputs": [],
   "source": []
  }
 ],
 "metadata": {
  "kernelspec": {
   "display_name": "Python 3 (ipykernel)",
   "language": "python",
   "name": "python3"
  },
  "language_info": {
   "codemirror_mode": {
    "name": "ipython",
    "version": 3
   },
   "file_extension": ".py",
   "mimetype": "text/x-python",
   "name": "python",
   "nbconvert_exporter": "python",
   "pygments_lexer": "ipython3",
   "version": "3.9.12"
  }
 },
 "nbformat": 4,
 "nbformat_minor": 5
}
