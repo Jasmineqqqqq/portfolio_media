{
 "cells": [
  {
   "cell_type": "code",
   "execution_count": 139,
   "id": "095b0aeb",
   "metadata": {},
   "outputs": [],
   "source": [
    "import pandas as pd\n",
    "import matplotlib.pyplot as plt\n",
    "import numpy as np\n",
    "import seaborn as sns\n",
    "%matplotlib inline\n",
    "\n",
    "\n",
    "import os\n",
    "from matplotlib import pyplot\n",
    "from sklearn import metrics\n",
    "from sklearn.preprocessing import StandardScaler\n",
    "from sklearn.preprocessing import LabelEncoder\n",
    "from scipy.stats import zscore\n",
    "\n",
    "\n",
    "import warnings                                                                 \n",
    "warnings.filterwarnings('ignore') \n",
    "\n",
    "# allow plots to appear directly in the notebook\n",
    "%matplotlib inline\n",
    "\n",
    "from subprocess import check_output\n",
    "from sklearn.metrics import accuracy_score\n",
    "from sklearn.metrics import confusion_matrix\n",
    "from sklearn.model_selection import train_test_split, GridSearchCV, cross_val_score\n",
    "from sklearn.metrics import classification_report, roc_auc_score, roc_curve\n",
    "\n",
    "from sklearn.linear_model import LogisticRegression\n",
    "from sklearn.linear_model import LinearRegression\n",
    "\n",
    "from sklearn.ensemble import RandomForestClassifier\n",
    "from sklearn.ensemble import RandomForestRegressor\n",
    "from sklearn.ensemble import AdaBoostClassifier\n",
    "from sklearn.ensemble import GradientBoostingClassifier\n",
    "from sklearn.tree import DecisionTreeClassifier\n",
    "from sklearn.svm import SVC\n",
    "from sklearn.neighbors import KNeighborsClassifier\n",
    "from sklearn.decomposition import PCA\n",
    "from sklearn.neighbors import KernelDensity"
   ]
  },
  {
   "cell_type": "code",
   "execution_count": 140,
   "id": "118d8e66",
   "metadata": {},
   "outputs": [
    {
     "data": {
      "text/html": [
       "<div>\n",
       "<style scoped>\n",
       "    .dataframe tbody tr th:only-of-type {\n",
       "        vertical-align: middle;\n",
       "    }\n",
       "\n",
       "    .dataframe tbody tr th {\n",
       "        vertical-align: top;\n",
       "    }\n",
       "\n",
       "    .dataframe thead th {\n",
       "        text-align: right;\n",
       "    }\n",
       "</style>\n",
       "<table border=\"1\" class=\"dataframe\">\n",
       "  <thead>\n",
       "    <tr style=\"text-align: right;\">\n",
       "      <th></th>\n",
       "      <th>Airline_Names</th>\n",
       "      <th>Departure_Time</th>\n",
       "      <th>Arrival_Time</th>\n",
       "      <th>Flight_Duration</th>\n",
       "      <th>Source_Place</th>\n",
       "      <th>Destination_Place</th>\n",
       "      <th>Meal_Availability</th>\n",
       "      <th>Number_Of_Stops</th>\n",
       "      <th>Flight_Prices</th>\n",
       "    </tr>\n",
       "  </thead>\n",
       "  <tbody>\n",
       "    <tr>\n",
       "      <th>0</th>\n",
       "      <td>Air Asia</td>\n",
       "      <td>12:40</td>\n",
       "      <td>20:15</td>\n",
       "      <td>7h 35m</td>\n",
       "      <td>New Delhi</td>\n",
       "      <td>Mumbai</td>\n",
       "      <td>No Meal Fare</td>\n",
       "      <td>1 Stop</td>\n",
       "      <td>5,953</td>\n",
       "    </tr>\n",
       "    <tr>\n",
       "      <th>1</th>\n",
       "      <td>Air Asia</td>\n",
       "      <td>11:55</td>\n",
       "      <td>20:15</td>\n",
       "      <td>8h 20m</td>\n",
       "      <td>New Delhi</td>\n",
       "      <td>Mumbai</td>\n",
       "      <td>No Meal Fare</td>\n",
       "      <td>1 Stop</td>\n",
       "      <td>5,953</td>\n",
       "    </tr>\n",
       "    <tr>\n",
       "      <th>2</th>\n",
       "      <td>Air Asia</td>\n",
       "      <td>16:15</td>\n",
       "      <td>06:20</td>\n",
       "      <td>14h 05m</td>\n",
       "      <td>New Delhi</td>\n",
       "      <td>Mumbai</td>\n",
       "      <td>No Meal Fare</td>\n",
       "      <td>1 Stop</td>\n",
       "      <td>5,953</td>\n",
       "    </tr>\n",
       "    <tr>\n",
       "      <th>3</th>\n",
       "      <td>Go First</td>\n",
       "      <td>18:50</td>\n",
       "      <td>20:45</td>\n",
       "      <td>1h 55m</td>\n",
       "      <td>New Delhi</td>\n",
       "      <td>Mumbai</td>\n",
       "      <td>No Meal Fare</td>\n",
       "      <td>Non Stop</td>\n",
       "      <td>5,954</td>\n",
       "    </tr>\n",
       "    <tr>\n",
       "      <th>4</th>\n",
       "      <td>Go First</td>\n",
       "      <td>09:05</td>\n",
       "      <td>11:05</td>\n",
       "      <td>2h 00m</td>\n",
       "      <td>New Delhi</td>\n",
       "      <td>Mumbai</td>\n",
       "      <td>No Meal Fare</td>\n",
       "      <td>Non Stop</td>\n",
       "      <td>5,954</td>\n",
       "    </tr>\n",
       "  </tbody>\n",
       "</table>\n",
       "</div>"
      ],
      "text/plain": [
       "  Airline_Names Departure_Time Arrival_Time Flight_Duration Source_Place  \\\n",
       "0      Air Asia          12:40        20:15          7h 35m    New Delhi   \n",
       "1      Air Asia          11:55        20:15          8h 20m    New Delhi   \n",
       "2      Air Asia          16:15        06:20         14h 05m    New Delhi   \n",
       "3      Go First          18:50        20:45          1h 55m    New Delhi   \n",
       "4      Go First          09:05        11:05          2h 00m    New Delhi   \n",
       "\n",
       "  Destination_Place Meal_Availability Number_Of_Stops Flight_Prices  \n",
       "0            Mumbai      No Meal Fare          1 Stop         5,953  \n",
       "1            Mumbai      No Meal Fare          1 Stop         5,953  \n",
       "2            Mumbai      No Meal Fare          1 Stop         5,953  \n",
       "3            Mumbai      No Meal Fare        Non Stop         5,954  \n",
       "4            Mumbai      No Meal Fare        Non Stop         5,954  "
      ]
     },
     "execution_count": 140,
     "metadata": {},
     "output_type": "execute_result"
    }
   ],
   "source": [
    "# Get the CSV data here and print head\n",
    "df= pd.read_csv('flight_dataset.csv')\n",
    "df.head()"
   ]
  },
  {
   "cell_type": "code",
   "execution_count": 141,
   "id": "67ecacda",
   "metadata": {},
   "outputs": [],
   "source": [
    "# Departure time is when a plane leaves the gate. \n",
    "# Similar to Date_of_Journey we can extract values from Dep_Time\n",
    "\n",
    "# Extracting Hours\n",
    "df[\"Departure_Hour\"] = pd.to_datetime(df[\"Departure_Time\"]).dt.hour\n"
   ]
  },
  {
   "cell_type": "code",
   "execution_count": 142,
   "id": "9d640845",
   "metadata": {},
   "outputs": [],
   "source": [
    "# Extracting Minutes\n",
    "df[\"Departure_Min\"] = pd.to_datetime(df[\"Departure_Time\"]).dt.minute"
   ]
  },
  {
   "cell_type": "code",
   "execution_count": 143,
   "id": "8a881b3a",
   "metadata": {},
   "outputs": [],
   "source": [
    "#dropping the  depature column\n",
    "df.drop('Departure_Time',axis=1,inplace=True)\n"
   ]
  },
  {
   "cell_type": "code",
   "execution_count": 144,
   "id": "456d82d9",
   "metadata": {},
   "outputs": [],
   "source": [
    "#Flight_Duration\n",
    "# Extracting Hours\n",
    "df[\"Arrival_Time_Hour\"] = pd.to_datetime(df[\"Arrival_Time\"]).dt.hour\n",
    "# Extracting Minutes\n",
    "df[\"Arrival_Time_Min\"] = pd.to_datetime(df[\"Arrival_Time\"]).dt.minute"
   ]
  },
  {
   "cell_type": "code",
   "execution_count": 145,
   "id": "b5d09f4f",
   "metadata": {},
   "outputs": [],
   "source": [
    "# dropping the arrival column\n",
    "df.drop('Arrival_Time',axis=1,inplace=True)"
   ]
  },
  {
   "cell_type": "code",
   "execution_count": 146,
   "id": "4a2b1e73",
   "metadata": {
    "scrolled": true
   },
   "outputs": [
    {
     "data": {
      "text/html": [
       "<div>\n",
       "<style scoped>\n",
       "    .dataframe tbody tr th:only-of-type {\n",
       "        vertical-align: middle;\n",
       "    }\n",
       "\n",
       "    .dataframe tbody tr th {\n",
       "        vertical-align: top;\n",
       "    }\n",
       "\n",
       "    .dataframe thead th {\n",
       "        text-align: right;\n",
       "    }\n",
       "</style>\n",
       "<table border=\"1\" class=\"dataframe\">\n",
       "  <thead>\n",
       "    <tr style=\"text-align: right;\">\n",
       "      <th></th>\n",
       "      <th>Airline_Names</th>\n",
       "      <th>Flight_Duration</th>\n",
       "      <th>Source_Place</th>\n",
       "      <th>Destination_Place</th>\n",
       "      <th>Meal_Availability</th>\n",
       "      <th>Number_Of_Stops</th>\n",
       "      <th>Flight_Prices</th>\n",
       "      <th>Departure_Hour</th>\n",
       "      <th>Departure_Min</th>\n",
       "      <th>Arrival_Time_Hour</th>\n",
       "      <th>Arrival_Time_Min</th>\n",
       "      <th>FD_Hour</th>\n",
       "      <th>FD_Min</th>\n",
       "    </tr>\n",
       "  </thead>\n",
       "  <tbody>\n",
       "    <tr>\n",
       "      <th>0</th>\n",
       "      <td>Air Asia</td>\n",
       "      <td>7.583333</td>\n",
       "      <td>New Delhi</td>\n",
       "      <td>Mumbai</td>\n",
       "      <td>No Meal Fare</td>\n",
       "      <td>1 Stop</td>\n",
       "      <td>5,953</td>\n",
       "      <td>12</td>\n",
       "      <td>40</td>\n",
       "      <td>20</td>\n",
       "      <td>15</td>\n",
       "      <td>7.0</td>\n",
       "      <td>35.0</td>\n",
       "    </tr>\n",
       "    <tr>\n",
       "      <th>1</th>\n",
       "      <td>Air Asia</td>\n",
       "      <td>8.333333</td>\n",
       "      <td>New Delhi</td>\n",
       "      <td>Mumbai</td>\n",
       "      <td>No Meal Fare</td>\n",
       "      <td>1 Stop</td>\n",
       "      <td>5,953</td>\n",
       "      <td>11</td>\n",
       "      <td>55</td>\n",
       "      <td>20</td>\n",
       "      <td>15</td>\n",
       "      <td>8.0</td>\n",
       "      <td>20.0</td>\n",
       "    </tr>\n",
       "    <tr>\n",
       "      <th>2</th>\n",
       "      <td>Air Asia</td>\n",
       "      <td>14.083333</td>\n",
       "      <td>New Delhi</td>\n",
       "      <td>Mumbai</td>\n",
       "      <td>No Meal Fare</td>\n",
       "      <td>1 Stop</td>\n",
       "      <td>5,953</td>\n",
       "      <td>16</td>\n",
       "      <td>15</td>\n",
       "      <td>6</td>\n",
       "      <td>20</td>\n",
       "      <td>14.0</td>\n",
       "      <td>5.0</td>\n",
       "    </tr>\n",
       "    <tr>\n",
       "      <th>3</th>\n",
       "      <td>Go First</td>\n",
       "      <td>1.916667</td>\n",
       "      <td>New Delhi</td>\n",
       "      <td>Mumbai</td>\n",
       "      <td>No Meal Fare</td>\n",
       "      <td>Non Stop</td>\n",
       "      <td>5,954</td>\n",
       "      <td>18</td>\n",
       "      <td>50</td>\n",
       "      <td>20</td>\n",
       "      <td>45</td>\n",
       "      <td>1.0</td>\n",
       "      <td>55.0</td>\n",
       "    </tr>\n",
       "    <tr>\n",
       "      <th>4</th>\n",
       "      <td>Go First</td>\n",
       "      <td>2.000000</td>\n",
       "      <td>New Delhi</td>\n",
       "      <td>Mumbai</td>\n",
       "      <td>No Meal Fare</td>\n",
       "      <td>Non Stop</td>\n",
       "      <td>5,954</td>\n",
       "      <td>9</td>\n",
       "      <td>5</td>\n",
       "      <td>11</td>\n",
       "      <td>5</td>\n",
       "      <td>2.0</td>\n",
       "      <td>0.0</td>\n",
       "    </tr>\n",
       "  </tbody>\n",
       "</table>\n",
       "</div>"
      ],
      "text/plain": [
       "  Airline_Names  Flight_Duration Source_Place Destination_Place  \\\n",
       "0      Air Asia         7.583333    New Delhi            Mumbai   \n",
       "1      Air Asia         8.333333    New Delhi            Mumbai   \n",
       "2      Air Asia        14.083333    New Delhi            Mumbai   \n",
       "3      Go First         1.916667    New Delhi            Mumbai   \n",
       "4      Go First         2.000000    New Delhi            Mumbai   \n",
       "\n",
       "  Meal_Availability Number_Of_Stops Flight_Prices  Departure_Hour  \\\n",
       "0      No Meal Fare          1 Stop         5,953              12   \n",
       "1      No Meal Fare          1 Stop         5,953              11   \n",
       "2      No Meal Fare          1 Stop         5,953              16   \n",
       "3      No Meal Fare        Non Stop         5,954              18   \n",
       "4      No Meal Fare        Non Stop         5,954               9   \n",
       "\n",
       "   Departure_Min  Arrival_Time_Hour  Arrival_Time_Min  FD_Hour  FD_Min  \n",
       "0             40                 20                15      7.0    35.0  \n",
       "1             55                 20                15      8.0    20.0  \n",
       "2             15                  6                20     14.0     5.0  \n",
       "3             50                 20                45      1.0    55.0  \n",
       "4              5                 11                 5      2.0     0.0  "
      ]
     },
     "execution_count": 146,
     "metadata": {},
     "output_type": "execute_result"
    }
   ],
   "source": [
    "# flight duration conversion \n",
    "\n",
    "df[\"FD_Hour\"] = df.Flight_Duration.str.split('h').str.get(0)\n",
    "df[\"FD_Min\"] = df.Flight_Duration.str.split('h').str.get(1)\n",
    "df[\"FD_Min\"] = df[\"FD_Min\"].str.split('m').str.get(0)\n",
    "df[\"FD_Hour\"] = df['FD_Hour'].astype('float')\n",
    "df[\"FD_Min\"] = df['FD_Min'].astype('float')\n",
    "df[\"Flight_Duration\"] = df[\"FD_Hour\"] + df[\"FD_Min\"] / 60\n",
    "df.head()"
   ]
  },
  {
   "cell_type": "code",
   "execution_count": 147,
   "id": "ebd3578f",
   "metadata": {},
   "outputs": [],
   "source": [
    "#dropping flight duration\n",
    "# dropping the arrival column\n",
    "df.drop('Flight_Duration',axis=1,inplace=True)"
   ]
  },
  {
   "cell_type": "code",
   "execution_count": 148,
   "id": "52a953f5",
   "metadata": {},
   "outputs": [
    {
     "name": "stdout",
     "output_type": "stream",
     "text": [
      "<class 'pandas.core.frame.DataFrame'>\n",
      "RangeIndex: 5805 entries, 0 to 5804\n",
      "Data columns (total 12 columns):\n",
      " #   Column             Non-Null Count  Dtype  \n",
      "---  ------             --------------  -----  \n",
      " 0   Airline_Names      5805 non-null   object \n",
      " 1   Source_Place       5805 non-null   object \n",
      " 2   Destination_Place  5805 non-null   object \n",
      " 3   Meal_Availability  5805 non-null   object \n",
      " 4   Number_Of_Stops    5805 non-null   object \n",
      " 5   Flight_Prices      5805 non-null   object \n",
      " 6   Departure_Hour     5805 non-null   int64  \n",
      " 7   Departure_Min      5805 non-null   int64  \n",
      " 8   Arrival_Time_Hour  5805 non-null   int64  \n",
      " 9   Arrival_Time_Min   5805 non-null   int64  \n",
      " 10  FD_Hour            5805 non-null   float64\n",
      " 11  FD_Min             5805 non-null   float64\n",
      "dtypes: float64(2), int64(4), object(6)\n",
      "memory usage: 544.3+ KB\n"
     ]
    }
   ],
   "source": [
    "df.info()"
   ]
  },
  {
   "cell_type": "code",
   "execution_count": 149,
   "id": "552ac75f",
   "metadata": {},
   "outputs": [],
   "source": [
    "#finding unique values in object data types\n",
    "def explore_object_type(df,feature_name):\n",
    "    if df[feature_name].dtype == 'object':\n",
    "        print(df[feature_name].value_counts())"
   ]
  },
  {
   "cell_type": "code",
   "execution_count": 150,
   "id": "81fa98d3",
   "metadata": {},
   "outputs": [
    {
     "name": "stdout",
     "output_type": "stream",
     "text": [
      "\n",
      "\"Airline_Names's\" Values with count are :\n",
      "IndiGo       1782\n",
      "Air India    1638\n",
      "Vistara      1514\n",
      "Go First      492\n",
      "Air Asia      213\n",
      "SpiceJet      166\n",
      "Name: Airline_Names, dtype: int64\n",
      "\n",
      "\"Source_Place's\" Values with count are :\n",
      "Mumbai       806\n",
      "Bangalore    755\n",
      "New Delhi    748\n",
      "Kolkata      744\n",
      "Hyderabad    614\n",
      "Goa          612\n",
      "Chennai      580\n",
      "Lucknow      519\n",
      "Jaipur       427\n",
      "Name: Source_Place, dtype: int64\n",
      "\n",
      "\"Destination_Place's\" Values with count are :\n",
      "Mumbai       805\n",
      "Bangalore    786\n",
      "Hyderabad    759\n",
      "New Delhi    727\n",
      "Kolkata      710\n",
      "Chennai      648\n",
      "Goa          545\n",
      "Lucknow      521\n",
      "Jaipur       304\n",
      "Name: Destination_Place, dtype: int64\n",
      "\n",
      "\"Meal_Availability's\" Values with count are :\n",
      "No Meal Fare    4252\n",
      "Free Meal       1014\n",
      "eCash 250        539\n",
      "Name: Meal_Availability, dtype: int64\n",
      "\n",
      "\"Number_Of_Stops's\" Values with count are :\n",
      "1 Stop       3696\n",
      "2 Stop(s)    1154\n",
      "Non Stop      693\n",
      "3 Stop(s)     244\n",
      "4 Stop(s)      18\n",
      "Name: Number_Of_Stops, dtype: int64\n",
      "\n",
      "\"Flight_Prices's\" Values with count are :\n",
      "7,425     111\n",
      "5,955      79\n",
      "6,489      71\n",
      "7,626      63\n",
      "9,840      52\n",
      "         ... \n",
      "18,273      1\n",
      "18,693      1\n",
      "8,696       1\n",
      "8,697       1\n",
      "19,749      1\n",
      "Name: Flight_Prices, Length: 1571, dtype: int64\n"
     ]
    }
   ],
   "source": [
    "for featureName in df:\n",
    "    if df[featureName].dtype == 'object':\n",
    "        print('\\n\"' + str(featureName) + '\\'s\" Values with count are :')\n",
    "        explore_object_type(df, str(featureName))"
   ]
  },
  {
   "cell_type": "code",
   "execution_count": 151,
   "id": "b8bf76d7",
   "metadata": {},
   "outputs": [
    {
     "name": "stdout",
     "output_type": "stream",
     "text": [
      "could not convert string to float: '5,953'\n"
     ]
    }
   ],
   "source": [
    "#converting Driven Kilometers to numerical as it is listed in object type of data as listed above\n",
    "try:\n",
    "    df['Flight_Prices'] = df['Flight_Prices'].astype(float)\n",
    "except ValueError as ve:\n",
    "    print (ve)"
   ]
  },
  {
   "cell_type": "code",
   "execution_count": 152,
   "id": "08dc1735",
   "metadata": {},
   "outputs": [],
   "source": [
    "#removing unique features in flight column- by removing ','-  comma\n",
    "df['Flight_Prices'] = df['Flight_Prices'].str.replace(',', '')"
   ]
  },
  {
   "cell_type": "code",
   "execution_count": 153,
   "id": "cd68e06d",
   "metadata": {},
   "outputs": [
    {
     "data": {
      "text/plain": [
       "0        5953\n",
       "1        5953\n",
       "2        5953\n",
       "3        5954\n",
       "4        5954\n",
       "        ...  \n",
       "5800     9302\n",
       "5801    16287\n",
       "5802    16865\n",
       "5803    16865\n",
       "5804    19749\n",
       "Name: Flight_Prices, Length: 5805, dtype: object"
      ]
     },
     "execution_count": 153,
     "metadata": {},
     "output_type": "execute_result"
    }
   ],
   "source": [
    "df['Flight_Prices']"
   ]
  },
  {
   "cell_type": "code",
   "execution_count": 154,
   "id": "e836beb8",
   "metadata": {},
   "outputs": [],
   "source": [
    "#converting flight prices feature column to float\n",
    "try:\n",
    "    df['Flight_Prices'] = df['Flight_Prices'].astype(float)\n",
    "except ValueError as ve:\n",
    "    print (ve)"
   ]
  },
  {
   "cell_type": "code",
   "execution_count": 155,
   "id": "27ba2876",
   "metadata": {},
   "outputs": [
    {
     "data": {
      "text/html": [
       "<div>\n",
       "<style scoped>\n",
       "    .dataframe tbody tr th:only-of-type {\n",
       "        vertical-align: middle;\n",
       "    }\n",
       "\n",
       "    .dataframe tbody tr th {\n",
       "        vertical-align: top;\n",
       "    }\n",
       "\n",
       "    .dataframe thead th {\n",
       "        text-align: right;\n",
       "    }\n",
       "</style>\n",
       "<table border=\"1\" class=\"dataframe\">\n",
       "  <thead>\n",
       "    <tr style=\"text-align: right;\">\n",
       "      <th></th>\n",
       "      <th>count</th>\n",
       "      <th>unique</th>\n",
       "      <th>top</th>\n",
       "      <th>freq</th>\n",
       "    </tr>\n",
       "  </thead>\n",
       "  <tbody>\n",
       "    <tr>\n",
       "      <th>Airline_Names</th>\n",
       "      <td>5805</td>\n",
       "      <td>6</td>\n",
       "      <td>IndiGo</td>\n",
       "      <td>1782</td>\n",
       "    </tr>\n",
       "    <tr>\n",
       "      <th>Source_Place</th>\n",
       "      <td>5805</td>\n",
       "      <td>9</td>\n",
       "      <td>Mumbai</td>\n",
       "      <td>806</td>\n",
       "    </tr>\n",
       "    <tr>\n",
       "      <th>Destination_Place</th>\n",
       "      <td>5805</td>\n",
       "      <td>9</td>\n",
       "      <td>Mumbai</td>\n",
       "      <td>805</td>\n",
       "    </tr>\n",
       "    <tr>\n",
       "      <th>Meal_Availability</th>\n",
       "      <td>5805</td>\n",
       "      <td>3</td>\n",
       "      <td>No Meal Fare</td>\n",
       "      <td>4252</td>\n",
       "    </tr>\n",
       "    <tr>\n",
       "      <th>Number_Of_Stops</th>\n",
       "      <td>5805</td>\n",
       "      <td>5</td>\n",
       "      <td>1 Stop</td>\n",
       "      <td>3696</td>\n",
       "    </tr>\n",
       "  </tbody>\n",
       "</table>\n",
       "</div>"
      ],
      "text/plain": [
       "                  count unique           top  freq\n",
       "Airline_Names      5805      6        IndiGo  1782\n",
       "Source_Place       5805      9        Mumbai   806\n",
       "Destination_Place  5805      9        Mumbai   805\n",
       "Meal_Availability  5805      3  No Meal Fare  4252\n",
       "Number_Of_Stops    5805      5        1 Stop  3696"
      ]
     },
     "execution_count": 155,
     "metadata": {},
     "output_type": "execute_result"
    }
   ],
   "source": [
    "df.describe(include=['object','datetime']).transpose()"
   ]
  },
  {
   "cell_type": "code",
   "execution_count": 156,
   "id": "5f20e38a",
   "metadata": {},
   "outputs": [],
   "source": [
    "#as we can see that 1 Stop is the  most preferred way to travel by most passengers\n",
    "#as we can see Indigo seems to be the mlst popular airline among cutomers\n",
    "#Mumbai seems to be the most commonly used source place for ost passengers\n",
    "#Mumbai seems to be the mst ppular destination \n",
    "#Most customers have opted for 'no meals fare' on flight as their meal preference"
   ]
  },
  {
   "cell_type": "code",
   "execution_count": 157,
   "id": "8d086722",
   "metadata": {},
   "outputs": [
    {
     "data": {
      "image/png": "[encoded data removed]",
      "text/plain": [
       "<Figure size 720x360 with 1 Axes>"
      ]
     },
     "metadata": {
      "needs_background": "light"
     },
     "output_type": "display_data"
    },
    {
     "data": {
      "image/png": "[encoded data removed]",
      "text/plain": [
       "<Figure size 720x360 with 1 Axes>"
      ]
     },
     "metadata": {
      "needs_background": "light"
     },
     "output_type": "display_data"
    },
    {
     "data": {
      "image/png": "[encoded data removed]",
      "text/plain": [
       "<Figure size 720x360 with 1 Axes>"
      ]
     },
     "metadata": {
      "needs_background": "light"
     },
     "output_type": "display_data"
    },
    {
     "data": {
      "image/png": "[encoded data removed]",
      "text/plain": [
       "<Figure size 720x360 with 1 Axes>"
      ]
     },
     "metadata": {
      "needs_background": "light"
     },
     "output_type": "display_data"
    },
    {
     "data": {
      "image/png": "[encoded data removed]",
      "text/plain": [
       "<Figure size 720x360 with 1 Axes>"
      ]
     },
     "metadata": {
      "needs_background": "light"
     },
     "output_type": "display_data"
    },
    {
     "data": {
      "image/png": "[encoded data removed]",
      "text/plain": [
       "<Figure size 720x360 with 1 Axes>"
      ]
     },
     "metadata": {
      "needs_background": "light"
     },
     "output_type": "display_data"
    },
    {
     "data": {
      "image/png": "[encoded data removed]",
      "text/plain": [
       "<Figure size 720x360 with 1 Axes>"
      ]
     },
     "metadata": {
      "needs_background": "light"
     },
     "output_type": "display_data"
    }
   ],
   "source": [
    "#measuring flight price with all other columns:\n",
    "for col in df.columns:\n",
    "    if df[col].dtype != 'object':\n",
    "        plt.figure(figsize=(10,5))\n",
    "        sns.scatterplot(x=col,y='Flight_Prices',data=df)"
   ]
  },
  {
   "cell_type": "code",
   "execution_count": 158,
   "id": "14a3f72f",
   "metadata": {},
   "outputs": [
    {
     "data": {
      "text/plain": [
       "<AxesSubplot:>"
      ]
     },
     "execution_count": 158,
     "metadata": {},
     "output_type": "execute_result"
    },
    {
     "data": {
      "image/png": "[encoded data removed]",
      "text/plain": [
       "<Figure size 432x288 with 1 Axes>"
      ]
     },
     "metadata": {
      "needs_background": "light"
     },
     "output_type": "display_data"
    }
   ],
   "source": [
    "#checking for any missing data\n",
    "# Missing Data Pattern \n",
    "import seaborn as sns\n",
    "sns.heatmap(df.isnull(), cbar=False, cmap='PuBu')"
   ]
  },
  {
   "cell_type": "code",
   "execution_count": 159,
   "id": "9bab56c4",
   "metadata": {},
   "outputs": [
    {
     "data": {
      "text/html": [
       "<div>\n",
       "<style scoped>\n",
       "    .dataframe tbody tr th:only-of-type {\n",
       "        vertical-align: middle;\n",
       "    }\n",
       "\n",
       "    .dataframe tbody tr th {\n",
       "        vertical-align: top;\n",
       "    }\n",
       "\n",
       "    .dataframe thead th {\n",
       "        text-align: right;\n",
       "    }\n",
       "</style>\n",
       "<table border=\"1\" class=\"dataframe\">\n",
       "  <thead>\n",
       "    <tr style=\"text-align: right;\">\n",
       "      <th></th>\n",
       "      <th>Total</th>\n",
       "      <th>Percent</th>\n",
       "    </tr>\n",
       "  </thead>\n",
       "  <tbody>\n",
       "    <tr>\n",
       "      <th>Airline_Names</th>\n",
       "      <td>0</td>\n",
       "      <td>0.0</td>\n",
       "    </tr>\n",
       "    <tr>\n",
       "      <th>Source_Place</th>\n",
       "      <td>0</td>\n",
       "      <td>0.0</td>\n",
       "    </tr>\n",
       "    <tr>\n",
       "      <th>Destination_Place</th>\n",
       "      <td>0</td>\n",
       "      <td>0.0</td>\n",
       "    </tr>\n",
       "    <tr>\n",
       "      <th>Meal_Availability</th>\n",
       "      <td>0</td>\n",
       "      <td>0.0</td>\n",
       "    </tr>\n",
       "    <tr>\n",
       "      <th>Number_Of_Stops</th>\n",
       "      <td>0</td>\n",
       "      <td>0.0</td>\n",
       "    </tr>\n",
       "  </tbody>\n",
       "</table>\n",
       "</div>"
      ],
      "text/plain": [
       "                   Total  Percent\n",
       "Airline_Names          0      0.0\n",
       "Source_Place           0      0.0\n",
       "Destination_Place      0      0.0\n",
       "Meal_Availability      0      0.0\n",
       "Number_Of_Stops        0      0.0"
      ]
     },
     "execution_count": 159,
     "metadata": {},
     "output_type": "execute_result"
    }
   ],
   "source": [
    "total = df.isnull().sum().sort_values(ascending=False)\n",
    "percent = (df.isnull().sum()/df.isnull().count()).sort_values(ascending=False)\n",
    "missing = pd.concat([total, percent], axis=1, keys=['Total', 'Percent'])\n",
    "missing.head()\n",
    "#as we can see, there are no missing values"
   ]
  },
  {
   "cell_type": "code",
   "execution_count": 160,
   "id": "2b30a75e",
   "metadata": {},
   "outputs": [
    {
     "data": {
      "image/png": "[encoded data removed]",
      "text/plain": [
       "<Figure size 1080x360 with 1 Axes>"
      ]
     },
     "metadata": {
      "needs_background": "light"
     },
     "output_type": "display_data"
    }
   ],
   "source": [
    "df[\"Flight_Prices\"].hist(bins=50, figsize=(15, 5))\n",
    "plt.title(\"Highly Preferred Price Range\", fontsize=16);"
   ]
  },
  {
   "cell_type": "code",
   "execution_count": 161,
   "id": "0c2a317a",
   "metadata": {},
   "outputs": [],
   "source": [
    "#label ensoding \n",
    "from sklearn.preprocessing import LabelEncoder\n",
    "for col in df.columns:\n",
    "    if df[col].dtypes == 'object':\n",
    "        encoder = LabelEncoder()\n",
    "        df[col] = encoder.fit_transform(df[col])"
   ]
  },
  {
   "cell_type": "code",
   "execution_count": 162,
   "id": "13f5c0ea",
   "metadata": {},
   "outputs": [
    {
     "data": {
      "text/html": [
       "<div>\n",
       "<style scoped>\n",
       "    .dataframe tbody tr th:only-of-type {\n",
       "        vertical-align: middle;\n",
       "    }\n",
       "\n",
       "    .dataframe tbody tr th {\n",
       "        vertical-align: top;\n",
       "    }\n",
       "\n",
       "    .dataframe thead th {\n",
       "        text-align: right;\n",
       "    }\n",
       "</style>\n",
       "<table border=\"1\" class=\"dataframe\">\n",
       "  <thead>\n",
       "    <tr style=\"text-align: right;\">\n",
       "      <th></th>\n",
       "      <th>Airline_Names</th>\n",
       "      <th>Source_Place</th>\n",
       "      <th>Destination_Place</th>\n",
       "      <th>Meal_Availability</th>\n",
       "      <th>Number_Of_Stops</th>\n",
       "      <th>Flight_Prices</th>\n",
       "      <th>Departure_Hour</th>\n",
       "      <th>Departure_Min</th>\n",
       "      <th>Arrival_Time_Hour</th>\n",
       "      <th>Arrival_Time_Min</th>\n",
       "      <th>FD_Hour</th>\n",
       "      <th>FD_Min</th>\n",
       "    </tr>\n",
       "  </thead>\n",
       "  <tbody>\n",
       "    <tr>\n",
       "      <th>0</th>\n",
       "      <td>0</td>\n",
       "      <td>8</td>\n",
       "      <td>7</td>\n",
       "      <td>1</td>\n",
       "      <td>0</td>\n",
       "      <td>5953.0</td>\n",
       "      <td>12</td>\n",
       "      <td>40</td>\n",
       "      <td>20</td>\n",
       "      <td>15</td>\n",
       "      <td>7.0</td>\n",
       "      <td>35.0</td>\n",
       "    </tr>\n",
       "    <tr>\n",
       "      <th>1</th>\n",
       "      <td>0</td>\n",
       "      <td>8</td>\n",
       "      <td>7</td>\n",
       "      <td>1</td>\n",
       "      <td>0</td>\n",
       "      <td>5953.0</td>\n",
       "      <td>11</td>\n",
       "      <td>55</td>\n",
       "      <td>20</td>\n",
       "      <td>15</td>\n",
       "      <td>8.0</td>\n",
       "      <td>20.0</td>\n",
       "    </tr>\n",
       "    <tr>\n",
       "      <th>2</th>\n",
       "      <td>0</td>\n",
       "      <td>8</td>\n",
       "      <td>7</td>\n",
       "      <td>1</td>\n",
       "      <td>0</td>\n",
       "      <td>5953.0</td>\n",
       "      <td>16</td>\n",
       "      <td>15</td>\n",
       "      <td>6</td>\n",
       "      <td>20</td>\n",
       "      <td>14.0</td>\n",
       "      <td>5.0</td>\n",
       "    </tr>\n",
       "    <tr>\n",
       "      <th>3</th>\n",
       "      <td>2</td>\n",
       "      <td>8</td>\n",
       "      <td>7</td>\n",
       "      <td>1</td>\n",
       "      <td>4</td>\n",
       "      <td>5954.0</td>\n",
       "      <td>18</td>\n",
       "      <td>50</td>\n",
       "      <td>20</td>\n",
       "      <td>45</td>\n",
       "      <td>1.0</td>\n",
       "      <td>55.0</td>\n",
       "    </tr>\n",
       "    <tr>\n",
       "      <th>4</th>\n",
       "      <td>2</td>\n",
       "      <td>8</td>\n",
       "      <td>7</td>\n",
       "      <td>1</td>\n",
       "      <td>4</td>\n",
       "      <td>5954.0</td>\n",
       "      <td>9</td>\n",
       "      <td>5</td>\n",
       "      <td>11</td>\n",
       "      <td>5</td>\n",
       "      <td>2.0</td>\n",
       "      <td>0.0</td>\n",
       "    </tr>\n",
       "  </tbody>\n",
       "</table>\n",
       "</div>"
      ],
      "text/plain": [
       "   Airline_Names  Source_Place  Destination_Place  Meal_Availability  \\\n",
       "0              0             8                  7                  1   \n",
       "1              0             8                  7                  1   \n",
       "2              0             8                  7                  1   \n",
       "3              2             8                  7                  1   \n",
       "4              2             8                  7                  1   \n",
       "\n",
       "   Number_Of_Stops  Flight_Prices  Departure_Hour  Departure_Min  \\\n",
       "0                0         5953.0              12             40   \n",
       "1                0         5953.0              11             55   \n",
       "2                0         5953.0              16             15   \n",
       "3                4         5954.0              18             50   \n",
       "4                4         5954.0               9              5   \n",
       "\n",
       "   Arrival_Time_Hour  Arrival_Time_Min  FD_Hour  FD_Min  \n",
       "0                 20                15      7.0    35.0  \n",
       "1                 20                15      8.0    20.0  \n",
       "2                  6                20     14.0     5.0  \n",
       "3                 20                45      1.0    55.0  \n",
       "4                 11                 5      2.0     0.0  "
      ]
     },
     "execution_count": 162,
     "metadata": {},
     "output_type": "execute_result"
    }
   ],
   "source": [
    "df.head()"
   ]
  },
  {
   "cell_type": "code",
   "execution_count": 163,
   "id": "ad362523",
   "metadata": {},
   "outputs": [
    {
     "data": {
      "text/plain": [
       "<AxesSubplot:>"
      ]
     },
     "execution_count": 163,
     "metadata": {},
     "output_type": "execute_result"
    },
    {
     "data": {
      "image/png": "[encoded data removed]",
      "text/plain": [
       "<Figure size 1584x504 with 2 Axes>"
      ]
     },
     "metadata": {
      "needs_background": "light"
     },
     "output_type": "display_data"
    }
   ],
   "source": [
    "import matplotlib.pyplot as plt\n",
    "plt.figure(figsize=(22,7))\n",
    "sns.heatmap(df.describe(),annot=True,linewidths=0.1,linecolor=\"black\",fmt=\"0.2f\")"
   ]
  },
  {
   "cell_type": "code",
   "execution_count": 164,
   "id": "8fe47009",
   "metadata": {},
   "outputs": [
    {
     "data": {
      "text/plain": [
       "<AxesSubplot:>"
      ]
     },
     "execution_count": 164,
     "metadata": {},
     "output_type": "execute_result"
    },
    {
     "data": {
      "image/png": "[encoded data removed]",
      "text/plain": [
       "<Figure size 1440x1296 with 2 Axes>"
      ]
     },
     "metadata": {
      "needs_background": "light"
     },
     "output_type": "display_data"
    }
   ],
   "source": [
    "plt.figure(figsize=(20,18))\n",
    "sns.heatmap(df.corr(),annot=True,linewidths=0.1,linecolor=\"black\",fmt=\"0.2f\")"
   ]
  },
  {
   "cell_type": "code",
   "execution_count": 119,
   "id": "2598f371",
   "metadata": {},
   "outputs": [
    {
     "data": {
      "text/plain": [
       "Flight_Prices        1.000000\n",
       "Flight_Duration      0.483379\n",
       "FD_Hour              0.482732\n",
       "Arrival_Time_Min     0.031590\n",
       "Destination_Place    0.025163\n",
       "Airline_Names        0.023058\n",
       "FD_Min               0.019550\n",
       "Departure_Hour       0.015430\n",
       "Arrival_Time_Hour    0.008897\n",
       "Departure_Min       -0.001154\n",
       "Source_Place        -0.040575\n",
       "Number_Of_Stops     -0.194510\n",
       "Meal_Availability   -0.283551\n",
       "Name: Flight_Prices, dtype: float64"
      ]
     },
     "execution_count": 119,
     "metadata": {},
     "output_type": "execute_result"
    }
   ],
   "source": [
    "#RELATION WITH Price\n",
    "corr_matrix=df.corr()\n",
    "corr_matrix[\"Flight_Prices\"].sort_values(ascending=False)"
   ]
  },
  {
   "cell_type": "code",
   "execution_count": null,
   "id": "c06851c9",
   "metadata": {},
   "outputs": [],
   "source": [
    "# FD_Hour have a strong relation"
   ]
  },
  {
   "cell_type": "code",
   "execution_count": 165,
   "id": "57762622",
   "metadata": {},
   "outputs": [
    {
     "data": {
      "text/plain": [
       "Airline_Names        0.097880\n",
       "Source_Place        -0.069663\n",
       "Destination_Place   -0.024310\n",
       "Meal_Availability   -0.129523\n",
       "Number_Of_Stops      1.717912\n",
       "Flight_Prices        1.055364\n",
       "Departure_Hour       0.221858\n",
       "Departure_Min        0.059660\n",
       "Arrival_Time_Hour   -0.526934\n",
       "Arrival_Time_Min    -0.142671\n",
       "FD_Hour              0.736539\n",
       "FD_Min               0.041972\n",
       "dtype: float64"
      ]
     },
     "execution_count": 165,
     "metadata": {},
     "output_type": "execute_result"
    }
   ],
   "source": [
    "#checking skewness\n",
    "df.skew()"
   ]
  },
  {
   "cell_type": "code",
   "execution_count": null,
   "id": "79584b13",
   "metadata": {},
   "outputs": [],
   "source": [
    "# soem of the features seems to eb skewed\n",
    "Number_Of_Stops , Airline_Names,Source_Place       "
   ]
  },
  {
   "cell_type": "code",
   "execution_count": 169,
   "id": "118af654",
   "metadata": {},
   "outputs": [],
   "source": [
    "#dividing data\n",
    "X = df.drop(['Flight_Prices'], axis=1)\n",
    "y=df['Flight_Prices']"
   ]
  },
  {
   "cell_type": "code",
   "execution_count": 170,
   "id": "6102e623",
   "metadata": {},
   "outputs": [],
   "source": [
    "#Transforming data to remove skewness:\n",
    "from sklearn.preprocessing import power_transform\n",
    "X_new=power_transform(X)"
   ]
  },
  {
   "cell_type": "code",
   "execution_count": 171,
   "id": "3c3c0210",
   "metadata": {},
   "outputs": [
    {
     "data": {
      "text/plain": [
       "array([[-2.00971958,  1.35621525,  1.0586791 , ..., -0.74850457,\n",
       "        -0.47161052,  0.53763865],\n",
       "       [-2.00971958,  1.35621525,  1.0586791 , ..., -0.74850457,\n",
       "        -0.31396595, -0.27348619],\n",
       "       [-2.00971958,  1.35621525,  1.0586791 , ..., -0.44579994,\n",
       "         0.44351568, -1.32579769],\n",
       "       ...,\n",
       "       [-1.13104658,  0.72335936,  0.08668131, ..., -0.44579994,\n",
       "         0.83859759,  0.53763865],\n",
       "       [-1.13104658,  0.72335936,  0.08668131, ..., -0.44579994,\n",
       "         1.33670822,  0.01300152],\n",
       "       [-1.13104658,  0.72335936,  0.08668131, ..., -0.44579994,\n",
       "         0.74555809,  1.24345282]])"
      ]
     },
     "execution_count": 171,
     "metadata": {},
     "output_type": "execute_result"
    }
   ],
   "source": [
    "X_new"
   ]
  },
  {
   "cell_type": "code",
   "execution_count": 172,
   "id": "e51b8a8b",
   "metadata": {},
   "outputs": [],
   "source": [
    "from sklearn.model_selection import train_test_split\n",
    "from sklearn.preprocessing import StandardScaler\n",
    "\n",
    "from sklearn.preprocessing import StandardScaler\n",
    "sc = StandardScaler()\n",
    "Scaled_X=sc.fit_transform(X_new)\n"
   ]
  },
  {
   "cell_type": "code",
   "execution_count": 173,
   "id": "2153824b",
   "metadata": {},
   "outputs": [
    {
     "data": {
      "text/plain": [
       "array([[-2.00971958,  1.35621525,  1.0586791 , ..., -0.74850457,\n",
       "        -0.47161052,  0.53763865],\n",
       "       [-2.00971958,  1.35621525,  1.0586791 , ..., -0.74850457,\n",
       "        -0.31396595, -0.27348619],\n",
       "       [-2.00971958,  1.35621525,  1.0586791 , ..., -0.44579994,\n",
       "         0.44351568, -1.32579769],\n",
       "       ...,\n",
       "       [-1.13104658,  0.72335936,  0.08668131, ..., -0.44579994,\n",
       "         0.83859759,  0.53763865],\n",
       "       [-1.13104658,  0.72335936,  0.08668131, ..., -0.44579994,\n",
       "         1.33670822,  0.01300152],\n",
       "       [-1.13104658,  0.72335936,  0.08668131, ..., -0.44579994,\n",
       "         0.74555809,  1.24345282]])"
      ]
     },
     "execution_count": 173,
     "metadata": {},
     "output_type": "execute_result"
    }
   ],
   "source": [
    "#Transforming data to remove skewness:\n",
    "Scaled_X"
   ]
  },
  {
   "cell_type": "code",
   "execution_count": 174,
   "id": "51b7f9db",
   "metadata": {},
   "outputs": [
    {
     "data": {
      "text/plain": [
       "Number_Of_Stops      0.654901\n",
       "Meal_Availability    0.038766\n",
       "FD_Hour             -0.056729\n",
       "Departure_Hour      -0.059635\n",
       "Airline_Names       -0.114412\n",
       "Destination_Place   -0.228155\n",
       "Source_Place        -0.241696\n",
       "Arrival_Time_Hour   -0.259548\n",
       "FD_Min              -0.311188\n",
       "Departure_Min       -0.335628\n",
       "Arrival_Time_Min    -0.369723\n",
       "dtype: float64"
      ]
     },
     "execution_count": 174,
     "metadata": {},
     "output_type": "execute_result"
    }
   ],
   "source": [
    "pd.DataFrame(Scaled_X, columns=X.columns).skew().sort_values(ascending=False)"
   ]
  },
  {
   "cell_type": "code",
   "execution_count": 175,
   "id": "847ffdc5",
   "metadata": {},
   "outputs": [
    {
     "data": {
      "text/plain": [
       "Index(['Airline_Names', 'Source_Place', 'Destination_Place',\n",
       "       'Meal_Availability', 'Number_Of_Stops', 'Departure_Hour',\n",
       "       'Departure_Min', 'Arrival_Time_Hour', 'Arrival_Time_Min', 'FD_Hour',\n",
       "       'FD_Min'],\n",
       "      dtype='object')"
      ]
     },
     "execution_count": 175,
     "metadata": {},
     "output_type": "execute_result"
    }
   ],
   "source": [
    "X.columns"
   ]
  },
  {
   "cell_type": "code",
   "execution_count": 176,
   "id": "b1ed5e3c",
   "metadata": {},
   "outputs": [],
   "source": [
    "x=pd.DataFrame(Scaled_X, columns=X.columns)"
   ]
  },
  {
   "cell_type": "code",
   "execution_count": 177,
   "id": "a32ad8b2",
   "metadata": {},
   "outputs": [
    {
     "data": {
      "text/plain": [
       "Index(['Airline_Names', 'Source_Place', 'Destination_Place',\n",
       "       'Meal_Availability', 'Number_Of_Stops', 'Departure_Hour',\n",
       "       'Departure_Min', 'Arrival_Time_Hour', 'Arrival_Time_Min', 'FD_Hour',\n",
       "       'FD_Min'],\n",
       "      dtype='object')"
      ]
     },
     "execution_count": 177,
     "metadata": {},
     "output_type": "execute_result"
    }
   ],
   "source": [
    "x.columns"
   ]
  },
  {
   "cell_type": "code",
   "execution_count": 178,
   "id": "06c3edce",
   "metadata": {},
   "outputs": [],
   "source": [
    "#using linear regression\n",
    "from sklearn import metrics\n",
    "from sklearn.linear_model import LinearRegression\n",
    "from sklearn.model_selection import train_test_split\n",
    "lr=LinearRegression()"
   ]
  },
  {
   "cell_type": "code",
   "execution_count": 179,
   "id": "a9235248",
   "metadata": {},
   "outputs": [
    {
     "name": "stdout",
     "output_type": "stream",
     "text": [
      "At random state 0,the training accuracy is:- 0.3299442874609555\n",
      "At random state 0,the testing accuracy is:- 0.3207360041607623\n",
      "\n",
      "\n",
      "At random state 1,the training accuracy is:- 0.3311868126120713\n",
      "At random state 1,the testing accuracy is:- 0.31330730221196124\n",
      "\n",
      "\n",
      "At random state 2,the training accuracy is:- 0.32093292273267293\n",
      "At random state 2,the testing accuracy is:- 0.343657631030836\n",
      "\n",
      "\n",
      "At random state 3,the training accuracy is:- 0.31325591627102856\n",
      "At random state 3,the testing accuracy is:- 0.37466774606414976\n",
      "\n",
      "\n",
      "At random state 4,the training accuracy is:- 0.31960672595101536\n",
      "At random state 4,the testing accuracy is:- 0.3534929241984993\n",
      "\n",
      "\n",
      "At random state 5,the training accuracy is:- 0.3245785799038424\n",
      "At random state 5,the testing accuracy is:- 0.3348687728559332\n",
      "\n",
      "\n",
      "At random state 6,the training accuracy is:- 0.32683316142907604\n",
      "At random state 6,the testing accuracy is:- 0.3273764982082059\n",
      "\n",
      "\n",
      "At random state 7,the training accuracy is:- 0.3242297592742591\n",
      "At random state 7,the testing accuracy is:- 0.3369962859630502\n",
      "\n",
      "\n",
      "At random state 8,the training accuracy is:- 0.32653574734703905\n",
      "At random state 8,the testing accuracy is:- 0.33002048811276374\n",
      "\n",
      "\n",
      "At random state 9,the training accuracy is:- 0.3245398680384409\n",
      "At random state 9,the testing accuracy is:- 0.3365833695837537\n",
      "\n",
      "\n",
      "At random state 10,the training accuracy is:- 0.3238059311000623\n",
      "At random state 10,the testing accuracy is:- 0.3403009595441501\n",
      "\n",
      "\n",
      "At random state 11,the training accuracy is:- 0.3305100651233981\n",
      "At random state 11,the testing accuracy is:- 0.31787425541221914\n",
      "\n",
      "\n",
      "At random state 12,the training accuracy is:- 0.3242502288236242\n",
      "At random state 12,the testing accuracy is:- 0.3375869469143187\n",
      "\n",
      "\n",
      "At random state 13,the training accuracy is:- 0.31880057173288867\n",
      "At random state 13,the testing accuracy is:- 0.354692116286098\n",
      "\n",
      "\n",
      "At random state 14,the training accuracy is:- 0.31851877462982514\n",
      "At random state 14,the testing accuracy is:- 0.356308217910301\n",
      "\n",
      "\n",
      "At random state 15,the training accuracy is:- 0.3297770178759112\n",
      "At random state 15,the testing accuracy is:- 0.319023765570298\n",
      "\n",
      "\n",
      "At random state 16,the training accuracy is:- 0.3360690007716448\n",
      "At random state 16,the testing accuracy is:- 0.30504708358956045\n",
      "\n",
      "\n",
      "At random state 17,the training accuracy is:- 0.32835629876761563\n",
      "At random state 17,the testing accuracy is:- 0.32423697962212494\n",
      "\n",
      "\n",
      "At random state 18,the training accuracy is:- 0.3345135361931221\n",
      "At random state 18,the testing accuracy is:- 0.3083990168432821\n",
      "\n",
      "\n",
      "At random state 19,the training accuracy is:- 0.3334842129100237\n",
      "At random state 19,the testing accuracy is:- 0.3095872692198638\n",
      "\n",
      "\n",
      "At random state 20,the training accuracy is:- 0.3321066152268062\n",
      "At random state 20,the testing accuracy is:- 0.31491511542461503\n",
      "\n",
      "\n",
      "At random state 21,the training accuracy is:- 0.32117608298180234\n",
      "At random state 21,the testing accuracy is:- 0.34558302449075984\n",
      "\n",
      "\n",
      "At random state 22,the training accuracy is:- 0.321257711169467\n",
      "At random state 22,the testing accuracy is:- 0.34694224277964913\n",
      "\n",
      "\n",
      "At random state 23,the training accuracy is:- 0.33855887065047086\n",
      "At random state 23,the testing accuracy is:- 0.29041108690074147\n",
      "\n",
      "\n",
      "At random state 24,the training accuracy is:- 0.33201026924324895\n",
      "At random state 24,the testing accuracy is:- 0.31484539628376107\n",
      "\n",
      "\n",
      "At random state 25,the training accuracy is:- 0.32688689284037253\n",
      "At random state 25,the testing accuracy is:- 0.32785086321527435\n",
      "\n",
      "\n",
      "At random state 26,the training accuracy is:- 0.33638993309839416\n",
      "At random state 26,the testing accuracy is:- 0.3014170049703879\n",
      "\n",
      "\n",
      "At random state 27,the training accuracy is:- 0.32538911093538847\n",
      "At random state 27,the testing accuracy is:- 0.3337792510330496\n",
      "\n",
      "\n",
      "At random state 28,the training accuracy is:- 0.3282580636656417\n",
      "At random state 28,the testing accuracy is:- 0.32595395471013167\n",
      "\n",
      "\n",
      "At random state 29,the training accuracy is:- 0.33244419579974804\n",
      "At random state 29,the testing accuracy is:- 0.31258148005304776\n",
      "\n",
      "\n",
      "At random state 30,the training accuracy is:- 0.32430057681229507\n",
      "At random state 30,the testing accuracy is:- 0.33614880739895947\n",
      "\n",
      "\n",
      "At random state 31,the training accuracy is:- 0.3270673345890911\n",
      "At random state 31,the testing accuracy is:- 0.32946130893739145\n",
      "\n",
      "\n",
      "At random state 32,the training accuracy is:- 0.32516398475445707\n",
      "At random state 32,the testing accuracy is:- 0.33183945184511787\n",
      "\n",
      "\n",
      "At random state 33,the training accuracy is:- 0.3288883127357183\n",
      "At random state 33,the testing accuracy is:- 0.32291537213674526\n",
      "\n",
      "\n",
      "At random state 34,the training accuracy is:- 0.32885930676114394\n",
      "At random state 34,the testing accuracy is:- 0.3237090925763514\n",
      "\n",
      "\n",
      "At random state 35,the training accuracy is:- 0.3264948429061447\n",
      "At random state 35,the testing accuracy is:- 0.3311385004277433\n",
      "\n",
      "\n",
      "At random state 36,the training accuracy is:- 0.3288466748293678\n",
      "At random state 36,the testing accuracy is:- 0.3239920238391196\n",
      "\n",
      "\n",
      "At random state 37,the training accuracy is:- 0.3219727845876864\n",
      "At random state 37,the testing accuracy is:- 0.3415869071165124\n",
      "\n",
      "\n",
      "At random state 38,the training accuracy is:- 0.3159689597735179\n",
      "At random state 38,the testing accuracy is:- 0.36256222251437475\n",
      "\n",
      "\n",
      "At random state 39,the training accuracy is:- 0.32743605238492157\n",
      "At random state 39,the testing accuracy is:- 0.3257626639658735\n",
      "\n",
      "\n",
      "At random state 40,the training accuracy is:- 0.32987829960742454\n",
      "At random state 40,the testing accuracy is:- 0.3208880546261159\n",
      "\n",
      "\n",
      "At random state 41,the training accuracy is:- 0.3316266342206231\n",
      "At random state 41,the testing accuracy is:- 0.3153314146645053\n",
      "\n",
      "\n",
      "At random state 42,the training accuracy is:- 0.32575172156843735\n",
      "At random state 42,the testing accuracy is:- 0.33199222721294974\n",
      "\n",
      "\n",
      "At random state 43,the training accuracy is:- 0.32119974695118203\n",
      "At random state 43,the testing accuracy is:- 0.3433163237508746\n",
      "\n",
      "\n",
      "At random state 44,the training accuracy is:- 0.32573219496949735\n",
      "At random state 44,the testing accuracy is:- 0.33237837881530485\n",
      "\n",
      "\n",
      "At random state 45,the training accuracy is:- 0.32789172833170166\n",
      "At random state 45,the testing accuracy is:- 0.3244210639362042\n",
      "\n",
      "\n",
      "At random state 46,the training accuracy is:- 0.3302935173413445\n",
      "At random state 46,the testing accuracy is:- 0.3196575615908206\n",
      "\n",
      "\n",
      "At random state 47,the training accuracy is:- 0.32705241055020695\n",
      "At random state 47,the testing accuracy is:- 0.3294904475080854\n",
      "\n",
      "\n",
      "At random state 48,the training accuracy is:- 0.3268731302197856\n",
      "At random state 48,the testing accuracy is:- 0.3270949051207045\n",
      "\n",
      "\n",
      "At random state 49,the training accuracy is:- 0.33304256311701685\n",
      "At random state 49,the testing accuracy is:- 0.3118841692398002\n",
      "\n",
      "\n",
      "At random state 50,the training accuracy is:- 0.3277899918056263\n",
      "At random state 50,the testing accuracy is:- 0.32551637967294533\n",
      "\n",
      "\n",
      "At random state 51,the training accuracy is:- 0.3284228513436285\n",
      "At random state 51,the testing accuracy is:- 0.32355855393280186\n",
      "\n",
      "\n",
      "At random state 52,the training accuracy is:- 0.3361054569537604\n",
      "At random state 52,the testing accuracy is:- 0.3000341502832804\n",
      "\n",
      "\n",
      "At random state 53,the training accuracy is:- 0.3174697867240751\n",
      "At random state 53,the testing accuracy is:- 0.35935588782880534\n",
      "\n",
      "\n",
      "At random state 54,the training accuracy is:- 0.3322987312790674\n",
      "At random state 54,the testing accuracy is:- 0.3124561238931094\n",
      "\n",
      "\n",
      "At random state 55,the training accuracy is:- 0.3273218256727175\n",
      "At random state 55,the testing accuracy is:- 0.3276755630032777\n",
      "\n",
      "\n",
      "At random state 56,the training accuracy is:- 0.3319204068331013\n",
      "At random state 56,the testing accuracy is:- 0.3128448271185631\n",
      "\n",
      "\n",
      "At random state 57,the training accuracy is:- 0.3385534390529932\n",
      "At random state 57,the testing accuracy is:- 0.29246531804180265\n",
      "\n",
      "\n",
      "At random state 58,the training accuracy is:- 0.32951590811665\n",
      "At random state 58,the testing accuracy is:- 0.3202977532376835\n",
      "\n",
      "\n",
      "At random state 59,the training accuracy is:- 0.3385146222173614\n",
      "At random state 59,the testing accuracy is:- 0.29385320240903456\n",
      "\n",
      "\n",
      "At random state 60,the training accuracy is:- 0.32793190163069985\n",
      "At random state 60,the testing accuracy is:- 0.32686307294704786\n",
      "\n",
      "\n",
      "At random state 61,the training accuracy is:- 0.32568988751471506\n",
      "At random state 61,the testing accuracy is:- 0.33312199145496524\n",
      "\n",
      "\n",
      "At random state 62,the training accuracy is:- 0.32222235873405236\n",
      "At random state 62,the testing accuracy is:- 0.3423334964341159\n",
      "\n",
      "\n",
      "At random state 63,the training accuracy is:- 0.3279473858351126\n",
      "At random state 63,the testing accuracy is:- 0.3244559013326068\n",
      "\n",
      "\n",
      "At random state 64,the training accuracy is:- 0.33259783433464485\n",
      "At random state 64,the testing accuracy is:- 0.31036714991926295\n",
      "\n",
      "\n",
      "At random state 65,the training accuracy is:- 0.3224091723549052\n",
      "At random state 65,the testing accuracy is:- 0.34224711995151025\n",
      "\n",
      "\n",
      "At random state 66,the training accuracy is:- 0.32824739482600196\n",
      "At random state 66,the testing accuracy is:- 0.3255256784338336\n",
      "\n",
      "\n",
      "At random state 67,the training accuracy is:- 0.3179472335526893\n",
      "At random state 67,the testing accuracy is:- 0.3562239767051244\n",
      "\n",
      "\n",
      "At random state 68,the training accuracy is:- 0.32716900166093366\n",
      "At random state 68,the testing accuracy is:- 0.32771054042320924\n",
      "\n",
      "\n",
      "At random state 69,the training accuracy is:- 0.3295684117906055\n"
     ]
    },
    {
     "name": "stdout",
     "output_type": "stream",
     "text": [
      "At random state 69,the testing accuracy is:- 0.32133335293912746\n",
      "\n",
      "\n",
      "At random state 70,the training accuracy is:- 0.3265965134351878\n",
      "At random state 70,the testing accuracy is:- 0.3299485006298728\n",
      "\n",
      "\n",
      "At random state 71,the training accuracy is:- 0.3314485568529455\n",
      "At random state 71,the testing accuracy is:- 0.31580651792613723\n",
      "\n",
      "\n",
      "At random state 72,the training accuracy is:- 0.3253666805053036\n",
      "At random state 72,the testing accuracy is:- 0.3332324092439728\n",
      "\n",
      "\n",
      "At random state 73,the training accuracy is:- 0.32311346580297906\n",
      "At random state 73,the testing accuracy is:- 0.3408429346319778\n",
      "\n",
      "\n",
      "At random state 74,the training accuracy is:- 0.32832881561069416\n",
      "At random state 74,the testing accuracy is:- 0.32446124203556626\n",
      "\n",
      "\n",
      "At random state 75,the training accuracy is:- 0.3269266992319311\n",
      "At random state 75,the testing accuracy is:- 0.3265415763800774\n",
      "\n",
      "\n",
      "At random state 76,the training accuracy is:- 0.33302938924460723\n",
      "At random state 76,the testing accuracy is:- 0.31039996598540953\n",
      "\n",
      "\n",
      "At random state 77,the training accuracy is:- 0.32490705058325253\n",
      "At random state 77,the testing accuracy is:- 0.33481775251676316\n",
      "\n",
      "\n",
      "At random state 78,the training accuracy is:- 0.32673779039126194\n",
      "At random state 78,the testing accuracy is:- 0.3269578392235486\n",
      "\n",
      "\n",
      "At random state 79,the training accuracy is:- 0.33069858513064765\n",
      "At random state 79,the testing accuracy is:- 0.3171485646802098\n",
      "\n",
      "\n",
      "At random state 80,the training accuracy is:- 0.32700761616447516\n",
      "At random state 80,the testing accuracy is:- 0.3286053911011604\n",
      "\n",
      "\n",
      "At random state 81,the training accuracy is:- 0.32685306481468246\n",
      "At random state 81,the testing accuracy is:- 0.3266400683305586\n",
      "\n",
      "\n",
      "At random state 82,the training accuracy is:- 0.336477795762104\n",
      "At random state 82,the testing accuracy is:- 0.29665270344783434\n",
      "\n",
      "\n",
      "At random state 83,the training accuracy is:- 0.3332125403660745\n",
      "At random state 83,the testing accuracy is:- 0.30897800760557415\n",
      "\n",
      "\n",
      "At random state 84,the training accuracy is:- 0.34144888962100006\n",
      "At random state 84,the testing accuracy is:- 0.28867394141120395\n",
      "\n",
      "\n",
      "At random state 85,the training accuracy is:- 0.3422926767837494\n",
      "At random state 85,the testing accuracy is:- 0.284730473835744\n",
      "\n",
      "\n",
      "At random state 86,the training accuracy is:- 0.3312391222254044\n",
      "At random state 86,the testing accuracy is:- 0.31644946520975237\n",
      "\n",
      "\n",
      "At random state 87,the training accuracy is:- 0.33122651528560154\n",
      "At random state 87,the testing accuracy is:- 0.3176303457078661\n",
      "\n",
      "\n",
      "At random state 88,the training accuracy is:- 0.32526422094885754\n",
      "At random state 88,the testing accuracy is:- 0.3344586910073202\n",
      "\n",
      "\n",
      "At random state 89,the training accuracy is:- 0.33251224719646055\n",
      "At random state 89,the testing accuracy is:- 0.31098665217727006\n",
      "\n",
      "\n",
      "At random state 90,the training accuracy is:- 0.33124443613262644\n",
      "At random state 90,the testing accuracy is:- 0.31569262328405956\n",
      "\n",
      "\n",
      "At random state 91,the training accuracy is:- 0.32364771388720714\n",
      "At random state 91,the testing accuracy is:- 0.33973452515074\n",
      "\n",
      "\n",
      "At random state 92,the training accuracy is:- 0.334946579341031\n",
      "At random state 92,the testing accuracy is:- 0.3049055977151933\n",
      "\n",
      "\n",
      "At random state 93,the training accuracy is:- 0.3295011775403698\n",
      "At random state 93,the testing accuracy is:- 0.3218450703816912\n",
      "\n",
      "\n",
      "At random state 94,the training accuracy is:- 0.3229135989686145\n",
      "At random state 94,the testing accuracy is:- 0.339990950690072\n",
      "\n",
      "\n",
      "At random state 95,the training accuracy is:- 0.32634494685945203\n",
      "At random state 95,the testing accuracy is:- 0.33045274810126024\n",
      "\n",
      "\n",
      "At random state 96,the training accuracy is:- 0.33144011679538743\n",
      "At random state 96,the testing accuracy is:- 0.3170983985981344\n",
      "\n",
      "\n",
      "At random state 97,the training accuracy is:- 0.3321163063967274\n",
      "At random state 97,the testing accuracy is:- 0.31241329964632736\n",
      "\n",
      "\n",
      "At random state 98,the training accuracy is:- 0.32936435341136294\n",
      "At random state 98,the testing accuracy is:- 0.32096862946942206\n",
      "\n",
      "\n",
      "At random state 99,the training accuracy is:- 0.32568015654836024\n",
      "At random state 99,the testing accuracy is:- 0.33119704858695853\n",
      "\n",
      "\n",
      "At random state 100,the training accuracy is:- 0.33012546638147555\n",
      "At random state 100,the testing accuracy is:- 0.31857952420185853\n",
      "\n",
      "\n",
      "At random state 101,the training accuracy is:- 0.3360694539168384\n",
      "At random state 101,the testing accuracy is:- 0.30338148999923986\n",
      "\n",
      "\n",
      "At random state 102,the training accuracy is:- 0.3336766370895232\n",
      "At random state 102,the testing accuracy is:- 0.30798633874135783\n",
      "\n",
      "\n",
      "At random state 103,the training accuracy is:- 0.328643862340977\n",
      "At random state 103,the testing accuracy is:- 0.32381261177352605\n",
      "\n",
      "\n",
      "At random state 104,the training accuracy is:- 0.32821396646795187\n",
      "At random state 104,the testing accuracy is:- 0.32475197890577256\n",
      "\n",
      "\n",
      "At random state 105,the training accuracy is:- 0.3143488881444999\n",
      "At random state 105,the testing accuracy is:- 0.36443544902610603\n",
      "\n",
      "\n",
      "At random state 106,the training accuracy is:- 0.33658647002109454\n",
      "At random state 106,the testing accuracy is:- 0.3009165409455359\n",
      "\n",
      "\n",
      "At random state 107,the training accuracy is:- 0.3298509772721403\n",
      "At random state 107,the testing accuracy is:- 0.3193252507333433\n",
      "\n",
      "\n",
      "At random state 108,the training accuracy is:- 0.3378359042863479\n",
      "At random state 108,the testing accuracy is:- 0.29676971257118\n",
      "\n",
      "\n",
      "At random state 109,the training accuracy is:- 0.32983371854244603\n",
      "At random state 109,the testing accuracy is:- 0.3189960289395595\n",
      "\n",
      "\n",
      "At random state 110,the training accuracy is:- 0.3438238638796234\n",
      "At random state 110,the testing accuracy is:- 0.2828622367596243\n",
      "\n",
      "\n",
      "At random state 111,the training accuracy is:- 0.3232670994921901\n",
      "At random state 111,the testing accuracy is:- 0.34092712533276504\n",
      "\n",
      "\n",
      "At random state 112,the training accuracy is:- 0.3250750456954502\n",
      "At random state 112,the testing accuracy is:- 0.33263223067089265\n",
      "\n",
      "\n",
      "At random state 113,the training accuracy is:- 0.3219119066423002\n",
      "At random state 113,the testing accuracy is:- 0.3444551835092352\n",
      "\n",
      "\n",
      "At random state 114,the training accuracy is:- 0.3266791735784933\n",
      "At random state 114,the testing accuracy is:- 0.3281580486565274\n",
      "\n",
      "\n",
      "At random state 115,the training accuracy is:- 0.3275670769261896\n",
      "At random state 115,the testing accuracy is:- 0.3272356190221777\n",
      "\n",
      "\n",
      "At random state 116,the training accuracy is:- 0.3326421906902124\n",
      "At random state 116,the testing accuracy is:- 0.3111784504136019\n",
      "\n",
      "\n",
      "At random state 117,the training accuracy is:- 0.32217656195142685\n",
      "At random state 117,the testing accuracy is:- 0.34227532881483014\n",
      "\n",
      "\n",
      "At random state 118,the training accuracy is:- 0.3282127618317149\n",
      "At random state 118,the testing accuracy is:- 0.3263203555522246\n",
      "\n",
      "\n",
      "At random state 119,the training accuracy is:- 0.3295251074367298\n",
      "At random state 119,the testing accuracy is:- 0.3201274220187058\n",
      "\n",
      "\n",
      "At random state 120,the training accuracy is:- 0.3310914251097764\n",
      "At random state 120,the testing accuracy is:- 0.3150830156804397\n",
      "\n",
      "\n",
      "At random state 121,the training accuracy is:- 0.3349531374794328\n",
      "At random state 121,the testing accuracy is:- 0.30573550462809995\n",
      "\n",
      "\n",
      "At random state 122,the training accuracy is:- 0.3324216951227982\n",
      "At random state 122,the testing accuracy is:- 0.3090837514953154\n",
      "\n",
      "\n",
      "At random state 123,the training accuracy is:- 0.3263570929654037\n",
      "At random state 123,the testing accuracy is:- 0.3317056858375782\n",
      "\n",
      "\n",
      "At random state 124,the training accuracy is:- 0.3298248339060763\n",
      "At random state 124,the testing accuracy is:- 0.3208827524057757\n",
      "\n",
      "\n",
      "At random state 125,the training accuracy is:- 0.3290250315443155\n",
      "At random state 125,the testing accuracy is:- 0.320930896604946\n",
      "\n",
      "\n",
      "At random state 126,the training accuracy is:- 0.32319670396876554\n",
      "At random state 126,the testing accuracy is:- 0.3397314104633993\n",
      "\n",
      "\n",
      "At random state 127,the training accuracy is:- 0.3276512936686745\n",
      "At random state 127,the testing accuracy is:- 0.3246782077440491\n",
      "\n",
      "\n",
      "At random state 128,the training accuracy is:- 0.328211548778371\n",
      "At random state 128,the testing accuracy is:- 0.32374897402119196\n",
      "\n",
      "\n",
      "At random state 129,the training accuracy is:- 0.3361681933189308\n",
      "At random state 129,the testing accuracy is:- 0.30183723016159403\n",
      "\n",
      "\n",
      "At random state 130,the training accuracy is:- 0.3283827071091534\n",
      "At random state 130,the testing accuracy is:- 0.323193916849008\n",
      "\n",
      "\n",
      "At random state 131,the training accuracy is:- 0.32800824644547055\n",
      "At random state 131,the testing accuracy is:- 0.3250265360978427\n",
      "\n",
      "\n",
      "At random state 132,the training accuracy is:- 0.32858980296952334\n",
      "At random state 132,the testing accuracy is:- 0.3249984251055966\n",
      "\n",
      "\n",
      "At random state 133,the training accuracy is:- 0.3298381097840315\n",
      "At random state 133,the testing accuracy is:- 0.3210243821109775\n",
      "\n",
      "\n",
      "At random state 134,the training accuracy is:- 0.32823599976497675\n",
      "At random state 134,the testing accuracy is:- 0.3248070519842725\n",
      "\n",
      "\n",
      "At random state 135,the training accuracy is:- 0.32241226030299175\n",
      "At random state 135,the testing accuracy is:- 0.3417957623855804\n",
      "\n",
      "\n",
      "At random state 136,the training accuracy is:- 0.3287077906592777\n",
      "At random state 136,the testing accuracy is:- 0.32432404150848526\n",
      "\n",
      "\n",
      "At random state 137,the training accuracy is:- 0.3250921518318667\n",
      "At random state 137,the testing accuracy is:- 0.33281254657644654\n",
      "\n",
      "\n",
      "At random state 138,the training accuracy is:- 0.3327755333070157\n",
      "At random state 138,the testing accuracy is:- 0.31271369472582544\n",
      "\n",
      "\n",
      "At random state 139,the training accuracy is:- 0.3315595176336904\n",
      "At random state 139,the testing accuracy is:- 0.3135533788026157\n",
      "\n",
      "\n",
      "At random state 140,the training accuracy is:- 0.33116867088798796\n",
      "At random state 140,the testing accuracy is:- 0.31518747477583675\n",
      "\n",
      "\n",
      "At random state 141,the training accuracy is:- 0.3299405530764977\n",
      "At random state 141,the testing accuracy is:- 0.31961526594336287\n",
      "\n",
      "\n"
     ]
    },
    {
     "name": "stdout",
     "output_type": "stream",
     "text": [
      "At random state 142,the training accuracy is:- 0.32295113716344437\n",
      "At random state 142,the testing accuracy is:- 0.33911263395514546\n",
      "\n",
      "\n",
      "At random state 143,the training accuracy is:- 0.3311857311250259\n",
      "At random state 143,the testing accuracy is:- 0.31682962100111733\n",
      "\n",
      "\n",
      "At random state 144,the training accuracy is:- 0.33259038488094184\n",
      "At random state 144,the testing accuracy is:- 0.3114618747558937\n",
      "\n",
      "\n",
      "At random state 145,the training accuracy is:- 0.3316010623719805\n",
      "At random state 145,the testing accuracy is:- 0.31338054969778106\n",
      "\n",
      "\n",
      "At random state 146,the training accuracy is:- 0.3347298224839238\n",
      "At random state 146,the testing accuracy is:- 0.3083054847319018\n",
      "\n",
      "\n",
      "At random state 147,the training accuracy is:- 0.3268526252103363\n",
      "At random state 147,the testing accuracy is:- 0.3295742224859327\n",
      "\n",
      "\n",
      "At random state 148,the training accuracy is:- 0.3250890910139288\n",
      "At random state 148,the testing accuracy is:- 0.3333341882420435\n",
      "\n",
      "\n",
      "At random state 149,the training accuracy is:- 0.33741675838924723\n",
      "At random state 149,the testing accuracy is:- 0.3023481836378946\n",
      "\n",
      "\n",
      "At random state 150,the training accuracy is:- 0.3223808816792759\n",
      "At random state 150,the testing accuracy is:- 0.3430796737992441\n",
      "\n",
      "\n",
      "At random state 151,the training accuracy is:- 0.32476624774785634\n",
      "At random state 151,the testing accuracy is:- 0.3367026668774512\n",
      "\n",
      "\n",
      "At random state 152,the training accuracy is:- 0.3303005317144161\n",
      "At random state 152,the testing accuracy is:- 0.31926331031698363\n",
      "\n",
      "\n",
      "At random state 153,the training accuracy is:- 0.3187775367321355\n",
      "At random state 153,the testing accuracy is:- 0.3548427400178643\n",
      "\n",
      "\n",
      "At random state 154,the training accuracy is:- 0.33854733105579604\n",
      "At random state 154,the testing accuracy is:- 0.29391931746336486\n",
      "\n",
      "\n",
      "At random state 155,the training accuracy is:- 0.3261687742437659\n",
      "At random state 155,the testing accuracy is:- 0.33172801966130483\n",
      "\n",
      "\n",
      "At random state 156,the training accuracy is:- 0.3396742511119022\n",
      "At random state 156,the testing accuracy is:- 0.2907642388912872\n",
      "\n",
      "\n",
      "At random state 157,the training accuracy is:- 0.3274350104100531\n",
      "At random state 157,the testing accuracy is:- 0.3280720559367566\n",
      "\n",
      "\n",
      "At random state 158,the training accuracy is:- 0.3258051281561215\n",
      "At random state 158,the testing accuracy is:- 0.33067911388503224\n",
      "\n",
      "\n",
      "At random state 159,the training accuracy is:- 0.32757415171941995\n",
      "At random state 159,the testing accuracy is:- 0.32713465913338613\n",
      "\n",
      "\n",
      "At random state 160,the training accuracy is:- 0.3297043327943425\n",
      "At random state 160,the testing accuracy is:- 0.31968626474977024\n",
      "\n",
      "\n",
      "At random state 161,the training accuracy is:- 0.3316587165803201\n",
      "At random state 161,the testing accuracy is:- 0.31525353430157566\n",
      "\n",
      "\n",
      "At random state 162,the training accuracy is:- 0.3277262177081973\n",
      "At random state 162,the testing accuracy is:- 0.32644324396597446\n",
      "\n",
      "\n",
      "At random state 163,the training accuracy is:- 0.32586312892374136\n",
      "At random state 163,the testing accuracy is:- 0.3313319771319335\n",
      "\n",
      "\n",
      "At random state 164,the training accuracy is:- 0.32326787395794776\n",
      "At random state 164,the testing accuracy is:- 0.3419185861826375\n",
      "\n",
      "\n",
      "At random state 165,the training accuracy is:- 0.3286878785959544\n",
      "At random state 165,the testing accuracy is:- 0.3219416502165533\n",
      "\n",
      "\n",
      "At random state 166,the training accuracy is:- 0.330506657005197\n",
      "At random state 166,the testing accuracy is:- 0.3175426490474793\n",
      "\n",
      "\n",
      "At random state 167,the training accuracy is:- 0.32380647600956103\n",
      "At random state 167,the testing accuracy is:- 0.3378661084054707\n",
      "\n",
      "\n",
      "At random state 168,the training accuracy is:- 0.3419492280475721\n",
      "At random state 168,the testing accuracy is:- 0.28421734124143183\n",
      "\n",
      "\n",
      "At random state 169,the training accuracy is:- 0.3289503441132532\n",
      "At random state 169,the testing accuracy is:- 0.32433343766075184\n",
      "\n",
      "\n",
      "At random state 170,the training accuracy is:- 0.3299561934948926\n",
      "At random state 170,the testing accuracy is:- 0.31956415177490705\n",
      "\n",
      "\n",
      "At random state 171,the training accuracy is:- 0.32321103130781226\n",
      "At random state 171,the testing accuracy is:- 0.3408571651917456\n",
      "\n",
      "\n",
      "At random state 172,the training accuracy is:- 0.3304793262821032\n",
      "At random state 172,the testing accuracy is:- 0.3180039667478677\n",
      "\n",
      "\n",
      "At random state 173,the training accuracy is:- 0.3179475729596214\n",
      "At random state 173,the testing accuracy is:- 0.3584344736672854\n",
      "\n",
      "\n",
      "At random state 174,the training accuracy is:- 0.3171726780433548\n",
      "At random state 174,the testing accuracy is:- 0.3561994611590966\n",
      "\n",
      "\n",
      "At random state 175,the training accuracy is:- 0.3274909753191175\n",
      "At random state 175,the testing accuracy is:- 0.32730314818082007\n",
      "\n",
      "\n",
      "At random state 176,the training accuracy is:- 0.33501982697135346\n",
      "At random state 176,the testing accuracy is:- 0.3027255172123978\n",
      "\n",
      "\n",
      "At random state 177,the training accuracy is:- 0.33264085441093894\n",
      "At random state 177,the testing accuracy is:- 0.31168904934553554\n",
      "\n",
      "\n",
      "At random state 178,the training accuracy is:- 0.32277098390150694\n",
      "At random state 178,the testing accuracy is:- 0.3424679782325112\n",
      "\n",
      "\n",
      "At random state 179,the training accuracy is:- 0.33078298435720277\n",
      "At random state 179,the testing accuracy is:- 0.3141577181445745\n",
      "\n",
      "\n",
      "At random state 180,the training accuracy is:- 0.3334405476592084\n",
      "At random state 180,the testing accuracy is:- 0.3116314026832506\n",
      "\n",
      "\n",
      "At random state 181,the training accuracy is:- 0.32182747196869266\n",
      "At random state 181,the testing accuracy is:- 0.3425804166652966\n",
      "\n",
      "\n",
      "At random state 182,the training accuracy is:- 0.31562272534618163\n",
      "At random state 182,the testing accuracy is:- 0.36597365211918054\n",
      "\n",
      "\n",
      "At random state 183,the training accuracy is:- 0.33803858602569337\n",
      "At random state 183,the testing accuracy is:- 0.2906721408073605\n",
      "\n",
      "\n",
      "At random state 184,the training accuracy is:- 0.3397091702718362\n",
      "At random state 184,the testing accuracy is:- 0.29179065436162455\n",
      "\n",
      "\n",
      "At random state 185,the training accuracy is:- 0.3319411485655215\n",
      "At random state 185,the testing accuracy is:- 0.31138637433334815\n",
      "\n",
      "\n",
      "At random state 186,the training accuracy is:- 0.3283679413736017\n",
      "At random state 186,the testing accuracy is:- 0.3235361859270298\n",
      "\n",
      "\n",
      "At random state 187,the training accuracy is:- 0.33218222527632535\n",
      "At random state 187,the testing accuracy is:- 0.3131865547361724\n",
      "\n",
      "\n",
      "At random state 188,the training accuracy is:- 0.33193270874302383\n",
      "At random state 188,the testing accuracy is:- 0.313352106015661\n",
      "\n",
      "\n",
      "At random state 189,the training accuracy is:- 0.3187044305183314\n",
      "At random state 189,the testing accuracy is:- 0.3522159236669843\n",
      "\n",
      "\n",
      "At random state 190,the training accuracy is:- 0.32569549649324026\n",
      "At random state 190,the testing accuracy is:- 0.3332827468725563\n",
      "\n",
      "\n",
      "At random state 191,the training accuracy is:- 0.3378212664930963\n",
      "At random state 191,the testing accuracy is:- 0.29682978378879177\n",
      "\n",
      "\n",
      "At random state 192,the training accuracy is:- 0.32802962961930027\n",
      "At random state 192,the testing accuracy is:- 0.325113022290356\n",
      "\n",
      "\n",
      "At random state 193,the training accuracy is:- 0.32533385692072114\n",
      "At random state 193,the testing accuracy is:- 0.3345279531129093\n",
      "\n",
      "\n",
      "At random state 194,the training accuracy is:- 0.3218732448934528\n",
      "At random state 194,the testing accuracy is:- 0.3441865299139266\n",
      "\n",
      "\n",
      "At random state 195,the training accuracy is:- 0.3309105054116579\n",
      "At random state 195,the testing accuracy is:- 0.3164273965158414\n",
      "\n",
      "\n",
      "At random state 196,the training accuracy is:- 0.33566259415810473\n",
      "At random state 196,the testing accuracy is:- 0.2988833153552458\n",
      "\n",
      "\n",
      "At random state 197,the training accuracy is:- 0.33640613985212\n",
      "At random state 197,the testing accuracy is:- 0.29954689436389526\n",
      "\n",
      "\n",
      "At random state 198,the training accuracy is:- 0.33038928988633787\n",
      "At random state 198,the testing accuracy is:- 0.31939247257173664\n",
      "\n",
      "\n",
      "At random state 199,the training accuracy is:- 0.3250338462573239\n",
      "At random state 199,the testing accuracy is:- 0.3347577125539011\n",
      "\n",
      "\n",
      "At random state 200,the training accuracy is:- 0.3313448327842098\n",
      "At random state 200,the testing accuracy is:- 0.31652269325715054\n",
      "\n",
      "\n",
      "At random state 201,the training accuracy is:- 0.33253907057035426\n",
      "At random state 201,the testing accuracy is:- 0.3125002189233489\n",
      "\n",
      "\n",
      "At random state 202,the training accuracy is:- 0.321308732984647\n",
      "At random state 202,the testing accuracy is:- 0.34474836138128184\n",
      "\n",
      "\n",
      "At random state 203,the training accuracy is:- 0.3356305262237089\n",
      "At random state 203,the testing accuracy is:- 0.30430104355783383\n",
      "\n",
      "\n",
      "At random state 204,the training accuracy is:- 0.3205739729567444\n",
      "At random state 204,the testing accuracy is:- 0.3493071818664356\n",
      "\n",
      "\n"
     ]
    },
    {
     "name": "stdout",
     "output_type": "stream",
     "text": [
      "At random state 205,the training accuracy is:- 0.3408492350230622\n",
      "At random state 205,the testing accuracy is:- 0.2878885827659581\n",
      "\n",
      "\n",
      "At random state 206,the training accuracy is:- 0.33563340888288373\n",
      "At random state 206,the testing accuracy is:- 0.3045433095255613\n",
      "\n",
      "\n",
      "At random state 207,the training accuracy is:- 0.32799406140160714\n",
      "At random state 207,the testing accuracy is:- 0.324492307717417\n",
      "\n",
      "\n",
      "At random state 208,the training accuracy is:- 0.33767534197990023\n",
      "At random state 208,the testing accuracy is:- 0.2920505664421592\n",
      "\n",
      "\n",
      "At random state 209,the training accuracy is:- 0.33775632505022235\n",
      "At random state 209,the testing accuracy is:- 0.29900294118904247\n",
      "\n",
      "\n",
      "At random state 210,the training accuracy is:- 0.31586510844207305\n",
      "At random state 210,the testing accuracy is:- 0.3625594307611837\n",
      "\n",
      "\n",
      "At random state 211,the training accuracy is:- 0.3205379517614265\n",
      "At random state 211,the testing accuracy is:- 0.3486726358963811\n",
      "\n",
      "\n",
      "At random state 212,the training accuracy is:- 0.32549515504706017\n",
      "At random state 212,the testing accuracy is:- 0.3313275386597865\n",
      "\n",
      "\n",
      "At random state 213,the training accuracy is:- 0.3270739825165141\n",
      "At random state 213,the testing accuracy is:- 0.32649329208607114\n",
      "\n",
      "\n",
      "At random state 214,the training accuracy is:- 0.3372509189848253\n",
      "At random state 214,the testing accuracy is:- 0.2990668425373538\n",
      "\n",
      "\n",
      "At random state 215,the training accuracy is:- 0.3261977701136619\n",
      "At random state 215,the testing accuracy is:- 0.3318606106265285\n",
      "\n",
      "\n",
      "At random state 216,the training accuracy is:- 0.3391162238392893\n",
      "At random state 216,the testing accuracy is:- 0.2881646590024419\n",
      "\n",
      "\n",
      "At random state 217,the training accuracy is:- 0.3248644133438652\n",
      "At random state 217,the testing accuracy is:- 0.3365095137608959\n",
      "\n",
      "\n",
      "At random state 218,the training accuracy is:- 0.3306728411646409\n",
      "At random state 218,the testing accuracy is:- 0.3182459804088372\n",
      "\n",
      "\n",
      "At random state 219,the training accuracy is:- 0.3284573879463345\n",
      "At random state 219,the testing accuracy is:- 0.3244502633196641\n",
      "\n",
      "\n",
      "At random state 220,the training accuracy is:- 0.34109752336993526\n",
      "At random state 220,the testing accuracy is:- 0.2875559060203239\n",
      "\n",
      "\n",
      "At random state 221,the training accuracy is:- 0.327066127773163\n",
      "At random state 221,the testing accuracy is:- 0.3275642695899187\n",
      "\n",
      "\n",
      "At random state 222,the training accuracy is:- 0.3238481551433241\n",
      "At random state 222,the testing accuracy is:- 0.33915257929867726\n",
      "\n",
      "\n",
      "At random state 223,the training accuracy is:- 0.330510966250788\n",
      "At random state 223,the testing accuracy is:- 0.3130381967031306\n",
      "\n",
      "\n",
      "At random state 224,the training accuracy is:- 0.33144312792902164\n",
      "At random state 224,the testing accuracy is:- 0.3154515045378373\n",
      "\n",
      "\n",
      "At random state 225,the training accuracy is:- 0.3321642394354656\n",
      "At random state 225,the testing accuracy is:- 0.31344061063837225\n",
      "\n",
      "\n",
      "At random state 226,the training accuracy is:- 0.32530236765199827\n",
      "At random state 226,the testing accuracy is:- 0.3341046871118071\n",
      "\n",
      "\n",
      "At random state 227,the training accuracy is:- 0.3397339926320674\n",
      "At random state 227,the testing accuracy is:- 0.2923966394265668\n",
      "\n",
      "\n",
      "At random state 228,the training accuracy is:- 0.3361347894208008\n",
      "At random state 228,the testing accuracy is:- 0.30224955376253315\n",
      "\n",
      "\n",
      "At random state 229,the training accuracy is:- 0.32589309395212007\n",
      "At random state 229,the testing accuracy is:- 0.3320436195236933\n",
      "\n",
      "\n",
      "At random state 230,the training accuracy is:- 0.3252582113937771\n",
      "At random state 230,the testing accuracy is:- 0.334001487404321\n",
      "\n",
      "\n",
      "At random state 231,the training accuracy is:- 0.3364812876418488\n",
      "At random state 231,the testing accuracy is:- 0.3025836763898896\n",
      "\n",
      "\n",
      "At random state 232,the training accuracy is:- 0.3321975239882775\n",
      "At random state 232,the testing accuracy is:- 0.31241076152727776\n",
      "\n",
      "\n",
      "At random state 233,the training accuracy is:- 0.33138445002435\n",
      "At random state 233,the testing accuracy is:- 0.31596684851656764\n",
      "\n",
      "\n",
      "At random state 234,the training accuracy is:- 0.32702393702921795\n",
      "At random state 234,the testing accuracy is:- 0.32868719791999534\n",
      "\n",
      "\n",
      "At random state 235,the training accuracy is:- 0.32471166673415197\n",
      "At random state 235,the testing accuracy is:- 0.3345326452189542\n",
      "\n",
      "\n",
      "At random state 236,the training accuracy is:- 0.3261896344126225\n",
      "At random state 236,the testing accuracy is:- 0.3314148614437742\n",
      "\n",
      "\n",
      "At random state 237,the training accuracy is:- 0.32628432676587205\n",
      "At random state 237,the testing accuracy is:- 0.33040476020661613\n",
      "\n",
      "\n",
      "At random state 238,the training accuracy is:- 0.3300776275660645\n",
      "At random state 238,the testing accuracy is:- 0.31962016897598367\n",
      "\n",
      "\n",
      "At random state 239,the training accuracy is:- 0.31688804879355403\n",
      "At random state 239,the testing accuracy is:- 0.36168350423499407\n",
      "\n",
      "\n",
      "At random state 240,the training accuracy is:- 0.32628719706403364\n",
      "At random state 240,the testing accuracy is:- 0.33117453392060403\n",
      "\n",
      "\n",
      "At random state 241,the training accuracy is:- 0.33235729335011843\n",
      "At random state 241,the testing accuracy is:- 0.31401881750413363\n",
      "\n",
      "\n",
      "At random state 242,the training accuracy is:- 0.32534043421534664\n",
      "At random state 242,the testing accuracy is:- 0.33325850218173536\n",
      "\n",
      "\n",
      "At random state 243,the training accuracy is:- 0.3325212734811891\n",
      "At random state 243,the testing accuracy is:- 0.309971521074483\n",
      "\n",
      "\n",
      "At random state 244,the training accuracy is:- 0.32514811168657076\n",
      "At random state 244,the testing accuracy is:- 0.3340650466692737\n",
      "\n",
      "\n",
      "At random state 245,the training accuracy is:- 0.3298830786699347\n",
      "At random state 245,the testing accuracy is:- 0.3204823455525877\n",
      "\n",
      "\n",
      "At random state 246,the training accuracy is:- 0.32594691693514555\n",
      "At random state 246,the testing accuracy is:- 0.3303978885980573\n",
      "\n",
      "\n",
      "At random state 247,the training accuracy is:- 0.3273634149917857\n",
      "At random state 247,the testing accuracy is:- 0.3273266595176617\n",
      "\n",
      "\n",
      "At random state 248,the training accuracy is:- 0.332268819494394\n",
      "At random state 248,the testing accuracy is:- 0.3123098170583466\n",
      "\n",
      "\n",
      "At random state 249,the training accuracy is:- 0.32656753088220714\n",
      "At random state 249,the testing accuracy is:- 0.3299532167812488\n",
      "\n",
      "\n",
      "At random state 250,the training accuracy is:- 0.32027440034702226\n",
      "At random state 250,the testing accuracy is:- 0.3502091905803635\n",
      "\n",
      "\n",
      "At random state 251,the training accuracy is:- 0.3207062559047509\n",
      "At random state 251,the testing accuracy is:- 0.34760771258811307\n",
      "\n",
      "\n",
      "At random state 252,the training accuracy is:- 0.3295806067760936\n",
      "At random state 252,the testing accuracy is:- 0.3219386984812723\n",
      "\n",
      "\n",
      "At random state 253,the training accuracy is:- 0.3378652411708194\n",
      "At random state 253,the testing accuracy is:- 0.29483014971460175\n",
      "\n",
      "\n",
      "At random state 254,the training accuracy is:- 0.3281492939741588\n",
      "At random state 254,the testing accuracy is:- 0.32454407865615864\n",
      "\n",
      "\n",
      "At random state 255,the training accuracy is:- 0.3302995021019296\n",
      "At random state 255,the testing accuracy is:- 0.31694661188630036\n",
      "\n",
      "\n",
      "At random state 256,the training accuracy is:- 0.3300840119166101\n",
      "At random state 256,the testing accuracy is:- 0.3194536030092029\n",
      "\n",
      "\n",
      "At random state 257,the training accuracy is:- 0.320041582920256\n",
      "At random state 257,the testing accuracy is:- 0.34960516043224077\n",
      "\n",
      "\n",
      "At random state 258,the training accuracy is:- 0.3321257903294159\n",
      "At random state 258,the testing accuracy is:- 0.3100593653569602\n",
      "\n",
      "\n",
      "At random state 259,the training accuracy is:- 0.3262650812162997\n",
      "At random state 259,the testing accuracy is:- 0.3317254401837124\n",
      "\n",
      "\n",
      "At random state 260,the training accuracy is:- 0.3229898652625379\n",
      "At random state 260,the testing accuracy is:- 0.3408059527083651\n",
      "\n",
      "\n",
      "At random state 261,the training accuracy is:- 0.333194189543379\n",
      "At random state 261,the testing accuracy is:- 0.30975106808872277\n",
      "\n",
      "\n",
      "At random state 262,the training accuracy is:- 0.32676202972116675\n",
      "At random state 262,the testing accuracy is:- 0.33058028568289943\n",
      "\n",
      "\n",
      "At random state 263,the training accuracy is:- 0.32241699554716874\n",
      "At random state 263,the testing accuracy is:- 0.34169910892710476\n",
      "\n",
      "\n",
      "At random state 264,the training accuracy is:- 0.32556170069404744\n",
      "At random state 264,the testing accuracy is:- 0.33372142886678857\n",
      "\n",
      "\n",
      "At random state 265,the training accuracy is:- 0.3261591867714322\n",
      "At random state 265,the testing accuracy is:- 0.33216890675515776\n",
      "\n",
      "\n",
      "At random state 266,the training accuracy is:- 0.32553481227582237\n",
      "At random state 266,the testing accuracy is:- 0.3331337845111607\n",
      "\n",
      "\n",
      "At random state 267,the training accuracy is:- 0.32682919082309425\n",
      "At random state 267,the testing accuracy is:- 0.3284781654974769\n",
      "\n",
      "\n",
      "At random state 268,the training accuracy is:- 0.3299485694683508\n",
      "At random state 268,the testing accuracy is:- 0.3191703285937556\n",
      "\n",
      "\n",
      "At random state 269,the training accuracy is:- 0.33919074190301435\n",
      "At random state 269,the testing accuracy is:- 0.293608614618055\n",
      "\n",
      "\n",
      "At random state 270,the training accuracy is:- 0.3278635169327754\n",
      "At random state 270,the testing accuracy is:- 0.32637133563123033\n",
      "\n",
      "\n",
      "At random state 271,the training accuracy is:- 0.3188828031242117\n",
      "At random state 271,the testing accuracy is:- 0.35235631757841135\n",
      "\n",
      "\n",
      "At random state 272,the training accuracy is:- 0.34070179806920764\n",
      "At random state 272,the testing accuracy is:- 0.28782610519094376\n",
      "\n",
      "\n",
      "At random state 273,the training accuracy is:- 0.3281294967287566\n",
      "At random state 273,the testing accuracy is:- 0.3253097276952124\n",
      "\n",
      "\n"
     ]
    },
    {
     "name": "stdout",
     "output_type": "stream",
     "text": [
      "At random state 274,the training accuracy is:- 0.32622400646677596\n",
      "At random state 274,the testing accuracy is:- 0.33051312384682796\n",
      "\n",
      "\n",
      "At random state 275,the training accuracy is:- 0.3341613810800559\n",
      "At random state 275,the testing accuracy is:- 0.3083631091214383\n",
      "\n",
      "\n",
      "At random state 276,the training accuracy is:- 0.3374181818860468\n",
      "At random state 276,the testing accuracy is:- 0.2976908610665281\n",
      "\n",
      "\n",
      "At random state 277,the training accuracy is:- 0.31656713929315494\n",
      "At random state 277,the testing accuracy is:- 0.3615576133931965\n",
      "\n",
      "\n",
      "At random state 278,the training accuracy is:- 0.3251759838800369\n",
      "At random state 278,the testing accuracy is:- 0.33216764704502066\n",
      "\n",
      "\n",
      "At random state 279,the training accuracy is:- 0.3263846220249491\n",
      "At random state 279,the testing accuracy is:- 0.3312962690246334\n",
      "\n",
      "\n",
      "At random state 280,the training accuracy is:- 0.3250329816754921\n",
      "At random state 280,the testing accuracy is:- 0.3351700379200998\n",
      "\n",
      "\n",
      "At random state 281,the training accuracy is:- 0.3268095924890948\n",
      "At random state 281,the testing accuracy is:- 0.3293048468330724\n",
      "\n",
      "\n",
      "At random state 282,the training accuracy is:- 0.32915355126641166\n",
      "At random state 282,the testing accuracy is:- 0.3231663625177216\n",
      "\n",
      "\n",
      "At random state 283,the training accuracy is:- 0.32569453970340334\n",
      "At random state 283,the testing accuracy is:- 0.33077380955945657\n",
      "\n",
      "\n",
      "At random state 284,the training accuracy is:- 0.3258706694551837\n",
      "At random state 284,the testing accuracy is:- 0.3306491277362199\n",
      "\n",
      "\n",
      "At random state 285,the training accuracy is:- 0.3337755852981694\n",
      "At random state 285,the testing accuracy is:- 0.3084853512736272\n",
      "\n",
      "\n",
      "At random state 286,the training accuracy is:- 0.3294963392736924\n",
      "At random state 286,the testing accuracy is:- 0.3205325915447955\n",
      "\n",
      "\n",
      "At random state 287,the training accuracy is:- 0.3244655647295154\n",
      "At random state 287,the testing accuracy is:- 0.33622701314626746\n",
      "\n",
      "\n",
      "At random state 288,the training accuracy is:- 0.3347004379237122\n",
      "At random state 288,the testing accuracy is:- 0.30664213031554166\n",
      "\n",
      "\n",
      "At random state 289,the training accuracy is:- 0.32351170965481657\n",
      "At random state 289,the testing accuracy is:- 0.3371088447815025\n",
      "\n",
      "\n",
      "At random state 290,the training accuracy is:- 0.3261315656056575\n",
      "At random state 290,the testing accuracy is:- 0.3321966918879309\n",
      "\n",
      "\n",
      "At random state 291,the training accuracy is:- 0.3237943555266505\n",
      "At random state 291,the testing accuracy is:- 0.3370395805328197\n",
      "\n",
      "\n",
      "At random state 292,the training accuracy is:- 0.33132215166288825\n",
      "At random state 292,the testing accuracy is:- 0.31438706836900654\n",
      "\n",
      "\n",
      "At random state 293,the training accuracy is:- 0.3267895643302201\n",
      "At random state 293,the testing accuracy is:- 0.3288308045148479\n",
      "\n",
      "\n",
      "At random state 294,the training accuracy is:- 0.3345390820604305\n",
      "At random state 294,the testing accuracy is:- 0.30769064502850685\n",
      "\n",
      "\n",
      "At random state 295,the training accuracy is:- 0.33105639757247207\n",
      "At random state 295,the testing accuracy is:- 0.3148962612137608\n",
      "\n",
      "\n",
      "At random state 296,the training accuracy is:- 0.33196731679535385\n",
      "At random state 296,the testing accuracy is:- 0.3136875395052552\n",
      "\n",
      "\n",
      "At random state 297,the training accuracy is:- 0.32638499879388394\n",
      "At random state 297,the testing accuracy is:- 0.3303143743760524\n",
      "\n",
      "\n",
      "At random state 298,the training accuracy is:- 0.34370500609253973\n",
      "At random state 298,the testing accuracy is:- 0.2795130894890058\n",
      "\n",
      "\n",
      "At random state 299,the training accuracy is:- 0.32399907343252343\n",
      "At random state 299,the testing accuracy is:- 0.33818730540452524\n",
      "\n",
      "\n"
     ]
    }
   ],
   "source": [
    "from sklearn.metrics import r2_score\n",
    "for i in range(0,300):\n",
    "    x_train, x_test, y_train, y_test=train_test_split(x,y,test_size=0.25,random_state=i)\n",
    "    lr.fit(x_train,y_train)\n",
    "    pred_train=lr.predict(x_train)\n",
    "    pred_test=lr.predict(x_test)\n",
    "    print(f\"At random state {i},the training accuracy is:- {r2_score(y_train, pred_train)}\")\n",
    "    print(f\"At random state {i},the testing accuracy is:- {r2_score(y_test,pred_test)}\")\n",
    "    print(\"\\n\")"
   ]
  },
  {
   "cell_type": "code",
   "execution_count": 180,
   "id": "5d2b14a6",
   "metadata": {},
   "outputs": [],
   "source": [
    "x_train, x_test, y_train, y_test = train_test_split(x, y, test_size=0.25, random_state=2)"
   ]
  },
  {
   "cell_type": "code",
   "execution_count": 183,
   "id": "6448347c",
   "metadata": {},
   "outputs": [],
   "source": [
    "lr=LinearRegression()\n",
    "lr.fit(x_train,y_train)\n",
    "Lpred=lr.predict(x_test)"
   ]
  },
  {
   "cell_type": "code",
   "execution_count": 184,
   "id": "d1e57be7",
   "metadata": {},
   "outputs": [
    {
     "data": {
      "text/plain": [
       "0.343657631030836"
      ]
     },
     "execution_count": 184,
     "metadata": {},
     "output_type": "execute_result"
    }
   ],
   "source": [
    "r2_score(y_test,Lpred)"
   ]
  },
  {
   "cell_type": "code",
   "execution_count": 185,
   "id": "b7f1afa4",
   "metadata": {},
   "outputs": [
    {
     "name": "stdout",
     "output_type": "stream",
     "text": [
      "MAE: 2195.132274785689\n",
      "MSE: 8930320.02195202\n",
      "RMSE: 2988.364104648565\n"
     ]
    }
   ],
   "source": [
    "print('MAE:', metrics.mean_absolute_error(y_test, Lpred))\n",
    "print('MSE:', metrics.mean_squared_error(y_test, Lpred))\n",
    "print('RMSE:', np.sqrt(metrics.mean_squared_error(y_test, Lpred)))"
   ]
  },
  {
   "cell_type": "code",
   "execution_count": 186,
   "id": "bb2bf5f2",
   "metadata": {},
   "outputs": [
    {
     "data": {
      "text/plain": [
       "0.32093292273267293"
      ]
     },
     "execution_count": 186,
     "metadata": {},
     "output_type": "execute_result"
    }
   ],
   "source": [
    "lr.score(x_train , y_train)"
   ]
  },
  {
   "cell_type": "code",
   "execution_count": 187,
   "id": "260d0822",
   "metadata": {},
   "outputs": [],
   "source": [
    "#With decision tree\n",
    "from sklearn.tree import DecisionTreeRegressor\n",
    "dt=DecisionTreeRegressor()\n",
    "dt.fit(x_train,y_train)\n",
    "predD=dt.predict(x_test)"
   ]
  },
  {
   "cell_type": "code",
   "execution_count": 189,
   "id": "d9ead68d",
   "metadata": {},
   "outputs": [
    {
     "name": "stdout",
     "output_type": "stream",
     "text": [
      "MAE: 1606.9931129476583\n",
      "MSE: 8970544.372584939\n",
      "RMSE: 2995.0867053534425\n"
     ]
    }
   ],
   "source": [
    "print('MAE:', metrics.mean_absolute_error(y_test, predD))\n",
    "print('MSE:', metrics.mean_squared_error(y_test, predD))\n",
    "print('RMSE:', np.sqrt(metrics.mean_squared_error(y_test, predD)))"
   ]
  },
  {
   "cell_type": "code",
   "execution_count": 190,
   "id": "2fa6b22d",
   "metadata": {},
   "outputs": [
    {
     "data": {
      "text/plain": [
       "0.9988206747307479"
      ]
     },
     "execution_count": 190,
     "metadata": {},
     "output_type": "execute_result"
    }
   ],
   "source": [
    "dt.score(x_train , y_train)"
   ]
  },
  {
   "cell_type": "code",
   "execution_count": 191,
   "id": "106296ba",
   "metadata": {},
   "outputs": [
    {
     "data": {
      "text/plain": [
       "0.34070130409968924"
      ]
     },
     "execution_count": 191,
     "metadata": {},
     "output_type": "execute_result"
    }
   ],
   "source": [
    "r2_score(y_test,predD)"
   ]
  },
  {
   "cell_type": "code",
   "execution_count": 192,
   "id": "3b0baccf",
   "metadata": {},
   "outputs": [],
   "source": [
    "#With random forest\n",
    "from sklearn.ensemble import RandomForestRegressor\n",
    "rfr = RandomForestRegressor()\n",
    "rfr.fit(x_train,y_train)\n",
    "predR=rfr.predict(x_test)"
   ]
  },
  {
   "cell_type": "code",
   "execution_count": 193,
   "id": "76f40889",
   "metadata": {},
   "outputs": [
    {
     "name": "stdout",
     "output_type": "stream",
     "text": [
      "MAE: 1296.3749024254746\n",
      "MSE: 4330029.7785321865\n",
      "RMSE: 2080.8723599808295\n"
     ]
    }
   ],
   "source": [
    "print('MAE:', metrics.mean_absolute_error(y_test, predR))\n",
    "print('MSE:', metrics.mean_squared_error(y_test, predR))\n",
    "print('RMSE:', np.sqrt(metrics.mean_squared_error(y_test, predR)))"
   ]
  },
  {
   "cell_type": "code",
   "execution_count": 194,
   "id": "b5304209",
   "metadata": {},
   "outputs": [
    {
     "data": {
      "text/plain": [
       "0.9548225040481454"
      ]
     },
     "execution_count": 194,
     "metadata": {},
     "output_type": "execute_result"
    }
   ],
   "source": [
    "rfr.score(x_train , y_train)"
   ]
  },
  {
   "cell_type": "code",
   "execution_count": 195,
   "id": "6f91b97b",
   "metadata": {},
   "outputs": [
    {
     "data": {
      "text/plain": [
       "0.6817603405518686"
      ]
     },
     "execution_count": 195,
     "metadata": {},
     "output_type": "execute_result"
    }
   ],
   "source": [
    "r2_score(y_test,predR)"
   ]
  },
  {
   "cell_type": "code",
   "execution_count": 196,
   "id": "e6f7a915",
   "metadata": {},
   "outputs": [],
   "source": [
    "#with Adaboost \n",
    "from sklearn.ensemble import AdaBoostRegressor\n",
    "ada = AdaBoostRegressor()\n",
    "ada.fit(x_train,y_train)\n",
    "predA=ada.predict(x_test)"
   ]
  },
  {
   "cell_type": "code",
   "execution_count": 197,
   "id": "4a485d8e",
   "metadata": {},
   "outputs": [
    {
     "name": "stdout",
     "output_type": "stream",
     "text": [
      "MAE: 3082.361510008475\n",
      "MSE: 13953266.902444283\n",
      "RMSE: 3735.407193659653\n"
     ]
    }
   ],
   "source": [
    "print('MAE:', metrics.mean_absolute_error(y_test, predA))\n",
    "print('MSE:', metrics.mean_squared_error(y_test, predA))\n",
    "print('RMSE:', np.sqrt(metrics.mean_squared_error(y_test, predA)))"
   ]
  },
  {
   "cell_type": "code",
   "execution_count": 200,
   "id": "c9d2ee6b",
   "metadata": {},
   "outputs": [
    {
     "data": {
      "text/plain": [
       "-0.025508630272747412"
      ]
     },
     "execution_count": 200,
     "metadata": {},
     "output_type": "execute_result"
    }
   ],
   "source": [
    "r2_score(y_test,predA)"
   ]
  },
  {
   "cell_type": "code",
   "execution_count": 201,
   "id": "f5d18fa0",
   "metadata": {},
   "outputs": [
    {
     "data": {
      "text/plain": [
       "0.004331534449970809"
      ]
     },
     "execution_count": 201,
     "metadata": {},
     "output_type": "execute_result"
    }
   ],
   "source": [
    "ada.score(x_train , y_train)"
   ]
  },
  {
   "cell_type": "code",
   "execution_count": 202,
   "id": "21564f82",
   "metadata": {},
   "outputs": [
    {
     "data": {
      "text/html": [
       "<style>#sk-container-id-1 {color: black;background-color: white;}#sk-container-id-1 pre{padding: 0;}#sk-container-id-1 div.sk-toggleable {background-color: white;}#sk-container-id-1 label.sk-toggleable__label {cursor: pointer;display: block;width: 100%;margin-bottom: 0;padding: 0.3em;box-sizing: border-box;text-align: center;}#sk-container-id-1 label.sk-toggleable__label-arrow:before {content: \"▸\";float: left;margin-right: 0.25em;color: #696969;}#sk-container-id-1 label.sk-toggleable__label-arrow:hover:before {color: black;}#sk-container-id-1 div.sk-estimator:hover label.sk-toggleable__label-arrow:before {color: black;}#sk-container-id-1 div.sk-toggleable__content {max-height: 0;max-width: 0;overflow: hidden;text-align: left;background-color: #f0f8ff;}#sk-container-id-1 div.sk-toggleable__content pre {margin: 0.2em;color: black;border-radius: 0.25em;background-color: #f0f8ff;}#sk-container-id-1 input.sk-toggleable__control:checked~div.sk-toggleable__content {max-height: 200px;max-width: 100%;overflow: auto;}#sk-container-id-1 input.sk-toggleable__control:checked~label.sk-toggleable__label-arrow:before {content: \"▾\";}#sk-container-id-1 div.sk-estimator input.sk-toggleable__control:checked~label.sk-toggleable__label {background-color: #d4ebff;}#sk-container-id-1 div.sk-label input.sk-toggleable__control:checked~label.sk-toggleable__label {background-color: #d4ebff;}#sk-container-id-1 input.sk-hidden--visually {border: 0;clip: rect(1px 1px 1px 1px);clip: rect(1px, 1px, 1px, 1px);height: 1px;margin: -1px;overflow: hidden;padding: 0;position: absolute;width: 1px;}#sk-container-id-1 div.sk-estimator {font-family: monospace;background-color: #f0f8ff;border: 1px dotted black;border-radius: 0.25em;box-sizing: border-box;margin-bottom: 0.5em;}#sk-container-id-1 div.sk-estimator:hover {background-color: #d4ebff;}#sk-container-id-1 div.sk-parallel-item::after {content: \"\";width: 100%;border-bottom: 1px solid gray;flex-grow: 1;}#sk-container-id-1 div.sk-label:hover label.sk-toggleable__label {background-color: #d4ebff;}#sk-container-id-1 div.sk-serial::before {content: \"\";position: absolute;border-left: 1px solid gray;box-sizing: border-box;top: 0;bottom: 0;left: 50%;z-index: 0;}#sk-container-id-1 div.sk-serial {display: flex;flex-direction: column;align-items: center;background-color: white;padding-right: 0.2em;padding-left: 0.2em;position: relative;}#sk-container-id-1 div.sk-item {position: relative;z-index: 1;}#sk-container-id-1 div.sk-parallel {display: flex;align-items: stretch;justify-content: center;background-color: white;position: relative;}#sk-container-id-1 div.sk-item::before, #sk-container-id-1 div.sk-parallel-item::before {content: \"\";position: absolute;border-left: 1px solid gray;box-sizing: border-box;top: 0;bottom: 0;left: 50%;z-index: -1;}#sk-container-id-1 div.sk-parallel-item {display: flex;flex-direction: column;z-index: 1;position: relative;background-color: white;}#sk-container-id-1 div.sk-parallel-item:first-child::after {align-self: flex-end;width: 50%;}#sk-container-id-1 div.sk-parallel-item:last-child::after {align-self: flex-start;width: 50%;}#sk-container-id-1 div.sk-parallel-item:only-child::after {width: 0;}#sk-container-id-1 div.sk-dashed-wrapped {border: 1px dashed gray;margin: 0 0.4em 0.5em 0.4em;box-sizing: border-box;padding-bottom: 0.4em;background-color: white;}#sk-container-id-1 div.sk-label label {font-family: monospace;font-weight: bold;display: inline-block;line-height: 1.2em;}#sk-container-id-1 div.sk-label-container {text-align: center;}#sk-container-id-1 div.sk-container {/* jupyter's `normalize.less` sets `[hidden] { display: none; }` but bootstrap.min.css set `[hidden] { display: none !important; }` so we also need the `!important` here to be able to override the default hidden behavior on the sphinx rendered scikit-learn.org. See: https://github.com/scikit-learn/scikit-learn/issues/21755 */display: inline-block !important;position: relative;}#sk-container-id-1 div.sk-text-repr-fallback {display: none;}</style><div id=\"sk-container-id-1\" class=\"sk-top-container\"><div class=\"sk-text-repr-fallback\"><pre>RandomForestClassifier()</pre><b>In a Jupyter environment, please rerun this cell to show the HTML representation or trust the notebook. <br />On GitHub, the HTML representation is unable to render, please try loading this page with nbviewer.org.</b></div><div class=\"sk-container\" hidden><div class=\"sk-item\"><div class=\"sk-estimator sk-toggleable\"><input class=\"sk-toggleable__control sk-hidden--visually\" id=\"sk-estimator-id-1\" type=\"checkbox\" checked><label for=\"sk-estimator-id-1\" class=\"sk-toggleable__label sk-toggleable__label-arrow\">RandomForestClassifier</label><div class=\"sk-toggleable__content\"><pre>RandomForestClassifier()</pre></div></div></div></div></div>"
      ],
      "text/plain": [
       "RandomForestClassifier()"
      ]
     },
     "execution_count": 202,
     "metadata": {},
     "output_type": "execute_result"
    }
   ],
   "source": [
    "#with random forest\n",
    "\n",
    "rf = RandomForestClassifier()\n",
    "rf.fit(x,y)"
   ]
  },
  {
   "cell_type": "code",
   "execution_count": 203,
   "id": "f2ad90d9",
   "metadata": {},
   "outputs": [],
   "source": [
    "params = {'n_estimators': [47,50,60,70], 'max_leaf_nodes': range(2,4), 'min_samples_split':range(3,10), 'max_depth': range(10,15)}"
   ]
  },
  {
   "cell_type": "code",
   "execution_count": 204,
   "id": "f8c1828c",
   "metadata": {},
   "outputs": [
    {
     "data": {
      "text/html": [
       "<style>#sk-container-id-2 {color: black;background-color: white;}#sk-container-id-2 pre{padding: 0;}#sk-container-id-2 div.sk-toggleable {background-color: white;}#sk-container-id-2 label.sk-toggleable__label {cursor: pointer;display: block;width: 100%;margin-bottom: 0;padding: 0.3em;box-sizing: border-box;text-align: center;}#sk-container-id-2 label.sk-toggleable__label-arrow:before {content: \"▸\";float: left;margin-right: 0.25em;color: #696969;}#sk-container-id-2 label.sk-toggleable__label-arrow:hover:before {color: black;}#sk-container-id-2 div.sk-estimator:hover label.sk-toggleable__label-arrow:before {color: black;}#sk-container-id-2 div.sk-toggleable__content {max-height: 0;max-width: 0;overflow: hidden;text-align: left;background-color: #f0f8ff;}#sk-container-id-2 div.sk-toggleable__content pre {margin: 0.2em;color: black;border-radius: 0.25em;background-color: #f0f8ff;}#sk-container-id-2 input.sk-toggleable__control:checked~div.sk-toggleable__content {max-height: 200px;max-width: 100%;overflow: auto;}#sk-container-id-2 input.sk-toggleable__control:checked~label.sk-toggleable__label-arrow:before {content: \"▾\";}#sk-container-id-2 div.sk-estimator input.sk-toggleable__control:checked~label.sk-toggleable__label {background-color: #d4ebff;}#sk-container-id-2 div.sk-label input.sk-toggleable__control:checked~label.sk-toggleable__label {background-color: #d4ebff;}#sk-container-id-2 input.sk-hidden--visually {border: 0;clip: rect(1px 1px 1px 1px);clip: rect(1px, 1px, 1px, 1px);height: 1px;margin: -1px;overflow: hidden;padding: 0;position: absolute;width: 1px;}#sk-container-id-2 div.sk-estimator {font-family: monospace;background-color: #f0f8ff;border: 1px dotted black;border-radius: 0.25em;box-sizing: border-box;margin-bottom: 0.5em;}#sk-container-id-2 div.sk-estimator:hover {background-color: #d4ebff;}#sk-container-id-2 div.sk-parallel-item::after {content: \"\";width: 100%;border-bottom: 1px solid gray;flex-grow: 1;}#sk-container-id-2 div.sk-label:hover label.sk-toggleable__label {background-color: #d4ebff;}#sk-container-id-2 div.sk-serial::before {content: \"\";position: absolute;border-left: 1px solid gray;box-sizing: border-box;top: 0;bottom: 0;left: 50%;z-index: 0;}#sk-container-id-2 div.sk-serial {display: flex;flex-direction: column;align-items: center;background-color: white;padding-right: 0.2em;padding-left: 0.2em;position: relative;}#sk-container-id-2 div.sk-item {position: relative;z-index: 1;}#sk-container-id-2 div.sk-parallel {display: flex;align-items: stretch;justify-content: center;background-color: white;position: relative;}#sk-container-id-2 div.sk-item::before, #sk-container-id-2 div.sk-parallel-item::before {content: \"\";position: absolute;border-left: 1px solid gray;box-sizing: border-box;top: 0;bottom: 0;left: 50%;z-index: -1;}#sk-container-id-2 div.sk-parallel-item {display: flex;flex-direction: column;z-index: 1;position: relative;background-color: white;}#sk-container-id-2 div.sk-parallel-item:first-child::after {align-self: flex-end;width: 50%;}#sk-container-id-2 div.sk-parallel-item:last-child::after {align-self: flex-start;width: 50%;}#sk-container-id-2 div.sk-parallel-item:only-child::after {width: 0;}#sk-container-id-2 div.sk-dashed-wrapped {border: 1px dashed gray;margin: 0 0.4em 0.5em 0.4em;box-sizing: border-box;padding-bottom: 0.4em;background-color: white;}#sk-container-id-2 div.sk-label label {font-family: monospace;font-weight: bold;display: inline-block;line-height: 1.2em;}#sk-container-id-2 div.sk-label-container {text-align: center;}#sk-container-id-2 div.sk-container {/* jupyter's `normalize.less` sets `[hidden] { display: none; }` but bootstrap.min.css set `[hidden] { display: none !important; }` so we also need the `!important` here to be able to override the default hidden behavior on the sphinx rendered scikit-learn.org. See: https://github.com/scikit-learn/scikit-learn/issues/21755 */display: inline-block !important;position: relative;}#sk-container-id-2 div.sk-text-repr-fallback {display: none;}</style><div id=\"sk-container-id-2\" class=\"sk-top-container\"><div class=\"sk-text-repr-fallback\"><pre>GridSearchCV(cv=6, estimator=RandomForestClassifier(), n_jobs=-1,\n",
       "             param_grid={&#x27;max_depth&#x27;: range(10, 15),\n",
       "                         &#x27;max_leaf_nodes&#x27;: range(2, 4),\n",
       "                         &#x27;min_samples_split&#x27;: range(3, 10),\n",
       "                         &#x27;n_estimators&#x27;: [47, 50, 60, 70]})</pre><b>In a Jupyter environment, please rerun this cell to show the HTML representation or trust the notebook. <br />On GitHub, the HTML representation is unable to render, please try loading this page with nbviewer.org.</b></div><div class=\"sk-container\" hidden><div class=\"sk-item sk-dashed-wrapped\"><div class=\"sk-label-container\"><div class=\"sk-label sk-toggleable\"><input class=\"sk-toggleable__control sk-hidden--visually\" id=\"sk-estimator-id-2\" type=\"checkbox\" ><label for=\"sk-estimator-id-2\" class=\"sk-toggleable__label sk-toggleable__label-arrow\">GridSearchCV</label><div class=\"sk-toggleable__content\"><pre>GridSearchCV(cv=6, estimator=RandomForestClassifier(), n_jobs=-1,\n",
       "             param_grid={&#x27;max_depth&#x27;: range(10, 15),\n",
       "                         &#x27;max_leaf_nodes&#x27;: range(2, 4),\n",
       "                         &#x27;min_samples_split&#x27;: range(3, 10),\n",
       "                         &#x27;n_estimators&#x27;: [47, 50, 60, 70]})</pre></div></div></div><div class=\"sk-parallel\"><div class=\"sk-parallel-item\"><div class=\"sk-item\"><div class=\"sk-label-container\"><div class=\"sk-label sk-toggleable\"><input class=\"sk-toggleable__control sk-hidden--visually\" id=\"sk-estimator-id-3\" type=\"checkbox\" ><label for=\"sk-estimator-id-3\" class=\"sk-toggleable__label sk-toggleable__label-arrow\">estimator: RandomForestClassifier</label><div class=\"sk-toggleable__content\"><pre>RandomForestClassifier()</pre></div></div></div><div class=\"sk-serial\"><div class=\"sk-item\"><div class=\"sk-estimator sk-toggleable\"><input class=\"sk-toggleable__control sk-hidden--visually\" id=\"sk-estimator-id-4\" type=\"checkbox\" ><label for=\"sk-estimator-id-4\" class=\"sk-toggleable__label sk-toggleable__label-arrow\">RandomForestClassifier</label><div class=\"sk-toggleable__content\"><pre>RandomForestClassifier()</pre></div></div></div></div></div></div></div></div></div></div>"
      ],
      "text/plain": [
       "GridSearchCV(cv=6, estimator=RandomForestClassifier(), n_jobs=-1,\n",
       "             param_grid={'max_depth': range(10, 15),\n",
       "                         'max_leaf_nodes': range(2, 4),\n",
       "                         'min_samples_split': range(3, 10),\n",
       "                         'n_estimators': [47, 50, 60, 70]})"
      ]
     },
     "execution_count": 204,
     "metadata": {},
     "output_type": "execute_result"
    }
   ],
   "source": [
    "rfgridsearch = GridSearchCV(rf, param_grid = params , cv=6, n_jobs = -1)\n",
    "rfgridsearch.fit(x,y)"
   ]
  },
  {
   "cell_type": "code",
   "execution_count": 212,
   "id": "5ec1e1b8",
   "metadata": {},
   "outputs": [
    {
     "data": {
      "text/html": [
       "<style>#sk-container-id-4 {color: black;background-color: white;}#sk-container-id-4 pre{padding: 0;}#sk-container-id-4 div.sk-toggleable {background-color: white;}#sk-container-id-4 label.sk-toggleable__label {cursor: pointer;display: block;width: 100%;margin-bottom: 0;padding: 0.3em;box-sizing: border-box;text-align: center;}#sk-container-id-4 label.sk-toggleable__label-arrow:before {content: \"▸\";float: left;margin-right: 0.25em;color: #696969;}#sk-container-id-4 label.sk-toggleable__label-arrow:hover:before {color: black;}#sk-container-id-4 div.sk-estimator:hover label.sk-toggleable__label-arrow:before {color: black;}#sk-container-id-4 div.sk-toggleable__content {max-height: 0;max-width: 0;overflow: hidden;text-align: left;background-color: #f0f8ff;}#sk-container-id-4 div.sk-toggleable__content pre {margin: 0.2em;color: black;border-radius: 0.25em;background-color: #f0f8ff;}#sk-container-id-4 input.sk-toggleable__control:checked~div.sk-toggleable__content {max-height: 200px;max-width: 100%;overflow: auto;}#sk-container-id-4 input.sk-toggleable__control:checked~label.sk-toggleable__label-arrow:before {content: \"▾\";}#sk-container-id-4 div.sk-estimator input.sk-toggleable__control:checked~label.sk-toggleable__label {background-color: #d4ebff;}#sk-container-id-4 div.sk-label input.sk-toggleable__control:checked~label.sk-toggleable__label {background-color: #d4ebff;}#sk-container-id-4 input.sk-hidden--visually {border: 0;clip: rect(1px 1px 1px 1px);clip: rect(1px, 1px, 1px, 1px);height: 1px;margin: -1px;overflow: hidden;padding: 0;position: absolute;width: 1px;}#sk-container-id-4 div.sk-estimator {font-family: monospace;background-color: #f0f8ff;border: 1px dotted black;border-radius: 0.25em;box-sizing: border-box;margin-bottom: 0.5em;}#sk-container-id-4 div.sk-estimator:hover {background-color: #d4ebff;}#sk-container-id-4 div.sk-parallel-item::after {content: \"\";width: 100%;border-bottom: 1px solid gray;flex-grow: 1;}#sk-container-id-4 div.sk-label:hover label.sk-toggleable__label {background-color: #d4ebff;}#sk-container-id-4 div.sk-serial::before {content: \"\";position: absolute;border-left: 1px solid gray;box-sizing: border-box;top: 0;bottom: 0;left: 50%;z-index: 0;}#sk-container-id-4 div.sk-serial {display: flex;flex-direction: column;align-items: center;background-color: white;padding-right: 0.2em;padding-left: 0.2em;position: relative;}#sk-container-id-4 div.sk-item {position: relative;z-index: 1;}#sk-container-id-4 div.sk-parallel {display: flex;align-items: stretch;justify-content: center;background-color: white;position: relative;}#sk-container-id-4 div.sk-item::before, #sk-container-id-4 div.sk-parallel-item::before {content: \"\";position: absolute;border-left: 1px solid gray;box-sizing: border-box;top: 0;bottom: 0;left: 50%;z-index: -1;}#sk-container-id-4 div.sk-parallel-item {display: flex;flex-direction: column;z-index: 1;position: relative;background-color: white;}#sk-container-id-4 div.sk-parallel-item:first-child::after {align-self: flex-end;width: 50%;}#sk-container-id-4 div.sk-parallel-item:last-child::after {align-self: flex-start;width: 50%;}#sk-container-id-4 div.sk-parallel-item:only-child::after {width: 0;}#sk-container-id-4 div.sk-dashed-wrapped {border: 1px dashed gray;margin: 0 0.4em 0.5em 0.4em;box-sizing: border-box;padding-bottom: 0.4em;background-color: white;}#sk-container-id-4 div.sk-label label {font-family: monospace;font-weight: bold;display: inline-block;line-height: 1.2em;}#sk-container-id-4 div.sk-label-container {text-align: center;}#sk-container-id-4 div.sk-container {/* jupyter's `normalize.less` sets `[hidden] { display: none; }` but bootstrap.min.css set `[hidden] { display: none !important; }` so we also need the `!important` here to be able to override the default hidden behavior on the sphinx rendered scikit-learn.org. See: https://github.com/scikit-learn/scikit-learn/issues/21755 */display: inline-block !important;position: relative;}#sk-container-id-4 div.sk-text-repr-fallback {display: none;}</style><div id=\"sk-container-id-4\" class=\"sk-top-container\"><div class=\"sk-text-repr-fallback\"><pre>RandomForestClassifier(max_depth=14, max_leaf_nodes=3, min_samples_split=4,\n",
       "                       n_estimators=47)</pre><b>In a Jupyter environment, please rerun this cell to show the HTML representation or trust the notebook. <br />On GitHub, the HTML representation is unable to render, please try loading this page with nbviewer.org.</b></div><div class=\"sk-container\" hidden><div class=\"sk-item\"><div class=\"sk-estimator sk-toggleable\"><input class=\"sk-toggleable__control sk-hidden--visually\" id=\"sk-estimator-id-6\" type=\"checkbox\" checked><label for=\"sk-estimator-id-6\" class=\"sk-toggleable__label sk-toggleable__label-arrow\">RandomForestClassifier</label><div class=\"sk-toggleable__content\"><pre>RandomForestClassifier(max_depth=14, max_leaf_nodes=3, min_samples_split=4,\n",
       "                       n_estimators=47)</pre></div></div></div></div></div>"
      ],
      "text/plain": [
       "RandomForestClassifier(max_depth=14, max_leaf_nodes=3, min_samples_split=4,\n",
       "                       n_estimators=47)"
      ]
     },
     "execution_count": 212,
     "metadata": {},
     "output_type": "execute_result"
    }
   ],
   "source": [
    "rfgridsearch.best_estimator_"
   ]
  },
  {
   "cell_type": "code",
   "execution_count": 229,
   "id": "731e8dc4",
   "metadata": {},
   "outputs": [
    {
     "name": "stdout",
     "output_type": "stream",
     "text": [
      "*****accuracy post tuning*****\n",
      "0.6817603405518686\n"
     ]
    }
   ],
   "source": [
    "rf=RandomForestClassifier(max_depth=14, max_leaf_nodes=3,\n",
    "                       n_estimators=50)\n",
    "rf.fit(x_train,y_train) #this is our score\n",
    "predA= rf.predict(x_test)\n",
    "print ('*****accuracy post tuning*****')\n",
    "print (metrics.r2_score(y_test,predR))"
   ]
  },
  {
   "cell_type": "code",
   "execution_count": 215,
   "id": "a1f88f81",
   "metadata": {},
   "outputs": [
    {
     "data": {
      "text/html": [
       "<div>\n",
       "<style scoped>\n",
       "    .dataframe tbody tr th:only-of-type {\n",
       "        vertical-align: middle;\n",
       "    }\n",
       "\n",
       "    .dataframe tbody tr th {\n",
       "        vertical-align: top;\n",
       "    }\n",
       "\n",
       "    .dataframe thead th {\n",
       "        text-align: right;\n",
       "    }\n",
       "</style>\n",
       "<table border=\"1\" class=\"dataframe\">\n",
       "  <thead>\n",
       "    <tr style=\"text-align: right;\">\n",
       "      <th></th>\n",
       "      <th>Y Test</th>\n",
       "      <th>Pred</th>\n",
       "    </tr>\n",
       "  </thead>\n",
       "  <tbody>\n",
       "    <tr>\n",
       "      <th>521</th>\n",
       "      <td>7426.0</td>\n",
       "      <td>7835.99</td>\n",
       "    </tr>\n",
       "    <tr>\n",
       "      <th>3602</th>\n",
       "      <td>12352.0</td>\n",
       "      <td>10670.62</td>\n",
       "    </tr>\n",
       "    <tr>\n",
       "      <th>3278</th>\n",
       "      <td>9441.0</td>\n",
       "      <td>9778.96</td>\n",
       "    </tr>\n",
       "    <tr>\n",
       "      <th>5319</th>\n",
       "      <td>9252.0</td>\n",
       "      <td>14652.67</td>\n",
       "    </tr>\n",
       "    <tr>\n",
       "      <th>4144</th>\n",
       "      <td>6489.0</td>\n",
       "      <td>7052.68</td>\n",
       "    </tr>\n",
       "  </tbody>\n",
       "</table>\n",
       "</div>"
      ],
      "text/plain": [
       "       Y Test      Pred\n",
       "521    7426.0   7835.99\n",
       "3602  12352.0  10670.62\n",
       "3278   9441.0   9778.96\n",
       "5319   9252.0  14652.67\n",
       "4144   6489.0   7052.68"
      ]
     },
     "execution_count": 215,
     "metadata": {},
     "output_type": "execute_result"
    },
    {
     "data": {
      "image/png": "[encoded data removed]",
      "text/plain": [
       "<Figure size 360x360 with 1 Axes>"
      ]
     },
     "metadata": {
      "needs_background": "light"
     },
     "output_type": "display_data"
    }
   ],
   "source": [
    "data = pd.DataFrame({'Y Test':y_test , 'Pred':predR},columns=['Y Test','Pred'])\n",
    "sns.lmplot(x='Y Test',y='Pred',data=data,palette='rainbow')\n",
    "data.head()"
   ]
  },
  {
   "cell_type": "code",
   "execution_count": 231,
   "id": "51f37d73",
   "metadata": {},
   "outputs": [],
   "source": [
    "rf_tuning=rf.fit(x,y)"
   ]
  },
  {
   "cell_type": "code",
   "execution_count": 232,
   "id": "00324c94",
   "metadata": {},
   "outputs": [],
   "source": [
    "import pickle as pkl\n",
    "Flight_Prediction_Model='Flight_Prediction.pickle'\n",
    "pkl.dump(rf_tuning, open(Flight_Prediction_Model,'wb'))"
   ]
  },
  {
   "cell_type": "code",
   "execution_count": null,
   "id": "01de3fc5",
   "metadata": {},
   "outputs": [],
   "source": []
  }
 ],
 "metadata": {
  "kernelspec": {
   "display_name": "Python 3 (ipykernel)",
   "language": "python",
   "name": "python3"
  },
  "language_info": {
   "codemirror_mode": {
    "name": "ipython",
    "version": 3
   },
   "file_extension": ".py",
   "mimetype": "text/x-python",
   "name": "python",
   "nbconvert_exporter": "python",
   "pygments_lexer": "ipython3",
   "version": "3.9.12"
  }
 },
 "nbformat": 4,
 "nbformat_minor": 5
}
