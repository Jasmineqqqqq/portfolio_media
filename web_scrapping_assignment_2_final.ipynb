{
 "cells": [
  {
   "cell_type": "code",
   "execution_count": 1,
   "id": "51620bf9",
   "metadata": {},
   "outputs": [],
   "source": [
    "#Q1: Write a python program to scrape data for “Data Analyst” Job position in “Bangalore” location. You \n",
    "#have to scrape the job-title, job-location, company_name, experience_required. You have to scrape first 10 \n",
    "#jobs data.\n",
    "#This task will be done in following steps:\n",
    "#1. First get the webpage https://www.naukri.com/\n",
    "#2. Enter “Data Analyst” in “Skill, Designations, Companies” field and enter “Bangalore” in “enter the\n",
    "#location” field.\n",
    "#3. Then click the search button.\n",
    "#4. Then scrape the data for the first 10 jobs results you get.\n",
    "#5. Finally create a dataframe of the scraped data.\n",
    "#Note: All of the above steps have to be done in code. No step is to be done manually.\n"
   ]
  },
  {
   "cell_type": "code",
   "execution_count": 5,
   "id": "f2664b41",
   "metadata": {},
   "outputs": [],
   "source": [
    "#Let's import all required Libraries\n",
    "import selenium\n",
    "import time\n",
    "from selenium import webdriver\n",
    "import pandas as pd\n",
    "import warnings\n",
    "warnings.filterwarnings(\"ignore\")\n",
    "\n",
    "from selenium.webdriver.common.keys import Keys\n",
    "from selenium.webdriver.chrome.options import Options\n",
    "from selenium.webdriver.support.ui import WebDriverWait\n",
    "from selenium.webdriver.support import expected_conditions as EC\n",
    "from getpass import getpass\n",
    "\n",
    "from selenium.webdriver.chrome.service import Service #always import this or web driver gives truble\n",
    "from selenium.webdriver.common.by import By #always import this or web driver gives truble\n",
    "import time\n",
    "\n",
    "\n",
    "#from webdriver_manager.chrome import ChromeDriverManager # to manage the webdrivers for mac"
   ]
  },
  {
   "cell_type": "code",
   "execution_count": 2,
   "id": "91d63268",
   "metadata": {},
   "outputs": [
    {
     "name": "stderr",
     "output_type": "stream",
     "text": [
      "\n",
      "\n",
      "====== WebDriver manager ======\n",
      "Current google-chrome version is 103.0.5060\n",
      "Get LATEST chromedriver version for 103.0.5060 google-chrome\n",
      "Driver [/Users/sagarsalian/.wdm/drivers/chromedriver/mac64/103.0.5060.53/chromedriver] found in cache\n"
     ]
    }
   ],
   "source": [
    "#driver = webdriver.Chrome('chromedriver.exe')\n",
    "driver = webdriver.Chrome(ChromeDriverManager().install()) #for mac"
   ]
  },
  {
   "cell_type": "code",
   "execution_count": 260,
   "id": "bc0510e6",
   "metadata": {},
   "outputs": [],
   "source": [
    "url='https://www.naukri.com/'\n",
    "driver.get(url)"
   ]
  },
  {
   "cell_type": "code",
   "execution_count": 261,
   "id": "c42db9dd",
   "metadata": {},
   "outputs": [
    {
     "data": {
      "text/plain": [
       "<selenium.webdriver.remote.webelement.WebElement (session=\"ce4fa300c0310de2d0bdab38895a8855\", element=\"cca611ae-afb1-4e33-9f80-3b1b02833b32\")>"
      ]
     },
     "execution_count": 261,
     "metadata": {},
     "output_type": "execute_result"
    }
   ],
   "source": [
    "#finding web element for search job bar usind id\n",
    "job=driver.find_element(By.CLASS_NAME,\"suggestor-input\")\n",
    "job"
   ]
  },
  {
   "cell_type": "code",
   "execution_count": 262,
   "id": "618ba456",
   "metadata": {},
   "outputs": [],
   "source": [
    "job.send_keys(\"Data Analyst\")\n"
   ]
  },
  {
   "cell_type": "code",
   "execution_count": 267,
   "id": "c7b9e0ab",
   "metadata": {},
   "outputs": [
    {
     "data": {
      "text/plain": [
       "<selenium.webdriver.remote.webelement.WebElement (session=\"ce4fa300c0310de2d0bdab38895a8855\", element=\"381ff139-fe10-4910-bf1b-3479a9acaf9c\")>"
      ]
     },
     "execution_count": 267,
     "metadata": {},
     "output_type": "execute_result"
    }
   ],
   "source": [
    "search_locn = driver.find_element(By.XPATH,'/html/body/div[1]/div[2]/div[3]/div/div/div[5]/div/div/div/input')\n",
    "search_locn"
   ]
  },
  {
   "cell_type": "code",
   "execution_count": 268,
   "id": "13593477",
   "metadata": {},
   "outputs": [],
   "source": [
    "#finding web element for job Location bar\n",
    "search_locn.send_keys (\"Bangalore\")"
   ]
  },
  {
   "cell_type": "code",
   "execution_count": 269,
   "id": "0d2aae41",
   "metadata": {},
   "outputs": [],
   "source": [
    "search_btn=driver.find_element(By.XPATH,'/html/body/div[1]/div[2]/div[3]/div/div/div[6]')"
   ]
  },
  {
   "cell_type": "code",
   "execution_count": 270,
   "id": "9991d5ae",
   "metadata": {},
   "outputs": [],
   "source": [
    "search_btn.click()"
   ]
  },
  {
   "cell_type": "code",
   "execution_count": 271,
   "id": "b9be58fe",
   "metadata": {},
   "outputs": [],
   "source": [
    "#title = driver.find_elements(By.CSS_SELECTOR,'a.title')\n",
    "title = driver.find_elements(By.CSS_SELECTOR,'a.title')\n",
    "experience =  driver.find_elements(By.CSS_SELECTOR,'li.experience')\n",
    "location =  driver.find_elements(By.CSS_SELECTOR,'li.location')\n",
    "job_title = []\n",
    "job_location = []\n",
    "job_experience = []"
   ]
  },
  {
   "cell_type": "markdown",
   "id": "39e574b2",
   "metadata": {},
   "source": [
    "name = driver.find_element(By.TAG_NAME,'a')\n",
    "name"
   ]
  },
  {
   "cell_type": "code",
   "execution_count": 272,
   "id": "e8f0a93a",
   "metadata": {},
   "outputs": [],
   "source": [
    "for title in title:\n",
    "    job_title.append(title.text)\n",
    "    \n",
    "for experience in experience:\n",
    "    job_experience.append(experience.text)\n",
    "    \n",
    "for location in location:\n",
    "    job_location.append(location.text)"
   ]
  },
  {
   "cell_type": "code",
   "execution_count": 273,
   "id": "7129e11e",
   "metadata": {},
   "outputs": [
    {
     "data": {
      "text/html": [
       "<div>\n",
       "<style scoped>\n",
       "    .dataframe tbody tr th:only-of-type {\n",
       "        vertical-align: middle;\n",
       "    }\n",
       "\n",
       "    .dataframe tbody tr th {\n",
       "        vertical-align: top;\n",
       "    }\n",
       "\n",
       "    .dataframe thead th {\n",
       "        text-align: right;\n",
       "    }\n",
       "</style>\n",
       "<table border=\"1\" class=\"dataframe\">\n",
       "  <thead>\n",
       "    <tr style=\"text-align: right;\">\n",
       "      <th></th>\n",
       "      <th>Title</th>\n",
       "      <th>Experience</th>\n",
       "      <th>Location</th>\n",
       "    </tr>\n",
       "  </thead>\n",
       "  <tbody>\n",
       "    <tr>\n",
       "      <th>0</th>\n",
       "      <td>Data Analyst - Python/Artificial Intelligence</td>\n",
       "      <td>0-2 Yrs</td>\n",
       "      <td>Kolkata, Mumbai, Hyderabad/Secunderabad, Pune,...</td>\n",
       "    </tr>\n",
       "    <tr>\n",
       "      <th>1</th>\n",
       "      <td>Business Data Analyst - Tableau/Power BI</td>\n",
       "      <td>0-2 Yrs</td>\n",
       "      <td>Mumbai</td>\n",
       "    </tr>\n",
       "    <tr>\n",
       "      <th>2</th>\n",
       "      <td>Job opportunity For Data Analyst at Trellance ...</td>\n",
       "      <td>0-2 Yrs</td>\n",
       "      <td>Ahmedabad, Bangalore/Bengaluru</td>\n",
       "    </tr>\n",
       "    <tr>\n",
       "      <th>3</th>\n",
       "      <td>Junior/ Senior - Data Analyst</td>\n",
       "      <td>0-3 Yrs</td>\n",
       "      <td>Mumbai</td>\n",
       "    </tr>\n",
       "    <tr>\n",
       "      <th>4</th>\n",
       "      <td>MDP Associate (Earlier known as Data Research ...</td>\n",
       "      <td>0-2 Yrs</td>\n",
       "      <td>Mumbai(Sector 30A Vashi)</td>\n",
       "    </tr>\n",
       "    <tr>\n",
       "      <th>5</th>\n",
       "      <td>Sr.Business Data Analyst</td>\n",
       "      <td>6-11 Yrs</td>\n",
       "      <td>Bangalore/Bengaluru, karnataka\\n(WFH during Co...</td>\n",
       "    </tr>\n",
       "    <tr>\n",
       "      <th>6</th>\n",
       "      <td>Data Analyst - Python/Artificial Intelligence</td>\n",
       "      <td>0-2 Yrs</td>\n",
       "      <td>Kolkata, Mumbai, Hyderabad/Secunderabad, Pune,...</td>\n",
       "    </tr>\n",
       "    <tr>\n",
       "      <th>7</th>\n",
       "      <td>Data Analyst</td>\n",
       "      <td>0-2 Yrs</td>\n",
       "      <td>Mumbai</td>\n",
       "    </tr>\n",
       "    <tr>\n",
       "      <th>8</th>\n",
       "      <td>Data Analyst</td>\n",
       "      <td>4-9 Yrs</td>\n",
       "      <td>Noida, Hyderabad/Secunderabad, Gurgaon/Gurugra...</td>\n",
       "    </tr>\n",
       "    <tr>\n",
       "      <th>9</th>\n",
       "      <td>Business Analyst / Data information analyst/ S...</td>\n",
       "      <td>3-8 Yrs</td>\n",
       "      <td>Chennai, Mumbai (All Areas)</td>\n",
       "    </tr>\n",
       "    <tr>\n",
       "      <th>10</th>\n",
       "      <td>Petroleum Data Analyst</td>\n",
       "      <td>0-5 Yrs</td>\n",
       "      <td>Kolkata, Delhi / NCR, Mumbai (All Areas)\\n(WFH...</td>\n",
       "    </tr>\n",
       "    <tr>\n",
       "      <th>11</th>\n",
       "      <td>EY Hiring- Sr. Data Analyst- Bhubaneswar</td>\n",
       "      <td>8-13 Yrs</td>\n",
       "      <td>Bhubaneswar</td>\n",
       "    </tr>\n",
       "    <tr>\n",
       "      <th>12</th>\n",
       "      <td>Data Analyst - Planning &amp; Analysis - Insurance</td>\n",
       "      <td>0-2 Yrs</td>\n",
       "      <td>Mumbai</td>\n",
       "    </tr>\n",
       "    <tr>\n",
       "      <th>13</th>\n",
       "      <td>Data Analyst</td>\n",
       "      <td>0-2 Yrs</td>\n",
       "      <td>Mumbai, Mumbai Suburban, Thane, Navi Mumbai, Pune</td>\n",
       "    </tr>\n",
       "    <tr>\n",
       "      <th>14</th>\n",
       "      <td>Data Analyst</td>\n",
       "      <td>0-1 Yrs</td>\n",
       "      <td>Gurgaon/Gurugram</td>\n",
       "    </tr>\n",
       "    <tr>\n",
       "      <th>15</th>\n",
       "      <td>Hiring For Data Analyst</td>\n",
       "      <td>2-5 Yrs</td>\n",
       "      <td>Bangalore/Bengaluru</td>\n",
       "    </tr>\n",
       "    <tr>\n",
       "      <th>16</th>\n",
       "      <td>Associate Data Analyst</td>\n",
       "      <td>2-7 Yrs</td>\n",
       "      <td>Bangalore/Bengaluru</td>\n",
       "    </tr>\n",
       "    <tr>\n",
       "      <th>17</th>\n",
       "      <td>Associate Data Analyst</td>\n",
       "      <td>1-4 Yrs</td>\n",
       "      <td>Bangalore/Bengaluru</td>\n",
       "    </tr>\n",
       "    <tr>\n",
       "      <th>18</th>\n",
       "      <td>Data Research Analyst</td>\n",
       "      <td>0-2 Yrs</td>\n",
       "      <td>Mumbai</td>\n",
       "    </tr>\n",
       "    <tr>\n",
       "      <th>19</th>\n",
       "      <td>Data research analyst</td>\n",
       "      <td>0-3 Yrs</td>\n",
       "      <td>Mumbai</td>\n",
       "    </tr>\n",
       "  </tbody>\n",
       "</table>\n",
       "</div>"
      ],
      "text/plain": [
       "                                                Title Experience  \\\n",
       "0       Data Analyst - Python/Artificial Intelligence    0-2 Yrs   \n",
       "1            Business Data Analyst - Tableau/Power BI    0-2 Yrs   \n",
       "2   Job opportunity For Data Analyst at Trellance ...    0-2 Yrs   \n",
       "3                       Junior/ Senior - Data Analyst    0-3 Yrs   \n",
       "4   MDP Associate (Earlier known as Data Research ...    0-2 Yrs   \n",
       "5                            Sr.Business Data Analyst   6-11 Yrs   \n",
       "6       Data Analyst - Python/Artificial Intelligence    0-2 Yrs   \n",
       "7                                        Data Analyst    0-2 Yrs   \n",
       "8                                        Data Analyst    4-9 Yrs   \n",
       "9   Business Analyst / Data information analyst/ S...    3-8 Yrs   \n",
       "10                             Petroleum Data Analyst    0-5 Yrs   \n",
       "11           EY Hiring- Sr. Data Analyst- Bhubaneswar   8-13 Yrs   \n",
       "12     Data Analyst - Planning & Analysis - Insurance    0-2 Yrs   \n",
       "13                                       Data Analyst    0-2 Yrs   \n",
       "14                                       Data Analyst    0-1 Yrs   \n",
       "15                            Hiring For Data Analyst    2-5 Yrs   \n",
       "16                             Associate Data Analyst    2-7 Yrs   \n",
       "17                             Associate Data Analyst    1-4 Yrs   \n",
       "18                              Data Research Analyst    0-2 Yrs   \n",
       "19                              Data research analyst    0-3 Yrs   \n",
       "\n",
       "                                             Location  \n",
       "0   Kolkata, Mumbai, Hyderabad/Secunderabad, Pune,...  \n",
       "1                                              Mumbai  \n",
       "2                      Ahmedabad, Bangalore/Bengaluru  \n",
       "3                                              Mumbai  \n",
       "4                            Mumbai(Sector 30A Vashi)  \n",
       "5   Bangalore/Bengaluru, karnataka\\n(WFH during Co...  \n",
       "6   Kolkata, Mumbai, Hyderabad/Secunderabad, Pune,...  \n",
       "7                                              Mumbai  \n",
       "8   Noida, Hyderabad/Secunderabad, Gurgaon/Gurugra...  \n",
       "9                         Chennai, Mumbai (All Areas)  \n",
       "10  Kolkata, Delhi / NCR, Mumbai (All Areas)\\n(WFH...  \n",
       "11                                        Bhubaneswar  \n",
       "12                                             Mumbai  \n",
       "13  Mumbai, Mumbai Suburban, Thane, Navi Mumbai, Pune  \n",
       "14                                   Gurgaon/Gurugram  \n",
       "15                                Bangalore/Bengaluru  \n",
       "16                                Bangalore/Bengaluru  \n",
       "17                                Bangalore/Bengaluru  \n",
       "18                                             Mumbai  \n",
       "19                                             Mumbai  "
      ]
     },
     "execution_count": 273,
     "metadata": {},
     "output_type": "execute_result"
    }
   ],
   "source": [
    "data = {'Title': job_title, 'Experience': job_experience, 'Location': job_location}\n",
    "df = pd.DataFrame(data)\n",
    "df"
   ]
  },
  {
   "cell_type": "code",
   "execution_count": null,
   "id": "28e79d8a",
   "metadata": {},
   "outputs": [],
   "source": [
    "#q2. Q2: Write a python program to scrape data for “Data Scientist” Job position in “Bangalore” location. You \n",
    "#have to scrape the job-title, job-location, company_name. You have to scrape first 10 jobs data.\n",
    "#This task will be done in following steps:\n",
    "#1. First get the webpage https://www.naukri.com/\n",
    "#2. Enter “Data Scientist” in “Skill, Designations, Companies” field and enter “Bangalore” in “enter the\n",
    "#location” field.\n",
    "#3. Then click the search button.\n",
    "#4. Then scrape the data for the first 10 jobs results you get.\n",
    "#5. Finally create a dataframe of the scraped data.\n",
    "#Note: All of the above steps have to be done in code. No step is to be done manually."
   ]
  },
  {
   "cell_type": "code",
   "execution_count": 276,
   "id": "85df3484",
   "metadata": {},
   "outputs": [],
   "source": [
    "driver = webdriver.Chrome('chromedriver.exe')"
   ]
  },
  {
   "cell_type": "code",
   "execution_count": 277,
   "id": "1ed8c3bf",
   "metadata": {},
   "outputs": [],
   "source": [
    "url='https://www.naukri.com/'\n",
    "driver.get(url)"
   ]
  },
  {
   "cell_type": "code",
   "execution_count": 278,
   "id": "7ed6d8fe",
   "metadata": {},
   "outputs": [
    {
     "data": {
      "text/plain": [
       "<selenium.webdriver.remote.webelement.WebElement (session=\"48e1207ca734ecdbf8ed3645e5864e11\", element=\"5c70d6a5-cc6a-47a5-860a-425ee21f059e\")>"
      ]
     },
     "execution_count": 278,
     "metadata": {},
     "output_type": "execute_result"
    }
   ],
   "source": [
    "#finding web element for search job bar usind id\n",
    "job=driver.find_element(By.CLASS_NAME,\"suggestor-input\")\n",
    "job"
   ]
  },
  {
   "cell_type": "code",
   "execution_count": 279,
   "id": "cfb3f958",
   "metadata": {},
   "outputs": [],
   "source": [
    "job.send_keys(\"Data Scientist\")"
   ]
  },
  {
   "cell_type": "code",
   "execution_count": 280,
   "id": "681b617f",
   "metadata": {},
   "outputs": [],
   "source": [
    "search_btn=driver.find_element(By.XPATH,'/html/body/div[1]/div[2]/div[3]/div/div/div[6]')"
   ]
  },
  {
   "cell_type": "code",
   "execution_count": 281,
   "id": "4b22968b",
   "metadata": {},
   "outputs": [],
   "source": [
    "search_btn.click()"
   ]
  },
  {
   "cell_type": "code",
   "execution_count": 282,
   "id": "177ca62e",
   "metadata": {},
   "outputs": [],
   "source": [
    "location_check_box = driver.find_element(By.XPATH, \"//span[text()='Delhi / NCR']\")\n",
    "location_check_box.click()\n",
    "time.sleep(3)\n",
    "salary_check_box =  driver.find_element(By.XPATH, \"//span[text()='0-3 Lakhs']\")\n",
    "salary_check_box.click()"
   ]
  },
  {
   "cell_type": "code",
   "execution_count": 283,
   "id": "297c855b",
   "metadata": {},
   "outputs": [
    {
     "data": {
      "text/html": [
       "<div>\n",
       "<style scoped>\n",
       "    .dataframe tbody tr th:only-of-type {\n",
       "        vertical-align: middle;\n",
       "    }\n",
       "\n",
       "    .dataframe tbody tr th {\n",
       "        vertical-align: top;\n",
       "    }\n",
       "\n",
       "    .dataframe thead th {\n",
       "        text-align: right;\n",
       "    }\n",
       "</style>\n",
       "<table border=\"1\" class=\"dataframe\">\n",
       "  <thead>\n",
       "    <tr style=\"text-align: right;\">\n",
       "      <th></th>\n",
       "      <th>Title</th>\n",
       "      <th>Experience</th>\n",
       "      <th>Location</th>\n",
       "      <th>Company</th>\n",
       "    </tr>\n",
       "  </thead>\n",
       "  <tbody>\n",
       "    <tr>\n",
       "      <th>0</th>\n",
       "      <td>Data Scientist For Healthcare Product team</td>\n",
       "      <td>2-7 Yrs</td>\n",
       "      <td>Delhi / NCR, Chennai, Bangalore/Bengaluru</td>\n",
       "      <td>8KMiles Software Services</td>\n",
       "    </tr>\n",
       "    <tr>\n",
       "      <th>1</th>\n",
       "      <td>Data Scientist For Healthcare Product team</td>\n",
       "      <td>2-7 Yrs</td>\n",
       "      <td>Delhi / NCR, Chennai, Bangalore/Bengaluru</td>\n",
       "      <td>8KMiles Software Services</td>\n",
       "    </tr>\n",
       "    <tr>\n",
       "      <th>2</th>\n",
       "      <td>Hiring For Data Science Intern- DataTrained Ed...</td>\n",
       "      <td>0-2 Yrs</td>\n",
       "      <td>Delhi / NCR, Gurgaon/Gurugram, Bangalore/Benga...</td>\n",
       "      <td>DataTrained</td>\n",
       "    </tr>\n",
       "    <tr>\n",
       "      <th>3</th>\n",
       "      <td>Knowledge/Data Scientist</td>\n",
       "      <td>3-6 Yrs</td>\n",
       "      <td>Delhi / NCR</td>\n",
       "      <td>BOLD Technology Systems</td>\n",
       "    </tr>\n",
       "    <tr>\n",
       "      <th>4</th>\n",
       "      <td>Data Scientist</td>\n",
       "      <td>2-4 Yrs</td>\n",
       "      <td>Delhi / NCR, Pune, Bangalore/Bengaluru</td>\n",
       "      <td>Mount Talent Consulting Private Limited</td>\n",
       "    </tr>\n",
       "    <tr>\n",
       "      <th>5</th>\n",
       "      <td>Data Scientist</td>\n",
       "      <td>2-4 Yrs</td>\n",
       "      <td>Delhi / NCR, Pune, Bangalore/Bengaluru</td>\n",
       "      <td>Mount Talent Consulting Private Limited</td>\n",
       "    </tr>\n",
       "    <tr>\n",
       "      <th>6</th>\n",
       "      <td>Data Science</td>\n",
       "      <td>2-5 Yrs</td>\n",
       "      <td>Delhi / NCR, Noida, Faridabad, Gurgaon/Gurugra...</td>\n",
       "      <td>Mount Talent Consulting Private Limited</td>\n",
       "    </tr>\n",
       "    <tr>\n",
       "      <th>7</th>\n",
       "      <td>Data Science</td>\n",
       "      <td>2-5 Yrs</td>\n",
       "      <td>Delhi / NCR, Noida, Faridabad, Gurgaon/Gurugra...</td>\n",
       "      <td>Mount Talent Consulting Private Limited</td>\n",
       "    </tr>\n",
       "    <tr>\n",
       "      <th>8</th>\n",
       "      <td>Data Scientist</td>\n",
       "      <td>2-4 Yrs</td>\n",
       "      <td>Gurgaon/Gurugram</td>\n",
       "      <td>PRASU SOFTWARE SOLUTIONS PRIVATE LIMITED</td>\n",
       "    </tr>\n",
       "  </tbody>\n",
       "</table>\n",
       "</div>"
      ],
      "text/plain": [
       "                                               Title Experience  \\\n",
       "0         Data Scientist For Healthcare Product team    2-7 Yrs   \n",
       "1         Data Scientist For Healthcare Product team    2-7 Yrs   \n",
       "2  Hiring For Data Science Intern- DataTrained Ed...    0-2 Yrs   \n",
       "3                           Knowledge/Data Scientist    3-6 Yrs   \n",
       "4                                     Data Scientist    2-4 Yrs   \n",
       "5                                     Data Scientist    2-4 Yrs   \n",
       "6                                       Data Science    2-5 Yrs   \n",
       "7                                       Data Science    2-5 Yrs   \n",
       "8                                     Data Scientist    2-4 Yrs   \n",
       "\n",
       "                                            Location  \\\n",
       "0          Delhi / NCR, Chennai, Bangalore/Bengaluru   \n",
       "1          Delhi / NCR, Chennai, Bangalore/Bengaluru   \n",
       "2  Delhi / NCR, Gurgaon/Gurugram, Bangalore/Benga...   \n",
       "3                                        Delhi / NCR   \n",
       "4             Delhi / NCR, Pune, Bangalore/Bengaluru   \n",
       "5             Delhi / NCR, Pune, Bangalore/Bengaluru   \n",
       "6  Delhi / NCR, Noida, Faridabad, Gurgaon/Gurugra...   \n",
       "7  Delhi / NCR, Noida, Faridabad, Gurgaon/Gurugra...   \n",
       "8                                   Gurgaon/Gurugram   \n",
       "\n",
       "                                    Company  \n",
       "0                 8KMiles Software Services  \n",
       "1                 8KMiles Software Services  \n",
       "2                               DataTrained  \n",
       "3                   BOLD Technology Systems  \n",
       "4   Mount Talent Consulting Private Limited  \n",
       "5   Mount Talent Consulting Private Limited  \n",
       "6   Mount Talent Consulting Private Limited  \n",
       "7   Mount Talent Consulting Private Limited  \n",
       "8  PRASU SOFTWARE SOLUTIONS PRIVATE LIMITED  "
      ]
     },
     "execution_count": 283,
     "metadata": {},
     "output_type": "execute_result"
    }
   ],
   "source": [
    "title = driver.find_elements(By.CSS_SELECTOR,'a.title')\n",
    "company = driver.find_elements(By.CSS_SELECTOR,'a.subTitle')\n",
    "experience =  driver.find_elements(By.CSS_SELECTOR,'li.experience')\n",
    "location =  driver.find_elements(By.CSS_SELECTOR,'li.location')\n",
    "job_title = []\n",
    "job_location = []\n",
    "job_experience = []\n",
    "job_company = []\n",
    "for title in title:\n",
    "    job_title.append(title.text)\n",
    "    \n",
    "for experience in experience:\n",
    "    job_experience.append(experience.text)\n",
    "    \n",
    "for location in location:\n",
    "    job_location.append(location.text)\n",
    "    \n",
    "for company in company:\n",
    "    job_company.append(company.text)\n",
    "\n",
    "data = {'Title': job_title, 'Experience': job_experience, 'Location': job_location, 'Company': job_company}\n",
    "df = pd.DataFrame(data)\n",
    "df"
   ]
  },
  {
   "cell_type": "code",
   "execution_count": 14,
   "id": "ca026b67",
   "metadata": {},
   "outputs": [],
   "source": [
    "#q3.Q3: In this question you have to scrape data using the filters available on the webpage as shown below:\n",
    "# You have to use the location and salary filter.\n",
    "# You have to scrape data for “Data Scientist” designation for first 10 job results.\n",
    "# You have to scrape the job-title, job-location, company name, experience required. \n",
    "# The location filter to be used is “Delhi/NCR”. The salary filter to be used is “3-6” lakhs\n",
    "# The task will be done as shown in the below steps:\n",
    "# 1. first get the webpage https://www.naukri.com/\n",
    "# 2. Enter “Data Scientist” in “Skill, Designations, and Companies” field.\n",
    "# 3. Then click the search button.\n",
    "# 4. Then apply the location filter and salary filter by checking the respective boxes\n",
    "# 5. Then scrape the data for the first 10 jobs results you get.\n",
    "# 6. Finally create a dataframe of the scraped data.\n",
    "# Note: All of the above steps have to be done in code. No ste\n"
   ]
  },
  {
   "cell_type": "code",
   "execution_count": 10,
   "id": "10ac44d4",
   "metadata": {},
   "outputs": [],
   "source": [
    "#search_filter = driver.find_elements(By.CSS_SELECTOR, 'div.filterHeading')\n",
    "\n",
    "search_filter = driver.find_elements_by_xpath(\"//*[contains(text(), 'Location')]\")\n",
    "\n",
    "\n",
    "# for sf in search_filter:\n",
    "#     if(sf.text == \"Location\"):\n",
    "#         dummy = driver.find_elements_by_class_name(\"filter-more-link\")\n",
    "#         for d in dummy:\n",
    "#             print(d.text)\n",
    "last_filter = driver.find_elements(By.CSS_SELECTOR,'a.filter-more-link')\n",
    "le = last_filter[-1]\n",
    "le.click()\n",
    "# location_check_box = driver.find_element(By.ID, \"chk-Delhi / NCR-cityTypeGid-expanded\")\n",
    "location_check_box = driver.find_element(By.XPATH, '/html/body/div[1]/div[3]/div[2]/section[1]/div[2]/div[12]/div[3]/div[2]/div[5]/label/i')\n",
    "location_check_box.click()\n",
    "time.sleep(5)\n",
    "\n",
    "# salary_check_box =  driver.find_element(By.ID, \"chk-0-3 Lakhs-ctcFilter-\")\n",
    "salary_check_box = driver.find_element(By.XPATH, '/html/body/div[1]/div[3]/div[2]/section[1]/div[2]/div[5]/div[2]/div[1]/label/p/span[1]')\n",
    "salary_check_box.click()"
   ]
  },
  {
   "cell_type": "code",
   "execution_count": 11,
   "id": "d6828419",
   "metadata": {},
   "outputs": [
    {
     "data": {
      "text/html": [
       "<div>\n",
       "<style scoped>\n",
       "    .dataframe tbody tr th:only-of-type {\n",
       "        vertical-align: middle;\n",
       "    }\n",
       "\n",
       "    .dataframe tbody tr th {\n",
       "        vertical-align: top;\n",
       "    }\n",
       "\n",
       "    .dataframe thead th {\n",
       "        text-align: right;\n",
       "    }\n",
       "</style>\n",
       "<table border=\"1\" class=\"dataframe\">\n",
       "  <thead>\n",
       "    <tr style=\"text-align: right;\">\n",
       "      <th></th>\n",
       "      <th>Title</th>\n",
       "      <th>Experience</th>\n",
       "      <th>Location</th>\n",
       "    </tr>\n",
       "  </thead>\n",
       "  <tbody>\n",
       "    <tr>\n",
       "      <th>0</th>\n",
       "      <td>Hiring Data Analyst - Forensics, KPMG India</td>\n",
       "      <td>2-6 Yrs</td>\n",
       "      <td>Delhi / NCR, Bangalore/Bengaluru, Noida, Kolka...</td>\n",
       "    </tr>\n",
       "    <tr>\n",
       "      <th>1</th>\n",
       "      <td>Argus Safety System Data Analyst -Cognos and S...</td>\n",
       "      <td>4-9 Yrs</td>\n",
       "      <td>Delhi / NCR, Bangalore/Bengaluru, Kolkata, Hyd...</td>\n",
       "    </tr>\n",
       "    <tr>\n",
       "      <th>2</th>\n",
       "      <td>Data Analyst</td>\n",
       "      <td>1-2 Yrs</td>\n",
       "      <td>Bangalore/Bengaluru, Gurgaon/Gurugram</td>\n",
       "    </tr>\n",
       "    <tr>\n",
       "      <th>3</th>\n",
       "      <td>Data Analyst</td>\n",
       "      <td>0-2 Yrs</td>\n",
       "      <td>Delhi / NCR, Bangalore/Bengaluru, Kolkata, Hyd...</td>\n",
       "    </tr>\n",
       "    <tr>\n",
       "      <th>4</th>\n",
       "      <td>HCL || Data Science</td>\n",
       "      <td>0-1 Yrs</td>\n",
       "      <td>Delhi / NCR, Bangalore/Bengaluru, Chennai</td>\n",
       "    </tr>\n",
       "    <tr>\n",
       "      <th>5</th>\n",
       "      <td>Data scientist _Tata Consultancy Services(Tcs)</td>\n",
       "      <td>8-13 Yrs</td>\n",
       "      <td>Delhi / NCR, Bangalore/Bengaluru, Kochi/Cochin...</td>\n",
       "    </tr>\n",
       "    <tr>\n",
       "      <th>6</th>\n",
       "      <td>Data Scientist</td>\n",
       "      <td>7-10 Yrs</td>\n",
       "      <td>Bangalore/Bengaluru, Noida, Hyderabad/Secunder...</td>\n",
       "    </tr>\n",
       "    <tr>\n",
       "      <th>7</th>\n",
       "      <td>Tcs is Hiring For Big Data Developer Role</td>\n",
       "      <td>3-8 Yrs</td>\n",
       "      <td>Delhi / NCR, Bangalore/Bengaluru, Kolkata, Hyd...</td>\n",
       "    </tr>\n",
       "    <tr>\n",
       "      <th>8</th>\n",
       "      <td>Hiring For Data Science Intern- DataTrained Ed...</td>\n",
       "      <td>0-2 Yrs</td>\n",
       "      <td>Delhi / NCR, Bangalore/Bengaluru, Gurgaon/Guru...</td>\n",
       "    </tr>\n",
       "    <tr>\n",
       "      <th>9</th>\n",
       "      <td>Fresher Data Entry / Computer Operator / Back ...</td>\n",
       "      <td>0-3 Yrs</td>\n",
       "      <td>Bangalore/Bengaluru, Pune, Greater Noida</td>\n",
       "    </tr>\n",
       "    <tr>\n",
       "      <th>10</th>\n",
       "      <td>Data Entry | Back Office Executive | Fresher |...</td>\n",
       "      <td>0-0 Yrs</td>\n",
       "      <td>Bangalore/Bengaluru, Pune, Greater Noida</td>\n",
       "    </tr>\n",
       "    <tr>\n",
       "      <th>11</th>\n",
       "      <td>Hiring For Business Analyst /Females/Work from...</td>\n",
       "      <td>4-9 Yrs</td>\n",
       "      <td>Delhi / NCR, Bangalore/Bengaluru, Bhopal, Hyde...</td>\n",
       "    </tr>\n",
       "    <tr>\n",
       "      <th>12</th>\n",
       "      <td>Data Scientist_Tata Consultancy Services(Tcs)</td>\n",
       "      <td>10-16 Yrs</td>\n",
       "      <td>Delhi / NCR, Bangalore/Bengaluru, Kolkata, Hyd...</td>\n",
       "    </tr>\n",
       "    <tr>\n",
       "      <th>13</th>\n",
       "      <td>Non Voice | Chat Process | Back Office Job | D...</td>\n",
       "      <td>0-0 Yrs</td>\n",
       "      <td>Bangalore/Bengaluru, Pune, Greater Noida</td>\n",
       "    </tr>\n",
       "    <tr>\n",
       "      <th>14</th>\n",
       "      <td>Computer Data Entry Operator Part/Full Time Ba...</td>\n",
       "      <td>0-0 Yrs</td>\n",
       "      <td>Bangalore/Bengaluru, Pune, Greater Noida</td>\n",
       "    </tr>\n",
       "    <tr>\n",
       "      <th>15</th>\n",
       "      <td>Assistant Content Operation ( Analysis ) ( Poc...</td>\n",
       "      <td>1-3 Yrs</td>\n",
       "      <td>Delhi / NCR, Bangalore/Bengaluru, Mumbai (All ...</td>\n",
       "    </tr>\n",
       "    <tr>\n",
       "      <th>16</th>\n",
       "      <td>Data Scientist</td>\n",
       "      <td>2-4 Yrs</td>\n",
       "      <td>Delhi / NCR, Bangalore/Bengaluru, Pune</td>\n",
       "    </tr>\n",
       "    <tr>\n",
       "      <th>17</th>\n",
       "      <td>Data Scientist</td>\n",
       "      <td>2-4 Yrs</td>\n",
       "      <td>Delhi / NCR, Bangalore/Bengaluru, Pune</td>\n",
       "    </tr>\n",
       "    <tr>\n",
       "      <th>18</th>\n",
       "      <td>Data Engineers with Python/SQL</td>\n",
       "      <td>4-9 Yrs</td>\n",
       "      <td>Bangalore/Bengaluru, Visakhapatnam, Hyderabad/...</td>\n",
       "    </tr>\n",
       "    <tr>\n",
       "      <th>19</th>\n",
       "      <td>Hiring For Data Scientist- (Immediate To 15 da...</td>\n",
       "      <td>2-7 Yrs</td>\n",
       "      <td>Delhi / NCR, Bangalore/Bengaluru, Kolkata, Nag...</td>\n",
       "    </tr>\n",
       "  </tbody>\n",
       "</table>\n",
       "</div>"
      ],
      "text/plain": [
       "                                                Title Experience  \\\n",
       "0         Hiring Data Analyst - Forensics, KPMG India    2-6 Yrs   \n",
       "1   Argus Safety System Data Analyst -Cognos and S...    4-9 Yrs   \n",
       "2                                        Data Analyst    1-2 Yrs   \n",
       "3                                        Data Analyst    0-2 Yrs   \n",
       "4                                 HCL || Data Science    0-1 Yrs   \n",
       "5      Data scientist _Tata Consultancy Services(Tcs)   8-13 Yrs   \n",
       "6                                      Data Scientist   7-10 Yrs   \n",
       "7           Tcs is Hiring For Big Data Developer Role    3-8 Yrs   \n",
       "8   Hiring For Data Science Intern- DataTrained Ed...    0-2 Yrs   \n",
       "9   Fresher Data Entry / Computer Operator / Back ...    0-3 Yrs   \n",
       "10  Data Entry | Back Office Executive | Fresher |...    0-0 Yrs   \n",
       "11  Hiring For Business Analyst /Females/Work from...    4-9 Yrs   \n",
       "12      Data Scientist_Tata Consultancy Services(Tcs)  10-16 Yrs   \n",
       "13  Non Voice | Chat Process | Back Office Job | D...    0-0 Yrs   \n",
       "14  Computer Data Entry Operator Part/Full Time Ba...    0-0 Yrs   \n",
       "15  Assistant Content Operation ( Analysis ) ( Poc...    1-3 Yrs   \n",
       "16                                     Data Scientist    2-4 Yrs   \n",
       "17                                     Data Scientist    2-4 Yrs   \n",
       "18                     Data Engineers with Python/SQL    4-9 Yrs   \n",
       "19  Hiring For Data Scientist- (Immediate To 15 da...    2-7 Yrs   \n",
       "\n",
       "                                             Location  \n",
       "0   Delhi / NCR, Bangalore/Bengaluru, Noida, Kolka...  \n",
       "1   Delhi / NCR, Bangalore/Bengaluru, Kolkata, Hyd...  \n",
       "2               Bangalore/Bengaluru, Gurgaon/Gurugram  \n",
       "3   Delhi / NCR, Bangalore/Bengaluru, Kolkata, Hyd...  \n",
       "4           Delhi / NCR, Bangalore/Bengaluru, Chennai  \n",
       "5   Delhi / NCR, Bangalore/Bengaluru, Kochi/Cochin...  \n",
       "6   Bangalore/Bengaluru, Noida, Hyderabad/Secunder...  \n",
       "7   Delhi / NCR, Bangalore/Bengaluru, Kolkata, Hyd...  \n",
       "8   Delhi / NCR, Bangalore/Bengaluru, Gurgaon/Guru...  \n",
       "9            Bangalore/Bengaluru, Pune, Greater Noida  \n",
       "10           Bangalore/Bengaluru, Pune, Greater Noida  \n",
       "11  Delhi / NCR, Bangalore/Bengaluru, Bhopal, Hyde...  \n",
       "12  Delhi / NCR, Bangalore/Bengaluru, Kolkata, Hyd...  \n",
       "13           Bangalore/Bengaluru, Pune, Greater Noida  \n",
       "14           Bangalore/Bengaluru, Pune, Greater Noida  \n",
       "15  Delhi / NCR, Bangalore/Bengaluru, Mumbai (All ...  \n",
       "16             Delhi / NCR, Bangalore/Bengaluru, Pune  \n",
       "17             Delhi / NCR, Bangalore/Bengaluru, Pune  \n",
       "18  Bangalore/Bengaluru, Visakhapatnam, Hyderabad/...  \n",
       "19  Delhi / NCR, Bangalore/Bengaluru, Kolkata, Nag...  "
      ]
     },
     "execution_count": 11,
     "metadata": {},
     "output_type": "execute_result"
    }
   ],
   "source": [
    "title = driver.find_elements(By.CSS_SELECTOR,'a.title')\n",
    "experience =  driver.find_elements(By.CSS_SELECTOR,'li.experience')\n",
    "location =  driver.find_elements(By.CSS_SELECTOR,'li.location')\n",
    "job_title = []\n",
    "job_location = []\n",
    "job_experience = []\n",
    "for title in title:\n",
    "    job_title.append(title.text)\n",
    "    \n",
    "for experience in experience:\n",
    "    job_experience.append(experience.text)\n",
    "    \n",
    "for location in location:\n",
    "    job_location.append(location.text)\n",
    "\n",
    "data = {'Title': job_title, 'Experience': job_experience, 'Location': job_location}\n",
    "df = pd.DataFrame(data)\n",
    "df"
   ]
  },
  {
   "cell_type": "code",
   "execution_count": null,
   "id": "abb331ce",
   "metadata": {},
   "outputs": [],
   "source": [
    "#Scrape data of first 100 sunglasses listings on flipkart.com. You have to scrape four attributes:\n",
    "#1. Brand\n",
    "#2. Product Description\n",
    "#3. Price\n",
    "#The attributes which you have to scrape is ticked marked in the below image.\n"
   ]
  },
  {
   "cell_type": "code",
   "execution_count": 65,
   "id": "0424747c",
   "metadata": {},
   "outputs": [],
   "source": [
    "#Let's import all required Libraries\n",
    "import selenium\n",
    "import time\n",
    "from selenium import webdriver\n",
    "import pandas as pd\n",
    "import warnings\n",
    "warnings.filterwarnings(\"ignore\")\n",
    "\n",
    "from selenium.webdriver.common.keys import Keys\n",
    "from selenium.webdriver.chrome.options import Options\n",
    "from selenium.webdriver.support.ui import WebDriverWait\n",
    "from selenium.webdriver.support import expected_conditions as EC\n",
    "from getpass import getpass\n",
    "\n",
    "from selenium.webdriver.chrome.service import Service #always import this or web driver gives truble\n",
    "from selenium.webdriver.common.by import By #always import this or web driver gives truble\n",
    "import time\n"
   ]
  },
  {
   "cell_type": "code",
   "execution_count": 66,
   "id": "82a6f603",
   "metadata": {},
   "outputs": [],
   "source": [
    "driver = webdriver.Chrome('chromedriver.exe')"
   ]
  },
  {
   "cell_type": "code",
   "execution_count": 67,
   "id": "eeca5afc",
   "metadata": {},
   "outputs": [],
   "source": [
    "url='https://www.flipkart.com/'\n",
    "driver.get(url)"
   ]
  },
  {
   "cell_type": "code",
   "execution_count": 68,
   "id": "0bf10bf6",
   "metadata": {},
   "outputs": [
    {
     "data": {
      "text/plain": [
       "<selenium.webdriver.remote.webelement.WebElement (session=\"70bebacee324e04d255533a28440e1e3\", element=\"7bf86b12-4587-49de-96b6-7f65e01c68fa\")>"
      ]
     },
     "execution_count": 68,
     "metadata": {},
     "output_type": "execute_result"
    }
   ],
   "source": [
    "#finding web element for search job bar usind id\n",
    "search=driver.find_element(By.CLASS_NAME,\"_3704LK\")\n",
    "search"
   ]
  },
  {
   "cell_type": "code",
   "execution_count": 69,
   "id": "1afe3509",
   "metadata": {},
   "outputs": [],
   "source": [
    "search.send_keys(\"sunglasses\")"
   ]
  },
  {
   "cell_type": "code",
   "execution_count": 71,
   "id": "d292a72e",
   "metadata": {},
   "outputs": [
    {
     "data": {
      "text/plain": [
       "<selenium.webdriver.remote.webelement.WebElement (session=\"70bebacee324e04d255533a28440e1e3\", element=\"6c5c96be-b8f7-4ae9-880f-c0b6bf47a761\")>"
      ]
     },
     "execution_count": 71,
     "metadata": {},
     "output_type": "execute_result"
    }
   ],
   "source": [
    "search_locn = driver.find_element(By.XPATH,'/html/body/div[1]/div/div[1]/div[1]/div[2]/div[2]/form/div/button')\n",
    "search_locn"
   ]
  },
  {
   "cell_type": "code",
   "execution_count": 72,
   "id": "e7407aaa",
   "metadata": {},
   "outputs": [],
   "source": [
    "search_locn.click()"
   ]
  },
  {
   "cell_type": "code",
   "execution_count": 51,
   "id": "cfe0d707",
   "metadata": {},
   "outputs": [],
   "source": [
    "for brand in brand:\n",
    "    brand_title.append(brand.text)\n",
    "    \n",
    "for description in description:\n",
    "    product_description.append(description.text)\n",
    "\n",
    "for prices in prices:\n",
    "    price.append(prices.text)\n",
    "    "
   ]
  },
  {
   "cell_type": "code",
   "execution_count": 73,
   "id": "a6e1b81e",
   "metadata": {},
   "outputs": [
    {
     "data": {
      "text/plain": [
       "[<selenium.webdriver.remote.webelement.WebElement (session=\"70bebacee324e04d255533a28440e1e3\", element=\"c1b8cf95-673f-45e2-82ed-6eb7c3974f71\")>,\n",
       " <selenium.webdriver.remote.webelement.WebElement (session=\"70bebacee324e04d255533a28440e1e3\", element=\"98ff6940-b5b8-4942-9164-97b0373bb3d1\")>,\n",
       " <selenium.webdriver.remote.webelement.WebElement (session=\"70bebacee324e04d255533a28440e1e3\", element=\"fbd0d390-80e0-4837-a7f9-988c6f6340fd\")>,\n",
       " <selenium.webdriver.remote.webelement.WebElement (session=\"70bebacee324e04d255533a28440e1e3\", element=\"34d11263-0b95-4047-91a4-8ffd80758673\")>,\n",
       " <selenium.webdriver.remote.webelement.WebElement (session=\"70bebacee324e04d255533a28440e1e3\", element=\"93ccf5fc-20de-4998-be95-4385eda3c078\")>,\n",
       " <selenium.webdriver.remote.webelement.WebElement (session=\"70bebacee324e04d255533a28440e1e3\", element=\"be8389ed-9946-491a-9420-f72e96f85983\")>,\n",
       " <selenium.webdriver.remote.webelement.WebElement (session=\"70bebacee324e04d255533a28440e1e3\", element=\"9563f38f-f5fd-419a-b76f-df0c4cda5df5\")>,\n",
       " <selenium.webdriver.remote.webelement.WebElement (session=\"70bebacee324e04d255533a28440e1e3\", element=\"d90e73c2-578f-4acc-8418-bde3d554cf03\")>,\n",
       " <selenium.webdriver.remote.webelement.WebElement (session=\"70bebacee324e04d255533a28440e1e3\", element=\"2c1699d9-ebf1-49e7-a76e-c88b65e0e096\")>,\n",
       " <selenium.webdriver.remote.webelement.WebElement (session=\"70bebacee324e04d255533a28440e1e3\", element=\"ab9a1d9a-8634-4f23-8041-e75436959da6\")>,\n",
       " <selenium.webdriver.remote.webelement.WebElement (session=\"70bebacee324e04d255533a28440e1e3\", element=\"92c4bbd1-6412-4c76-afe9-7612a6b5a207\")>,\n",
       " <selenium.webdriver.remote.webelement.WebElement (session=\"70bebacee324e04d255533a28440e1e3\", element=\"9d7fcd5d-f00b-4206-91f9-f83715d95067\")>,\n",
       " <selenium.webdriver.remote.webelement.WebElement (session=\"70bebacee324e04d255533a28440e1e3\", element=\"25aea4f3-94d6-4334-a138-f326b86c5878\")>,\n",
       " <selenium.webdriver.remote.webelement.WebElement (session=\"70bebacee324e04d255533a28440e1e3\", element=\"b3da223a-4cb6-4ecc-98af-6f98acce352a\")>,\n",
       " <selenium.webdriver.remote.webelement.WebElement (session=\"70bebacee324e04d255533a28440e1e3\", element=\"9be3b1d6-5af9-46f0-8eb4-790423bf89fd\")>,\n",
       " <selenium.webdriver.remote.webelement.WebElement (session=\"70bebacee324e04d255533a28440e1e3\", element=\"8b4460b3-1e92-4cd2-bae5-79ca3736b1be\")>,\n",
       " <selenium.webdriver.remote.webelement.WebElement (session=\"70bebacee324e04d255533a28440e1e3\", element=\"fc006017-5e3c-453c-b161-1cdeb837267b\")>,\n",
       " <selenium.webdriver.remote.webelement.WebElement (session=\"70bebacee324e04d255533a28440e1e3\", element=\"4452d795-e1bc-4a92-b08e-9c4a3946d34a\")>,\n",
       " <selenium.webdriver.remote.webelement.WebElement (session=\"70bebacee324e04d255533a28440e1e3\", element=\"6db1008c-031a-4a5c-91c9-832224402759\")>,\n",
       " <selenium.webdriver.remote.webelement.WebElement (session=\"70bebacee324e04d255533a28440e1e3\", element=\"c4128fc0-1119-4af5-acdc-16f20472f605\")>,\n",
       " <selenium.webdriver.remote.webelement.WebElement (session=\"70bebacee324e04d255533a28440e1e3\", element=\"5ebf8129-fd88-45e4-8472-335146ef1e9c\")>,\n",
       " <selenium.webdriver.remote.webelement.WebElement (session=\"70bebacee324e04d255533a28440e1e3\", element=\"9cb88fe8-27b9-4953-be4c-a0bbeb4f924b\")>,\n",
       " <selenium.webdriver.remote.webelement.WebElement (session=\"70bebacee324e04d255533a28440e1e3\", element=\"cd442cb0-2318-43f7-88d2-ca5e82be3563\")>,\n",
       " <selenium.webdriver.remote.webelement.WebElement (session=\"70bebacee324e04d255533a28440e1e3\", element=\"0874b819-813d-416e-a272-d9a15935017e\")>,\n",
       " <selenium.webdriver.remote.webelement.WebElement (session=\"70bebacee324e04d255533a28440e1e3\", element=\"9bbe047c-1891-45ff-85eb-7c549b5fc8d3\")>,\n",
       " <selenium.webdriver.remote.webelement.WebElement (session=\"70bebacee324e04d255533a28440e1e3\", element=\"56219b43-8cc2-4bb0-8c44-0cf08daea6fe\")>,\n",
       " <selenium.webdriver.remote.webelement.WebElement (session=\"70bebacee324e04d255533a28440e1e3\", element=\"54b590eb-7001-4eaf-9f89-c4f138e99eec\")>,\n",
       " <selenium.webdriver.remote.webelement.WebElement (session=\"70bebacee324e04d255533a28440e1e3\", element=\"979e427a-7a37-49ee-9534-baf78a77a61a\")>,\n",
       " <selenium.webdriver.remote.webelement.WebElement (session=\"70bebacee324e04d255533a28440e1e3\", element=\"f6112471-ac2e-45e1-819e-274b2fb7ee08\")>,\n",
       " <selenium.webdriver.remote.webelement.WebElement (session=\"70bebacee324e04d255533a28440e1e3\", element=\"e9f3fdc0-f828-4fa5-a1d5-1f500b62e734\")>,\n",
       " <selenium.webdriver.remote.webelement.WebElement (session=\"70bebacee324e04d255533a28440e1e3\", element=\"b00f0dc2-6477-4fab-8d5c-e31e4ba52e79\")>,\n",
       " <selenium.webdriver.remote.webelement.WebElement (session=\"70bebacee324e04d255533a28440e1e3\", element=\"3d248414-08f7-4d7f-9618-c3371be52b5f\")>,\n",
       " <selenium.webdriver.remote.webelement.WebElement (session=\"70bebacee324e04d255533a28440e1e3\", element=\"0a41d0aa-4520-4ee8-b29c-57cfba58ca56\")>,\n",
       " <selenium.webdriver.remote.webelement.WebElement (session=\"70bebacee324e04d255533a28440e1e3\", element=\"37f4e8d3-6986-4f0f-8e0f-5ce1da2c1f18\")>,\n",
       " <selenium.webdriver.remote.webelement.WebElement (session=\"70bebacee324e04d255533a28440e1e3\", element=\"69b907ae-9354-47f3-a509-ce1f3a0e3cd2\")>,\n",
       " <selenium.webdriver.remote.webelement.WebElement (session=\"70bebacee324e04d255533a28440e1e3\", element=\"1c3fd230-775c-42f8-b2b2-211e5282c2d5\")>,\n",
       " <selenium.webdriver.remote.webelement.WebElement (session=\"70bebacee324e04d255533a28440e1e3\", element=\"30bb1612-4684-42f1-b693-e0ab5f1f75b8\")>,\n",
       " <selenium.webdriver.remote.webelement.WebElement (session=\"70bebacee324e04d255533a28440e1e3\", element=\"de8d0f4c-0819-4251-b8b8-b7e807ae679d\")>,\n",
       " <selenium.webdriver.remote.webelement.WebElement (session=\"70bebacee324e04d255533a28440e1e3\", element=\"0fef794a-1429-4a71-bed5-4207991ae5c8\")>,\n",
       " <selenium.webdriver.remote.webelement.WebElement (session=\"70bebacee324e04d255533a28440e1e3\", element=\"3dda02ab-2999-4aaf-8c28-206aac94cbec\")>,\n",
       " <selenium.webdriver.remote.webelement.WebElement (session=\"70bebacee324e04d255533a28440e1e3\", element=\"7e5306d0-2035-447e-9661-3d52069d2924\")>,\n",
       " <selenium.webdriver.remote.webelement.WebElement (session=\"70bebacee324e04d255533a28440e1e3\", element=\"fe4c312e-9998-435f-822a-053f0cd101c4\")>,\n",
       " <selenium.webdriver.remote.webelement.WebElement (session=\"70bebacee324e04d255533a28440e1e3\", element=\"9a0fbfe2-3d01-4bad-9851-bbc86fd4fa60\")>,\n",
       " <selenium.webdriver.remote.webelement.WebElement (session=\"70bebacee324e04d255533a28440e1e3\", element=\"3ebdea93-f2c9-4ee0-b611-7022edf07232\")>,\n",
       " <selenium.webdriver.remote.webelement.WebElement (session=\"70bebacee324e04d255533a28440e1e3\", element=\"0e68dc9f-9b58-4cc6-b87e-100fe03e36fb\")>]"
      ]
     },
     "execution_count": 73,
     "metadata": {},
     "output_type": "execute_result"
    }
   ],
   "source": [
    "prices = driver.find_elements(By.CSS_SELECTOR,'div._30jeq3')\n",
    "prices"
   ]
  },
  {
   "cell_type": "code",
   "execution_count": 74,
   "id": "c90e15b2",
   "metadata": {},
   "outputs": [],
   "source": [
    "for prices in prices:\n",
    "    price.append(prices.text)"
   ]
  },
  {
   "cell_type": "code",
   "execution_count": 88,
   "id": "c0fe2a98",
   "metadata": {},
   "outputs": [],
   "source": [
    "for i in range(price)[0:40]:\n",
    "    print(price)"
   ]
  },
  {
   "cell_type": "code",
   "execution_count": 76,
   "id": "757acbd7",
   "metadata": {},
   "outputs": [
    {
     "data": {
      "text/plain": [
       "[<selenium.webdriver.remote.webelement.WebElement (session=\"70bebacee324e04d255533a28440e1e3\", element=\"f1539eca-f2fe-4b2a-93dc-c0986181c441\")>,\n",
       " <selenium.webdriver.remote.webelement.WebElement (session=\"70bebacee324e04d255533a28440e1e3\", element=\"1c85a709-327f-4361-85bb-413ce4e1c82d\")>,\n",
       " <selenium.webdriver.remote.webelement.WebElement (session=\"70bebacee324e04d255533a28440e1e3\", element=\"c00608e2-b69e-42d9-8c5d-5c4cde2a7092\")>,\n",
       " <selenium.webdriver.remote.webelement.WebElement (session=\"70bebacee324e04d255533a28440e1e3\", element=\"00d79d06-e1fa-42e7-8427-ce368aed0d9f\")>,\n",
       " <selenium.webdriver.remote.webelement.WebElement (session=\"70bebacee324e04d255533a28440e1e3\", element=\"8657f1d3-e687-42c0-ad0b-d691494808be\")>,\n",
       " <selenium.webdriver.remote.webelement.WebElement (session=\"70bebacee324e04d255533a28440e1e3\", element=\"d7b1293c-4187-4e9f-8dde-58696935b354\")>,\n",
       " <selenium.webdriver.remote.webelement.WebElement (session=\"70bebacee324e04d255533a28440e1e3\", element=\"1e9937fb-82ad-4e15-8440-16874f3ba736\")>,\n",
       " <selenium.webdriver.remote.webelement.WebElement (session=\"70bebacee324e04d255533a28440e1e3\", element=\"2707f05a-ee39-4c8b-918d-881e8b64f90d\")>,\n",
       " <selenium.webdriver.remote.webelement.WebElement (session=\"70bebacee324e04d255533a28440e1e3\", element=\"68cb2899-c795-4f03-aa43-0a257fb84d88\")>,\n",
       " <selenium.webdriver.remote.webelement.WebElement (session=\"70bebacee324e04d255533a28440e1e3\", element=\"3bced7a2-cc89-40ec-9f05-3ebb4a4894d5\")>,\n",
       " <selenium.webdriver.remote.webelement.WebElement (session=\"70bebacee324e04d255533a28440e1e3\", element=\"d54a10ea-a1d1-4dc5-aaf3-3c193fae6452\")>,\n",
       " <selenium.webdriver.remote.webelement.WebElement (session=\"70bebacee324e04d255533a28440e1e3\", element=\"3fb99e18-e0f3-4fde-95a7-8507782d2060\")>,\n",
       " <selenium.webdriver.remote.webelement.WebElement (session=\"70bebacee324e04d255533a28440e1e3\", element=\"82dbc759-1d57-4ced-ab35-daad82f9e78b\")>,\n",
       " <selenium.webdriver.remote.webelement.WebElement (session=\"70bebacee324e04d255533a28440e1e3\", element=\"febb45d3-d847-4aed-a5ab-ce86c01f48ce\")>,\n",
       " <selenium.webdriver.remote.webelement.WebElement (session=\"70bebacee324e04d255533a28440e1e3\", element=\"87b004a3-64b9-4ac3-b90b-a3a68ece88c7\")>,\n",
       " <selenium.webdriver.remote.webelement.WebElement (session=\"70bebacee324e04d255533a28440e1e3\", element=\"fa910afd-0f5a-4194-bc96-ccdd66c09c71\")>,\n",
       " <selenium.webdriver.remote.webelement.WebElement (session=\"70bebacee324e04d255533a28440e1e3\", element=\"ba09afb8-6acf-499d-a922-08af2705605f\")>,\n",
       " <selenium.webdriver.remote.webelement.WebElement (session=\"70bebacee324e04d255533a28440e1e3\", element=\"ac97b0be-7a40-40c4-9d7a-f64954b7c282\")>,\n",
       " <selenium.webdriver.remote.webelement.WebElement (session=\"70bebacee324e04d255533a28440e1e3\", element=\"d0e9301d-ebed-4f16-a35c-65faf87ea65c\")>,\n",
       " <selenium.webdriver.remote.webelement.WebElement (session=\"70bebacee324e04d255533a28440e1e3\", element=\"d274740d-3a99-40fc-9f7e-1415426c4c51\")>,\n",
       " <selenium.webdriver.remote.webelement.WebElement (session=\"70bebacee324e04d255533a28440e1e3\", element=\"15a0330f-6767-4d7d-a786-ab8a71a97688\")>,\n",
       " <selenium.webdriver.remote.webelement.WebElement (session=\"70bebacee324e04d255533a28440e1e3\", element=\"eacdf51f-b38b-449a-9f29-ea777b397cf0\")>,\n",
       " <selenium.webdriver.remote.webelement.WebElement (session=\"70bebacee324e04d255533a28440e1e3\", element=\"c8bcf4c6-668d-4d90-8fff-4c6531ef9181\")>,\n",
       " <selenium.webdriver.remote.webelement.WebElement (session=\"70bebacee324e04d255533a28440e1e3\", element=\"802ec268-8d76-468b-90b9-799cb54c04f4\")>,\n",
       " <selenium.webdriver.remote.webelement.WebElement (session=\"70bebacee324e04d255533a28440e1e3\", element=\"e6cb83fc-adca-4941-9295-c3a055a92010\")>,\n",
       " <selenium.webdriver.remote.webelement.WebElement (session=\"70bebacee324e04d255533a28440e1e3\", element=\"c46c075d-6efc-4860-9c55-067d7d28fc4c\")>,\n",
       " <selenium.webdriver.remote.webelement.WebElement (session=\"70bebacee324e04d255533a28440e1e3\", element=\"f8f9f78a-f105-47cf-9577-f84170337c6b\")>,\n",
       " <selenium.webdriver.remote.webelement.WebElement (session=\"70bebacee324e04d255533a28440e1e3\", element=\"5ffb6a73-f4a5-429b-9dc0-6f71af06791a\")>,\n",
       " <selenium.webdriver.remote.webelement.WebElement (session=\"70bebacee324e04d255533a28440e1e3\", element=\"d4405b2a-dd33-4e10-bf2e-99d22a0f80cd\")>,\n",
       " <selenium.webdriver.remote.webelement.WebElement (session=\"70bebacee324e04d255533a28440e1e3\", element=\"649b07d3-5502-4c98-8d63-e22c5db7b488\")>,\n",
       " <selenium.webdriver.remote.webelement.WebElement (session=\"70bebacee324e04d255533a28440e1e3\", element=\"6acdedc7-9a34-4403-b85c-e1b8fc559b3c\")>,\n",
       " <selenium.webdriver.remote.webelement.WebElement (session=\"70bebacee324e04d255533a28440e1e3\", element=\"57410602-86c9-45b8-b459-9be2bdc5d0c6\")>,\n",
       " <selenium.webdriver.remote.webelement.WebElement (session=\"70bebacee324e04d255533a28440e1e3\", element=\"7a637f93-7a81-42de-ba5d-34fc6ce8d20f\")>,\n",
       " <selenium.webdriver.remote.webelement.WebElement (session=\"70bebacee324e04d255533a28440e1e3\", element=\"e3a33b6f-f7aa-40b8-89d5-9f6d5a48cf1a\")>,\n",
       " <selenium.webdriver.remote.webelement.WebElement (session=\"70bebacee324e04d255533a28440e1e3\", element=\"a8ee2a54-b222-444d-97aa-95126635134f\")>,\n",
       " <selenium.webdriver.remote.webelement.WebElement (session=\"70bebacee324e04d255533a28440e1e3\", element=\"46c5c8c8-c0f6-4e26-8499-eb3ffcf6cb98\")>,\n",
       " <selenium.webdriver.remote.webelement.WebElement (session=\"70bebacee324e04d255533a28440e1e3\", element=\"00654d78-a3cc-4e6b-b1d3-8d03793ace54\")>,\n",
       " <selenium.webdriver.remote.webelement.WebElement (session=\"70bebacee324e04d255533a28440e1e3\", element=\"d3e24245-c1ed-4491-824c-e8f169c43dd1\")>,\n",
       " <selenium.webdriver.remote.webelement.WebElement (session=\"70bebacee324e04d255533a28440e1e3\", element=\"ce7f87ed-af27-4dfd-a154-06f37855b198\")>,\n",
       " <selenium.webdriver.remote.webelement.WebElement (session=\"70bebacee324e04d255533a28440e1e3\", element=\"467c725f-3679-44ed-a51a-1a905d7921bc\")>]"
      ]
     },
     "execution_count": 76,
     "metadata": {},
     "output_type": "execute_result"
    }
   ],
   "source": [
    "description = driver.find_elements(By.CSS_SELECTOR,'a.IRpwTa')\n",
    "description  "
   ]
  },
  {
   "cell_type": "code",
   "execution_count": 77,
   "id": "a69031ed",
   "metadata": {},
   "outputs": [],
   "source": [
    "for description in description:\n",
    "    product_description.append(description.text)"
   ]
  },
  {
   "cell_type": "code",
   "execution_count": 80,
   "id": "1506727d",
   "metadata": {},
   "outputs": [
    {
     "data": {
      "text/plain": [
       "40"
      ]
     },
     "execution_count": 80,
     "metadata": {},
     "output_type": "execute_result"
    }
   ],
   "source": [
    "len(product_description)"
   ]
  },
  {
   "cell_type": "code",
   "execution_count": 91,
   "id": "b7eacf2c",
   "metadata": {},
   "outputs": [
    {
     "data": {
      "text/plain": [
       "[<selenium.webdriver.remote.webelement.WebElement (session=\"70bebacee324e04d255533a28440e1e3\", element=\"9f00409e-953f-4506-be9e-c3ac45040d73\")>,\n",
       " <selenium.webdriver.remote.webelement.WebElement (session=\"70bebacee324e04d255533a28440e1e3\", element=\"7166b28e-99f8-49cc-a77c-dae2ab1251d6\")>,\n",
       " <selenium.webdriver.remote.webelement.WebElement (session=\"70bebacee324e04d255533a28440e1e3\", element=\"47a7a1f6-13ea-481d-ac4b-543686b51252\")>,\n",
       " <selenium.webdriver.remote.webelement.WebElement (session=\"70bebacee324e04d255533a28440e1e3\", element=\"71ac3444-3d12-4f47-9f88-1cddb97c97db\")>,\n",
       " <selenium.webdriver.remote.webelement.WebElement (session=\"70bebacee324e04d255533a28440e1e3\", element=\"5bc2dc88-8adf-4848-891c-5f8cde292b33\")>,\n",
       " <selenium.webdriver.remote.webelement.WebElement (session=\"70bebacee324e04d255533a28440e1e3\", element=\"62029c35-0041-4227-84d4-27428afb28d7\")>,\n",
       " <selenium.webdriver.remote.webelement.WebElement (session=\"70bebacee324e04d255533a28440e1e3\", element=\"c49b207c-034a-41e2-82fa-6781239ec159\")>,\n",
       " <selenium.webdriver.remote.webelement.WebElement (session=\"70bebacee324e04d255533a28440e1e3\", element=\"1842218f-8ce5-4ede-b863-932d2100a781\")>,\n",
       " <selenium.webdriver.remote.webelement.WebElement (session=\"70bebacee324e04d255533a28440e1e3\", element=\"0fd49225-d0cc-45f2-b8ef-d96987b8184b\")>,\n",
       " <selenium.webdriver.remote.webelement.WebElement (session=\"70bebacee324e04d255533a28440e1e3\", element=\"11fc36c3-4157-4c55-9ef1-e09ed2150475\")>,\n",
       " <selenium.webdriver.remote.webelement.WebElement (session=\"70bebacee324e04d255533a28440e1e3\", element=\"c0f9d6ed-a765-4130-a2e1-6e1c4828f367\")>,\n",
       " <selenium.webdriver.remote.webelement.WebElement (session=\"70bebacee324e04d255533a28440e1e3\", element=\"9179a098-1543-448d-a94c-4aa2a772c4a3\")>,\n",
       " <selenium.webdriver.remote.webelement.WebElement (session=\"70bebacee324e04d255533a28440e1e3\", element=\"876186a1-b101-444e-9397-084a1c9e9014\")>,\n",
       " <selenium.webdriver.remote.webelement.WebElement (session=\"70bebacee324e04d255533a28440e1e3\", element=\"54af332d-3fe1-4e07-be12-bc822d2f94fd\")>,\n",
       " <selenium.webdriver.remote.webelement.WebElement (session=\"70bebacee324e04d255533a28440e1e3\", element=\"a73867ac-aae5-4714-b278-80454d9855ac\")>,\n",
       " <selenium.webdriver.remote.webelement.WebElement (session=\"70bebacee324e04d255533a28440e1e3\", element=\"55ae1435-66c1-44b5-aba2-556fe6b2399e\")>,\n",
       " <selenium.webdriver.remote.webelement.WebElement (session=\"70bebacee324e04d255533a28440e1e3\", element=\"5f6551a4-10df-4dab-86ff-b27c668012ab\")>,\n",
       " <selenium.webdriver.remote.webelement.WebElement (session=\"70bebacee324e04d255533a28440e1e3\", element=\"83e2f505-9d8f-4e6b-934b-c7f26b68fdd2\")>,\n",
       " <selenium.webdriver.remote.webelement.WebElement (session=\"70bebacee324e04d255533a28440e1e3\", element=\"aca825e2-0a03-4912-9057-7b90a3162a1c\")>,\n",
       " <selenium.webdriver.remote.webelement.WebElement (session=\"70bebacee324e04d255533a28440e1e3\", element=\"3e2323ae-5646-40d8-8dce-46c425aa48ab\")>,\n",
       " <selenium.webdriver.remote.webelement.WebElement (session=\"70bebacee324e04d255533a28440e1e3\", element=\"cff87d45-b68a-473a-8204-b481253c6f2a\")>,\n",
       " <selenium.webdriver.remote.webelement.WebElement (session=\"70bebacee324e04d255533a28440e1e3\", element=\"e9ef11d3-5eb7-4aed-af14-806acbe6b358\")>,\n",
       " <selenium.webdriver.remote.webelement.WebElement (session=\"70bebacee324e04d255533a28440e1e3\", element=\"22747102-39ce-4892-b927-405440d6e9d4\")>,\n",
       " <selenium.webdriver.remote.webelement.WebElement (session=\"70bebacee324e04d255533a28440e1e3\", element=\"42cc4cd3-0463-441d-a25b-e3901b208f21\")>,\n",
       " <selenium.webdriver.remote.webelement.WebElement (session=\"70bebacee324e04d255533a28440e1e3\", element=\"3d18159e-2d84-4e54-9c58-d46957958927\")>,\n",
       " <selenium.webdriver.remote.webelement.WebElement (session=\"70bebacee324e04d255533a28440e1e3\", element=\"26cd0dee-c320-435f-8138-3e2ef4f78c5f\")>,\n",
       " <selenium.webdriver.remote.webelement.WebElement (session=\"70bebacee324e04d255533a28440e1e3\", element=\"0f9fa514-f562-4d13-b9fe-310723ea7252\")>,\n",
       " <selenium.webdriver.remote.webelement.WebElement (session=\"70bebacee324e04d255533a28440e1e3\", element=\"234a42b6-fe86-47ce-a085-4aff8d11e429\")>,\n",
       " <selenium.webdriver.remote.webelement.WebElement (session=\"70bebacee324e04d255533a28440e1e3\", element=\"68ceeb3a-25b8-4af3-8fdb-e1a4a14a745f\")>,\n",
       " <selenium.webdriver.remote.webelement.WebElement (session=\"70bebacee324e04d255533a28440e1e3\", element=\"87e60f88-4de4-4327-91ca-d757925113c0\")>,\n",
       " <selenium.webdriver.remote.webelement.WebElement (session=\"70bebacee324e04d255533a28440e1e3\", element=\"c6780f3b-c09f-4e26-a430-aa75ab91fc2f\")>,\n",
       " <selenium.webdriver.remote.webelement.WebElement (session=\"70bebacee324e04d255533a28440e1e3\", element=\"ab99529c-f5a2-418e-b713-cba65948eacf\")>,\n",
       " <selenium.webdriver.remote.webelement.WebElement (session=\"70bebacee324e04d255533a28440e1e3\", element=\"7d353ff0-fc44-45be-b406-eec2c1b7b8bc\")>,\n",
       " <selenium.webdriver.remote.webelement.WebElement (session=\"70bebacee324e04d255533a28440e1e3\", element=\"e87e757c-1828-4175-b604-c28e14bca7c3\")>,\n",
       " <selenium.webdriver.remote.webelement.WebElement (session=\"70bebacee324e04d255533a28440e1e3\", element=\"49e4d812-782b-425f-949b-ce5de03fa111\")>,\n",
       " <selenium.webdriver.remote.webelement.WebElement (session=\"70bebacee324e04d255533a28440e1e3\", element=\"657dde15-7847-4603-92b1-5d7bfaf8ae6f\")>,\n",
       " <selenium.webdriver.remote.webelement.WebElement (session=\"70bebacee324e04d255533a28440e1e3\", element=\"4ea0f104-ef35-401a-a86f-bbc98bed038d\")>,\n",
       " <selenium.webdriver.remote.webelement.WebElement (session=\"70bebacee324e04d255533a28440e1e3\", element=\"890efcc8-51ae-457d-a3f9-88b8cad2cdc4\")>,\n",
       " <selenium.webdriver.remote.webelement.WebElement (session=\"70bebacee324e04d255533a28440e1e3\", element=\"5f1717fe-9d0e-4453-a11a-75b315df5530\")>,\n",
       " <selenium.webdriver.remote.webelement.WebElement (session=\"70bebacee324e04d255533a28440e1e3\", element=\"bb5440d8-6e07-41a2-a214-4d5516e80ac5\")>]"
      ]
     },
     "execution_count": 91,
     "metadata": {},
     "output_type": "execute_result"
    }
   ],
   "source": [
    "brand = driver.find_elements(By.CSS_SELECTOR,'div._2WkVRV')\n",
    "brand"
   ]
  },
  {
   "cell_type": "code",
   "execution_count": 92,
   "id": "a249780d",
   "metadata": {},
   "outputs": [],
   "source": [
    "for brand in brand:\n",
    "    brand_title.append(brand.text)"
   ]
  },
  {
   "cell_type": "code",
   "execution_count": 93,
   "id": "e67dc206",
   "metadata": {},
   "outputs": [
    {
     "data": {
      "text/html": [
       "<div>\n",
       "<style scoped>\n",
       "    .dataframe tbody tr th:only-of-type {\n",
       "        vertical-align: middle;\n",
       "    }\n",
       "\n",
       "    .dataframe tbody tr th {\n",
       "        vertical-align: top;\n",
       "    }\n",
       "\n",
       "    .dataframe thead th {\n",
       "        text-align: right;\n",
       "    }\n",
       "</style>\n",
       "<table border=\"1\" class=\"dataframe\">\n",
       "  <thead>\n",
       "    <tr style=\"text-align: right;\">\n",
       "      <th></th>\n",
       "      <th>brand</th>\n",
       "      <th>description</th>\n",
       "    </tr>\n",
       "  </thead>\n",
       "  <tbody>\n",
       "    <tr>\n",
       "      <th>0</th>\n",
       "      <td>PHENOMENAL</td>\n",
       "      <td>UV Protection, Mirrored Retro Square Sunglasse...</td>\n",
       "    </tr>\n",
       "    <tr>\n",
       "      <th>1</th>\n",
       "      <td>Silver Kartz</td>\n",
       "      <td>UV Protection Clubmaster Sunglasses (53)</td>\n",
       "    </tr>\n",
       "    <tr>\n",
       "      <th>2</th>\n",
       "      <td>DAHAAZIL</td>\n",
       "      <td>UV Protection, Night Vision, Riding Glasses Wa...</td>\n",
       "    </tr>\n",
       "    <tr>\n",
       "      <th>3</th>\n",
       "      <td>Fastrack</td>\n",
       "      <td>UV Protection Rectangular Sunglasses (Free Size)</td>\n",
       "    </tr>\n",
       "    <tr>\n",
       "      <th>4</th>\n",
       "      <td>New Specs</td>\n",
       "      <td>UV Protection Rectangular Sunglasses (Free Size)</td>\n",
       "    </tr>\n",
       "    <tr>\n",
       "      <th>5</th>\n",
       "      <td>Elligator</td>\n",
       "      <td>UV Protection Round Sunglasses (54)</td>\n",
       "    </tr>\n",
       "    <tr>\n",
       "      <th>6</th>\n",
       "      <td>SUNBEE</td>\n",
       "      <td>UV Protection, Polarized Wayfarer Sunglasses (...</td>\n",
       "    </tr>\n",
       "    <tr>\n",
       "      <th>7</th>\n",
       "      <td>PHENOMENAL</td>\n",
       "      <td>UV Protection Retro Square Sunglasses (Free Size)</td>\n",
       "    </tr>\n",
       "    <tr>\n",
       "      <th>8</th>\n",
       "      <td>PIRASO</td>\n",
       "      <td>UV Protection Aviator Sunglasses (54)</td>\n",
       "    </tr>\n",
       "    <tr>\n",
       "      <th>9</th>\n",
       "      <td>SRPM</td>\n",
       "      <td>UV Protection Wayfarer Sunglasses (50)</td>\n",
       "    </tr>\n",
       "    <tr>\n",
       "      <th>10</th>\n",
       "      <td>SHAAH COLLECTIONS</td>\n",
       "      <td>UV Protection, Polarized, Mirrored Rectangular...</td>\n",
       "    </tr>\n",
       "    <tr>\n",
       "      <th>11</th>\n",
       "      <td>Singco India</td>\n",
       "      <td>Gradient, Toughened Glass Lens, UV Protection ...</td>\n",
       "    </tr>\n",
       "    <tr>\n",
       "      <th>12</th>\n",
       "      <td>Fastrack</td>\n",
       "      <td>UV Protection Wayfarer Sunglasses (Free Size)</td>\n",
       "    </tr>\n",
       "    <tr>\n",
       "      <th>13</th>\n",
       "      <td>SUNBEE</td>\n",
       "      <td>UV Protection, Polarized, Mirrored Retro Squar...</td>\n",
       "    </tr>\n",
       "    <tr>\n",
       "      <th>14</th>\n",
       "      <td>Fastrack</td>\n",
       "      <td>UV Protection Aviator Sunglasses (Free Size)</td>\n",
       "    </tr>\n",
       "    <tr>\n",
       "      <th>15</th>\n",
       "      <td>ROYAL SON</td>\n",
       "      <td>UV Protection, Polarized Round Sunglasses (54)</td>\n",
       "    </tr>\n",
       "    <tr>\n",
       "      <th>16</th>\n",
       "      <td>PIRASO</td>\n",
       "      <td>UV Protection Aviator Sunglasses (54)</td>\n",
       "    </tr>\n",
       "    <tr>\n",
       "      <th>17</th>\n",
       "      <td>PIRASO</td>\n",
       "      <td>UV Protection Aviator Sunglasses (58)</td>\n",
       "    </tr>\n",
       "    <tr>\n",
       "      <th>18</th>\n",
       "      <td>Lee Topper</td>\n",
       "      <td>UV Protection Cat-eye Sunglasses (Free Size)</td>\n",
       "    </tr>\n",
       "    <tr>\n",
       "      <th>19</th>\n",
       "      <td>PHENOMENAL</td>\n",
       "      <td>UV Protection Retro Square Sunglasses (53)</td>\n",
       "    </tr>\n",
       "    <tr>\n",
       "      <th>20</th>\n",
       "      <td>PIRASO</td>\n",
       "      <td>UV Protection Rectangular Sunglasses (52)</td>\n",
       "    </tr>\n",
       "    <tr>\n",
       "      <th>21</th>\n",
       "      <td>PIRASO</td>\n",
       "      <td>UV Protection Wayfarer Sunglasses (32)</td>\n",
       "    </tr>\n",
       "    <tr>\n",
       "      <th>22</th>\n",
       "      <td>Lee Topper</td>\n",
       "      <td>Riding Glasses Wrap-around Sunglasses (Free Size)</td>\n",
       "    </tr>\n",
       "    <tr>\n",
       "      <th>23</th>\n",
       "      <td>Silver Kartz</td>\n",
       "      <td>UV Protection Wayfarer Sunglasses (Free Size)</td>\n",
       "    </tr>\n",
       "    <tr>\n",
       "      <th>24</th>\n",
       "      <td>PIRASO</td>\n",
       "      <td>UV Protection Over-sized Sunglasses (65)</td>\n",
       "    </tr>\n",
       "    <tr>\n",
       "      <th>25</th>\n",
       "      <td>PIRASO</td>\n",
       "      <td>UV Protection Aviator Sunglasses (54)</td>\n",
       "    </tr>\n",
       "    <tr>\n",
       "      <th>26</th>\n",
       "      <td>NuVew</td>\n",
       "      <td>UV Protection Sports Sunglasses (62)</td>\n",
       "    </tr>\n",
       "    <tr>\n",
       "      <th>27</th>\n",
       "      <td>ROYAL SON</td>\n",
       "      <td>Polarized, UV Protection Aviator Sunglasses (57)</td>\n",
       "    </tr>\n",
       "    <tr>\n",
       "      <th>28</th>\n",
       "      <td>ROZZETTA CRAFT</td>\n",
       "      <td>UV Protection, Gradient Retro Square Sunglasse...</td>\n",
       "    </tr>\n",
       "    <tr>\n",
       "      <th>29</th>\n",
       "      <td>SHAAH COLLECTIONS</td>\n",
       "      <td>UV Protection Round Sunglasses (Free Size)</td>\n",
       "    </tr>\n",
       "    <tr>\n",
       "      <th>30</th>\n",
       "      <td>Mi</td>\n",
       "      <td>Polarized Aviator Sunglasses (Free Size)</td>\n",
       "    </tr>\n",
       "    <tr>\n",
       "      <th>31</th>\n",
       "      <td>PHENOMENAL</td>\n",
       "      <td>UV Protection, Mirrored Retro Square Sunglasse...</td>\n",
       "    </tr>\n",
       "    <tr>\n",
       "      <th>32</th>\n",
       "      <td>ROZZETTA CRAFT</td>\n",
       "      <td>UV Protection Rectangular Sunglasses (Free Size)</td>\n",
       "    </tr>\n",
       "    <tr>\n",
       "      <th>33</th>\n",
       "      <td>ROZZETTA CRAFT</td>\n",
       "      <td>Polarized, Riding Glasses Sports, Wrap-around ...</td>\n",
       "    </tr>\n",
       "    <tr>\n",
       "      <th>34</th>\n",
       "      <td>Fastrack</td>\n",
       "      <td>Gradient, UV Protection Wayfarer Sunglasses (F...</td>\n",
       "    </tr>\n",
       "    <tr>\n",
       "      <th>35</th>\n",
       "      <td>ROYAL SON</td>\n",
       "      <td>Polarized, UV Protection Wayfarer, Retro Squar...</td>\n",
       "    </tr>\n",
       "    <tr>\n",
       "      <th>36</th>\n",
       "      <td>Sewell</td>\n",
       "      <td>Mirrored, Night Vision, UV Protection, Riding ...</td>\n",
       "    </tr>\n",
       "    <tr>\n",
       "      <th>37</th>\n",
       "      <td>SRPM</td>\n",
       "      <td>Others Wayfarer, Retro Square Sunglasses (50)</td>\n",
       "    </tr>\n",
       "    <tr>\n",
       "      <th>38</th>\n",
       "      <td>Fastrack</td>\n",
       "      <td>UV Protection Aviator Sunglasses (58)</td>\n",
       "    </tr>\n",
       "    <tr>\n",
       "      <th>39</th>\n",
       "      <td>ROZZETTA CRAFT</td>\n",
       "      <td>UV Protection Spectacle Sunglasses (Free Size)</td>\n",
       "    </tr>\n",
       "  </tbody>\n",
       "</table>\n",
       "</div>"
      ],
      "text/plain": [
       "                brand                                        description\n",
       "0          PHENOMENAL  UV Protection, Mirrored Retro Square Sunglasse...\n",
       "1        Silver Kartz           UV Protection Clubmaster Sunglasses (53)\n",
       "2            DAHAAZIL  UV Protection, Night Vision, Riding Glasses Wa...\n",
       "3            Fastrack   UV Protection Rectangular Sunglasses (Free Size)\n",
       "4           New Specs   UV Protection Rectangular Sunglasses (Free Size)\n",
       "5           Elligator                UV Protection Round Sunglasses (54)\n",
       "6              SUNBEE  UV Protection, Polarized Wayfarer Sunglasses (...\n",
       "7          PHENOMENAL  UV Protection Retro Square Sunglasses (Free Size)\n",
       "8              PIRASO              UV Protection Aviator Sunglasses (54)\n",
       "9                SRPM             UV Protection Wayfarer Sunglasses (50)\n",
       "10  SHAAH COLLECTIONS  UV Protection, Polarized, Mirrored Rectangular...\n",
       "11       Singco India  Gradient, Toughened Glass Lens, UV Protection ...\n",
       "12           Fastrack      UV Protection Wayfarer Sunglasses (Free Size)\n",
       "13             SUNBEE  UV Protection, Polarized, Mirrored Retro Squar...\n",
       "14           Fastrack       UV Protection Aviator Sunglasses (Free Size)\n",
       "15          ROYAL SON     UV Protection, Polarized Round Sunglasses (54)\n",
       "16             PIRASO              UV Protection Aviator Sunglasses (54)\n",
       "17             PIRASO              UV Protection Aviator Sunglasses (58)\n",
       "18         Lee Topper       UV Protection Cat-eye Sunglasses (Free Size)\n",
       "19         PHENOMENAL         UV Protection Retro Square Sunglasses (53)\n",
       "20             PIRASO          UV Protection Rectangular Sunglasses (52)\n",
       "21             PIRASO             UV Protection Wayfarer Sunglasses (32)\n",
       "22         Lee Topper  Riding Glasses Wrap-around Sunglasses (Free Size)\n",
       "23       Silver Kartz      UV Protection Wayfarer Sunglasses (Free Size)\n",
       "24             PIRASO           UV Protection Over-sized Sunglasses (65)\n",
       "25             PIRASO              UV Protection Aviator Sunglasses (54)\n",
       "26              NuVew               UV Protection Sports Sunglasses (62)\n",
       "27          ROYAL SON   Polarized, UV Protection Aviator Sunglasses (57)\n",
       "28     ROZZETTA CRAFT  UV Protection, Gradient Retro Square Sunglasse...\n",
       "29  SHAAH COLLECTIONS         UV Protection Round Sunglasses (Free Size)\n",
       "30                 Mi           Polarized Aviator Sunglasses (Free Size)\n",
       "31         PHENOMENAL  UV Protection, Mirrored Retro Square Sunglasse...\n",
       "32     ROZZETTA CRAFT   UV Protection Rectangular Sunglasses (Free Size)\n",
       "33     ROZZETTA CRAFT  Polarized, Riding Glasses Sports, Wrap-around ...\n",
       "34           Fastrack  Gradient, UV Protection Wayfarer Sunglasses (F...\n",
       "35          ROYAL SON  Polarized, UV Protection Wayfarer, Retro Squar...\n",
       "36             Sewell  Mirrored, Night Vision, UV Protection, Riding ...\n",
       "37               SRPM      Others Wayfarer, Retro Square Sunglasses (50)\n",
       "38           Fastrack              UV Protection Aviator Sunglasses (58)\n",
       "39     ROZZETTA CRAFT     UV Protection Spectacle Sunglasses (Free Size)"
      ]
     },
     "execution_count": 93,
     "metadata": {},
     "output_type": "execute_result"
    }
   ],
   "source": [
    "data = {'brand': brand_title, 'description': product_description}\n",
    "df = pd.DataFrame(data)\n",
    "df"
   ]
  },
  {
   "cell_type": "code",
   "execution_count": null,
   "id": "45000778",
   "metadata": {},
   "outputs": [],
   "source": [
    "#Q5: Scrape 100 reviews data from flipkart.com for iphone11 phone.\n",
    "#This task will be done in following steps:\n",
    "#1. First get the webpage https://www.flipkart.com/\n",
    "#2. Enter “iphone 11” in “Search” field . \n",
    "#3. Then click the search button\n",
    "As shown in the above page you have to scrape the tick marked attributes.These are:\n",
    "1. Rating\n",
    "2. Review summary\n",
    "3. Full review\n",
    "4. You have to scrape this data for first 100 reviews.\n",
    "Note: All the steps required during scraping should be done through code only and not manually"
   ]
  },
  {
   "cell_type": "code",
   "execution_count": 1,
   "id": "250bc343",
   "metadata": {},
   "outputs": [],
   "source": [
    "import selenium\n",
    "import time\n",
    "from selenium import webdriver\n",
    "import pandas as pd\n",
    "import warnings\n",
    "warnings.filterwarnings(\"ignore\")\n",
    "\n",
    "from selenium.webdriver.common.keys import Keys\n",
    "from selenium.webdriver.chrome.options import Options\n",
    "from selenium.webdriver.support.ui import WebDriverWait\n",
    "from selenium.webdriver.support import expected_conditions as EC\n",
    "from getpass import getpass\n",
    "\n",
    "from selenium.webdriver.chrome.service import Service #always import this or web driver gives truble\n",
    "from selenium.webdriver.common.by import By #always import this or web driver gives truble\n",
    "import time"
   ]
  },
  {
   "cell_type": "code",
   "execution_count": 2,
   "id": "5ee131b4",
   "metadata": {},
   "outputs": [],
   "source": [
    "driver = webdriver.Chrome('chromedriver.exe')"
   ]
  },
  {
   "cell_type": "code",
   "execution_count": 3,
   "id": "b4fd7324",
   "metadata": {},
   "outputs": [],
   "source": [
    "url='https://www.flipkart.com/'\n",
    "driver.get(url)"
   ]
  },
  {
   "cell_type": "code",
   "execution_count": 8,
   "id": "6b7526a9",
   "metadata": {},
   "outputs": [
    {
     "data": {
      "text/plain": [
       "<selenium.webdriver.remote.webelement.WebElement (session=\"6991984616480086c70733a5b47bef91\", element=\"12ff891f-ad25-4485-a1b7-4045354c8d65\")>"
      ]
     },
     "execution_count": 8,
     "metadata": {},
     "output_type": "execute_result"
    }
   ],
   "source": [
    "#finding iphone 11 in search job bar usind id\n",
    "search=driver.find_element(By.CLASS_NAME,\"_3704LK\")\n",
    "search"
   ]
  },
  {
   "cell_type": "code",
   "execution_count": 9,
   "id": "19b7f671",
   "metadata": {},
   "outputs": [],
   "source": [
    "search.send_keys(\"iphone 11\")"
   ]
  },
  {
   "cell_type": "code",
   "execution_count": 10,
   "id": "6b2bf0b1",
   "metadata": {},
   "outputs": [
    {
     "data": {
      "text/plain": [
       "<selenium.webdriver.remote.webelement.WebElement (session=\"6991984616480086c70733a5b47bef91\", element=\"162a601e-e358-4e5d-a4be-7de187dca69e\")>"
      ]
     },
     "execution_count": 10,
     "metadata": {},
     "output_type": "execute_result"
    }
   ],
   "source": [
    "search_phone = driver.find_element(By.XPATH,'/html/body/div[1]/div/div[1]/div[1]/div[2]/div[2]/form/div/button')\n",
    "search_phone"
   ]
  },
  {
   "cell_type": "code",
   "execution_count": 12,
   "id": "45e2c858",
   "metadata": {},
   "outputs": [],
   "source": [
    "search_phone.click()"
   ]
  },
  {
   "cell_type": "code",
   "execution_count": 19,
   "id": "c81d33d5",
   "metadata": {},
   "outputs": [],
   "source": [
    "rating = driver.find_elements(By.CSS_SELECTOR,'span._1lRcqv')\n",
    "review = driver.find_elements(By.CSS_SELECTOR,'span._2_R_DZ')\n",
    "phone_rating = []\n",
    "phone_review = []"
   ]
  },
  {
   "cell_type": "code",
   "execution_count": 20,
   "id": "27946aa3",
   "metadata": {},
   "outputs": [],
   "source": [
    "for rating in rating:\n",
    "    phone_rating.append(rating.text)\n",
    "    \n",
    "for review in review:\n",
    "    phone_review.append(review.text)\n",
    "    "
   ]
  },
  {
   "cell_type": "code",
   "execution_count": 56,
   "id": "faaa3459",
   "metadata": {},
   "outputs": [
    {
     "data": {
      "text/plain": [
       "<selenium.webdriver.remote.webelement.WebElement (session=\"6991984616480086c70733a5b47bef91\", element=\"e52da8d8-6022-433c-a5e2-3c79a2d68326\")>"
      ]
     },
     "execution_count": 56,
     "metadata": {},
     "output_type": "execute_result"
    }
   ],
   "source": [
    "review_btn=driver.find_element(By.XPATH,'/html/body/div[1]/div/div[3]/div[1]/div[2]/div[2]/div/div/div/a/div[2]/div[1]/div[2]/span[2]/span/span[3]')\n",
    "review_btn"
   ]
  },
  {
   "cell_type": "code",
   "execution_count": 57,
   "id": "9878932e",
   "metadata": {},
   "outputs": [],
   "source": [
    "review_btn.click()"
   ]
  },
  {
   "cell_type": "code",
   "execution_count": 66,
   "id": "088edf7e",
   "metadata": {},
   "outputs": [
    {
     "data": {
      "text/plain": [
       "[<selenium.webdriver.remote.webelement.WebElement (session=\"6991984616480086c70733a5b47bef91\", element=\"48c7d29e-925d-408b-824a-80e086746187\")>,\n",
       " <selenium.webdriver.remote.webelement.WebElement (session=\"6991984616480086c70733a5b47bef91\", element=\"46614da3-267b-457d-a413-0b1de58f913b\")>,\n",
       " <selenium.webdriver.remote.webelement.WebElement (session=\"6991984616480086c70733a5b47bef91\", element=\"4ab88100-0bd9-4115-9fe3-9735bc53b30c\")>,\n",
       " <selenium.webdriver.remote.webelement.WebElement (session=\"6991984616480086c70733a5b47bef91\", element=\"8d4ef30c-0025-4036-bc9d-b7ec1cb08d69\")>,\n",
       " <selenium.webdriver.remote.webelement.WebElement (session=\"6991984616480086c70733a5b47bef91\", element=\"c307778e-9131-49d5-b22d-497d0481b33c\")>,\n",
       " <selenium.webdriver.remote.webelement.WebElement (session=\"6991984616480086c70733a5b47bef91\", element=\"ed74015d-f0ab-4319-b6a7-3c08f5d959ae\")>,\n",
       " <selenium.webdriver.remote.webelement.WebElement (session=\"6991984616480086c70733a5b47bef91\", element=\"9b9c067c-7912-4a6c-beff-fb35936ffa09\")>,\n",
       " <selenium.webdriver.remote.webelement.WebElement (session=\"6991984616480086c70733a5b47bef91\", element=\"034de056-22fe-4381-9f14-5277960a0245\")>,\n",
       " <selenium.webdriver.remote.webelement.WebElement (session=\"6991984616480086c70733a5b47bef91\", element=\"c60549fa-c27b-4d0c-ae31-b6bee8d25986\")>,\n",
       " <selenium.webdriver.remote.webelement.WebElement (session=\"6991984616480086c70733a5b47bef91\", element=\"a2e2dd05-ba26-4296-9a5b-5b20e7ebd0fe\")>,\n",
       " <selenium.webdriver.remote.webelement.WebElement (session=\"6991984616480086c70733a5b47bef91\", element=\"8ec189a1-c606-4f71-99f9-82dbef07c838\")>,\n",
       " <selenium.webdriver.remote.webelement.WebElement (session=\"6991984616480086c70733a5b47bef91\", element=\"c77a04f6-f9e6-4090-afea-cf072827bfd8\")>,\n",
       " <selenium.webdriver.remote.webelement.WebElement (session=\"6991984616480086c70733a5b47bef91\", element=\"12d3658f-5ba8-4db3-a362-1238822b499b\")>,\n",
       " <selenium.webdriver.remote.webelement.WebElement (session=\"6991984616480086c70733a5b47bef91\", element=\"0d382b88-ad6f-46a6-97d5-2b9b4e1ab180\")>,\n",
       " <selenium.webdriver.remote.webelement.WebElement (session=\"6991984616480086c70733a5b47bef91\", element=\"fb14b163-9484-4eb2-b1fe-ff77d11ae0fa\")>,\n",
       " <selenium.webdriver.remote.webelement.WebElement (session=\"6991984616480086c70733a5b47bef91\", element=\"eb16b2b8-d30a-4ba4-9196-2ded598fd396\")>,\n",
       " <selenium.webdriver.remote.webelement.WebElement (session=\"6991984616480086c70733a5b47bef91\", element=\"b4798e22-589a-431f-b24e-1c5a48d64b8b\")>,\n",
       " <selenium.webdriver.remote.webelement.WebElement (session=\"6991984616480086c70733a5b47bef91\", element=\"05cced94-6ffe-41e6-ab82-e9012761b428\")>,\n",
       " <selenium.webdriver.remote.webelement.WebElement (session=\"6991984616480086c70733a5b47bef91\", element=\"e2fcfac6-a528-4163-92e1-9dd9727fbebc\")>,\n",
       " <selenium.webdriver.remote.webelement.WebElement (session=\"6991984616480086c70733a5b47bef91\", element=\"7a7d5076-5af5-470a-8040-5cdca5e3e9c4\")>,\n",
       " <selenium.webdriver.remote.webelement.WebElement (session=\"6991984616480086c70733a5b47bef91\", element=\"68c1a4a1-4558-442a-90b7-cdf07c75381f\")>,\n",
       " <selenium.webdriver.remote.webelement.WebElement (session=\"6991984616480086c70733a5b47bef91\", element=\"cc482d67-f05c-4872-9ca1-47a763d70b20\")>,\n",
       " <selenium.webdriver.remote.webelement.WebElement (session=\"6991984616480086c70733a5b47bef91\", element=\"bc611071-cb5b-41e6-bc62-53b44da5a16a\")>,\n",
       " <selenium.webdriver.remote.webelement.WebElement (session=\"6991984616480086c70733a5b47bef91\", element=\"5b7e1379-e838-4004-bfd2-1a9affa119ce\")>,\n",
       " <selenium.webdriver.remote.webelement.WebElement (session=\"6991984616480086c70733a5b47bef91\", element=\"647b43d6-62ee-4ed4-8a57-7fab01ffb861\")>,\n",
       " <selenium.webdriver.remote.webelement.WebElement (session=\"6991984616480086c70733a5b47bef91\", element=\"18d3f443-8c42-40fd-b40a-d387576e8cc6\")>,\n",
       " <selenium.webdriver.remote.webelement.WebElement (session=\"6991984616480086c70733a5b47bef91\", element=\"9ab3788c-1722-4d9b-84c4-b52eea0d97e3\")>,\n",
       " <selenium.webdriver.remote.webelement.WebElement (session=\"6991984616480086c70733a5b47bef91\", element=\"c8a2ee62-6790-444b-a122-6b3833fbf76d\")>,\n",
       " <selenium.webdriver.remote.webelement.WebElement (session=\"6991984616480086c70733a5b47bef91\", element=\"71f50422-3cbc-4852-a1e8-c2df9dd01a8a\")>,\n",
       " <selenium.webdriver.remote.webelement.WebElement (session=\"6991984616480086c70733a5b47bef91\", element=\"26390c72-e76c-4b61-9085-06b244f1c990\")>,\n",
       " <selenium.webdriver.remote.webelement.WebElement (session=\"6991984616480086c70733a5b47bef91\", element=\"bdeef1a9-3f67-427e-87e0-fc016915d5b6\")>,\n",
       " <selenium.webdriver.remote.webelement.WebElement (session=\"6991984616480086c70733a5b47bef91\", element=\"a80b98b5-fbc6-4585-b57f-fd5f56a2df07\")>,\n",
       " <selenium.webdriver.remote.webelement.WebElement (session=\"6991984616480086c70733a5b47bef91\", element=\"07caa68b-f28e-430d-93c7-4495b895b9dc\")>,\n",
       " <selenium.webdriver.remote.webelement.WebElement (session=\"6991984616480086c70733a5b47bef91\", element=\"cf79e380-1228-4b6d-9f4a-b66996f3ed78\")>,\n",
       " <selenium.webdriver.remote.webelement.WebElement (session=\"6991984616480086c70733a5b47bef91\", element=\"2bbf5296-eff3-4652-8bd3-7532052016ee\")>,\n",
       " <selenium.webdriver.remote.webelement.WebElement (session=\"6991984616480086c70733a5b47bef91\", element=\"c429f8ca-6ca6-4720-a86c-958a7015ff51\")>,\n",
       " <selenium.webdriver.remote.webelement.WebElement (session=\"6991984616480086c70733a5b47bef91\", element=\"cd4ab652-1672-4b9b-a05d-7f1ade6e6a44\")>,\n",
       " <selenium.webdriver.remote.webelement.WebElement (session=\"6991984616480086c70733a5b47bef91\", element=\"2e2bb026-d4a3-4b8d-abc7-b22f1d0526d7\")>,\n",
       " <selenium.webdriver.remote.webelement.WebElement (session=\"6991984616480086c70733a5b47bef91\", element=\"674ae89b-92f7-4e46-8d0e-84a09e5dce89\")>,\n",
       " <selenium.webdriver.remote.webelement.WebElement (session=\"6991984616480086c70733a5b47bef91\", element=\"ed728e55-f08b-4fd7-ad15-1bdf69fb0a6c\")>,\n",
       " <selenium.webdriver.remote.webelement.WebElement (session=\"6991984616480086c70733a5b47bef91\", element=\"0e25f90d-b94c-4b49-ba24-678e03fa6b2c\")>,\n",
       " <selenium.webdriver.remote.webelement.WebElement (session=\"6991984616480086c70733a5b47bef91\", element=\"61fbbe4f-7a71-40c6-a05c-6756341bd3df\")>,\n",
       " <selenium.webdriver.remote.webelement.WebElement (session=\"6991984616480086c70733a5b47bef91\", element=\"abc76beb-77d9-4be5-8a48-17d3d421f203\")>,\n",
       " <selenium.webdriver.remote.webelement.WebElement (session=\"6991984616480086c70733a5b47bef91\", element=\"11014b62-761a-4ee7-8ad1-6c93e99db790\")>,\n",
       " <selenium.webdriver.remote.webelement.WebElement (session=\"6991984616480086c70733a5b47bef91\", element=\"50961714-e4b6-4d83-93ab-413a0a6d7e11\")>,\n",
       " <selenium.webdriver.remote.webelement.WebElement (session=\"6991984616480086c70733a5b47bef91\", element=\"06d19c94-859e-4f55-9c4a-255507318c6c\")>,\n",
       " <selenium.webdriver.remote.webelement.WebElement (session=\"6991984616480086c70733a5b47bef91\", element=\"9482c6b7-b1e7-4903-856c-cad191ccbf11\")>,\n",
       " <selenium.webdriver.remote.webelement.WebElement (session=\"6991984616480086c70733a5b47bef91\", element=\"f3711da8-8689-4d8e-bd07-393f83b4034c\")>,\n",
       " <selenium.webdriver.remote.webelement.WebElement (session=\"6991984616480086c70733a5b47bef91\", element=\"0b6c2993-d678-4d2b-9a55-e4e9c41d9937\")>]"
      ]
     },
     "execution_count": 66,
     "metadata": {},
     "output_type": "execute_result"
    }
   ],
   "source": [
    "summary = driver.find_elements(By.CSS_SELECTOR,'div.col')\n",
    "summary"
   ]
  },
  {
   "cell_type": "code",
   "execution_count": 67,
   "id": "34d271ef",
   "metadata": {},
   "outputs": [],
   "source": [
    "review_summary = []"
   ]
  },
  {
   "cell_type": "code",
   "execution_count": 68,
   "id": "c3ab1754",
   "metadata": {},
   "outputs": [],
   "source": [
    "for summary in summary:\n",
    "    review_summary.append(summary.text)\n",
    "    "
   ]
  },
  {
   "cell_type": "code",
   "execution_count": 69,
   "id": "abeb60f3",
   "metadata": {},
   "outputs": [
    {
     "data": {
      "text/plain": [
       "49"
      ]
     },
     "execution_count": 69,
     "metadata": {},
     "output_type": "execute_result"
    }
   ],
   "source": [
    " len(review_summary)"
   ]
  },
  {
   "cell_type": "code",
   "execution_count": 71,
   "id": "adc0c945",
   "metadata": {},
   "outputs": [
    {
     "data": {
      "text/html": [
       "<div>\n",
       "<style scoped>\n",
       "    .dataframe tbody tr th:only-of-type {\n",
       "        vertical-align: middle;\n",
       "    }\n",
       "\n",
       "    .dataframe tbody tr th {\n",
       "        vertical-align: top;\n",
       "    }\n",
       "\n",
       "    .dataframe thead th {\n",
       "        text-align: right;\n",
       "    }\n",
       "</style>\n",
       "<table border=\"1\" class=\"dataframe\">\n",
       "  <thead>\n",
       "    <tr style=\"text-align: right;\">\n",
       "      <th></th>\n",
       "      <th>rating</th>\n",
       "      <th>Review</th>\n",
       "    </tr>\n",
       "  </thead>\n",
       "  <tbody>\n",
       "    <tr>\n",
       "      <th>0</th>\n",
       "      <td>4.6</td>\n",
       "      <td>88,407 Ratings &amp; 6,635 Reviews</td>\n",
       "    </tr>\n",
       "    <tr>\n",
       "      <th>1</th>\n",
       "      <td>4.6</td>\n",
       "      <td>88,407 Ratings &amp; 6,635 Reviews</td>\n",
       "    </tr>\n",
       "    <tr>\n",
       "      <th>2</th>\n",
       "      <td>4.6</td>\n",
       "      <td>88,407 Ratings &amp; 6,635 Reviews</td>\n",
       "    </tr>\n",
       "    <tr>\n",
       "      <th>3</th>\n",
       "      <td>4.6</td>\n",
       "      <td>88,407 Ratings &amp; 6,635 Reviews</td>\n",
       "    </tr>\n",
       "    <tr>\n",
       "      <th>4</th>\n",
       "      <td>4.6</td>\n",
       "      <td>88,407 Ratings &amp; 6,635 Reviews</td>\n",
       "    </tr>\n",
       "    <tr>\n",
       "      <th>5</th>\n",
       "      <td>4.6</td>\n",
       "      <td>88,407 Ratings &amp; 6,635 Reviews</td>\n",
       "    </tr>\n",
       "    <tr>\n",
       "      <th>6</th>\n",
       "      <td>4.6</td>\n",
       "      <td>88,407 Ratings &amp; 6,635 Reviews</td>\n",
       "    </tr>\n",
       "    <tr>\n",
       "      <th>7</th>\n",
       "      <td>4.6</td>\n",
       "      <td>88,407 Ratings &amp; 6,635 Reviews</td>\n",
       "    </tr>\n",
       "    <tr>\n",
       "      <th>8</th>\n",
       "      <td>4.6</td>\n",
       "      <td>88,407 Ratings &amp; 6,635 Reviews</td>\n",
       "    </tr>\n",
       "    <tr>\n",
       "      <th>9</th>\n",
       "      <td>4.6</td>\n",
       "      <td>88,407 Ratings &amp; 6,635 Reviews</td>\n",
       "    </tr>\n",
       "    <tr>\n",
       "      <th>10</th>\n",
       "      <td>4.6</td>\n",
       "      <td>88,407 Ratings &amp; 6,635 Reviews</td>\n",
       "    </tr>\n",
       "    <tr>\n",
       "      <th>11</th>\n",
       "      <td>4.6</td>\n",
       "      <td>88,407 Ratings &amp; 6,635 Reviews</td>\n",
       "    </tr>\n",
       "    <tr>\n",
       "      <th>12</th>\n",
       "      <td>4.4</td>\n",
       "      <td>1,45,523 Ratings &amp; 16,296 Reviews</td>\n",
       "    </tr>\n",
       "    <tr>\n",
       "      <th>13</th>\n",
       "      <td>4.6</td>\n",
       "      <td>88,407 Ratings &amp; 6,635 Reviews</td>\n",
       "    </tr>\n",
       "    <tr>\n",
       "      <th>14</th>\n",
       "      <td>4.6</td>\n",
       "      <td>88,407 Ratings &amp; 6,635 Reviews</td>\n",
       "    </tr>\n",
       "    <tr>\n",
       "      <th>15</th>\n",
       "      <td>4.6</td>\n",
       "      <td>88,407 Ratings &amp; 6,635 Reviews</td>\n",
       "    </tr>\n",
       "    <tr>\n",
       "      <th>16</th>\n",
       "      <td>4.6</td>\n",
       "      <td>88,407 Ratings &amp; 6,635 Reviews</td>\n",
       "    </tr>\n",
       "    <tr>\n",
       "      <th>17</th>\n",
       "      <td>4.6</td>\n",
       "      <td>88,407 Ratings &amp; 6,635 Reviews</td>\n",
       "    </tr>\n",
       "    <tr>\n",
       "      <th>18</th>\n",
       "      <td>4.6</td>\n",
       "      <td>88,407 Ratings &amp; 6,635 Reviews</td>\n",
       "    </tr>\n",
       "    <tr>\n",
       "      <th>19</th>\n",
       "      <td>4.6</td>\n",
       "      <td>88,407 Ratings &amp; 6,635 Reviews</td>\n",
       "    </tr>\n",
       "    <tr>\n",
       "      <th>20</th>\n",
       "      <td>4.6</td>\n",
       "      <td>88,407 Ratings &amp; 6,635 Reviews</td>\n",
       "    </tr>\n",
       "    <tr>\n",
       "      <th>21</th>\n",
       "      <td>4.6</td>\n",
       "      <td>88,407 Ratings &amp; 6,635 Reviews</td>\n",
       "    </tr>\n",
       "    <tr>\n",
       "      <th>22</th>\n",
       "      <td>4.6</td>\n",
       "      <td>88,407 Ratings &amp; 6,635 Reviews</td>\n",
       "    </tr>\n",
       "    <tr>\n",
       "      <th>23</th>\n",
       "      <td>4.6</td>\n",
       "      <td>88,407 Ratings &amp; 6,635 Reviews</td>\n",
       "    </tr>\n",
       "  </tbody>\n",
       "</table>\n",
       "</div>"
      ],
      "text/plain": [
       "   rating                             Review\n",
       "0     4.6     88,407 Ratings & 6,635 Reviews\n",
       "1     4.6     88,407 Ratings & 6,635 Reviews\n",
       "2     4.6     88,407 Ratings & 6,635 Reviews\n",
       "3     4.6     88,407 Ratings & 6,635 Reviews\n",
       "4     4.6     88,407 Ratings & 6,635 Reviews\n",
       "5     4.6     88,407 Ratings & 6,635 Reviews\n",
       "6     4.6     88,407 Ratings & 6,635 Reviews\n",
       "7     4.6     88,407 Ratings & 6,635 Reviews\n",
       "8     4.6     88,407 Ratings & 6,635 Reviews\n",
       "9     4.6     88,407 Ratings & 6,635 Reviews\n",
       "10    4.6     88,407 Ratings & 6,635 Reviews\n",
       "11    4.6     88,407 Ratings & 6,635 Reviews\n",
       "12    4.4  1,45,523 Ratings & 16,296 Reviews\n",
       "13    4.6     88,407 Ratings & 6,635 Reviews\n",
       "14    4.6     88,407 Ratings & 6,635 Reviews\n",
       "15    4.6     88,407 Ratings & 6,635 Reviews\n",
       "16    4.6     88,407 Ratings & 6,635 Reviews\n",
       "17    4.6     88,407 Ratings & 6,635 Reviews\n",
       "18    4.6     88,407 Ratings & 6,635 Reviews\n",
       "19    4.6     88,407 Ratings & 6,635 Reviews\n",
       "20    4.6     88,407 Ratings & 6,635 Reviews\n",
       "21    4.6     88,407 Ratings & 6,635 Reviews\n",
       "22    4.6     88,407 Ratings & 6,635 Reviews\n",
       "23    4.6     88,407 Ratings & 6,635 Reviews"
      ]
     },
     "execution_count": 71,
     "metadata": {},
     "output_type": "execute_result"
    }
   ],
   "source": [
    "data = {'rating': phone_rating , 'Review': phone_review}\n",
    "df = pd.DataFrame(data)\n",
    "df"
   ]
  },
  {
   "cell_type": "code",
   "execution_count": null,
   "id": "b7f37447",
   "metadata": {},
   "outputs": [],
   "source": [
    "#q6: Go to the link - https://www.myntra.com/shoes\n",
    "#Set second Price filter and Color filter to “Black”, as shown in the below image.\n",
    "#And then scrape First 100 shoes data you get. The data should include “Brand” of the shoes , Short Shoe \n",
    "#description, price of the shoe as shown in the below image\n"
   ]
  },
  {
   "cell_type": "code",
   "execution_count": 140,
   "id": "719baf96",
   "metadata": {},
   "outputs": [],
   "source": [
    "import selenium\n",
    "import time\n",
    "from selenium import webdriver\n",
    "import pandas as pd\n",
    "import warnings\n",
    "warnings.filterwarnings(\"ignore\")\n",
    "\n",
    "from selenium.webdriver.common.keys import Keys\n",
    "from selenium.webdriver.chrome.options import Options\n",
    "from selenium.webdriver.support.ui import WebDriverWait\n",
    "from selenium.webdriver.support import expected_conditions as EC\n",
    "from getpass import getpass\n",
    "\n",
    "from selenium.webdriver.chrome.service import Service #always import this or web driver gives truble\n",
    "from selenium.webdriver.common.by import By #always import this or web driver gives truble\n",
    "import time"
   ]
  },
  {
   "cell_type": "code",
   "execution_count": 77,
   "id": "d26b9bb0",
   "metadata": {},
   "outputs": [],
   "source": [
    "driver = webdriver.Chrome('chromedriver.exe')"
   ]
  },
  {
   "cell_type": "code",
   "execution_count": 78,
   "id": "1a2e5a34",
   "metadata": {},
   "outputs": [],
   "source": [
    "url='https://www.myntra.com/shoes'\n",
    "driver.get(url)"
   ]
  },
  {
   "cell_type": "code",
   "execution_count": 114,
   "id": "d404d4fe",
   "metadata": {},
   "outputs": [
    {
     "data": {
      "text/plain": [
       "<selenium.webdriver.remote.webelement.WebElement (session=\"a533948fdbb46b2e42efca674439de0f\", element=\"99abc179-80d4-4ff0-a51b-217439610ae9\")>"
      ]
     },
     "execution_count": 114,
     "metadata": {},
     "output_type": "execute_result"
    }
   ],
   "source": [
    "price_filter = driver.find_element(By.XPATH,'/html/body/div[2]/div/div[1]/main/div[3]/div[1]/section/div/div[5]/ul/li[2]/label/div')\n",
    "price_filter\n"
   ]
  },
  {
   "cell_type": "code",
   "execution_count": 115,
   "id": "9db17cab",
   "metadata": {},
   "outputs": [],
   "source": [
    "price_filter.click()\n"
   ]
  },
  {
   "cell_type": "code",
   "execution_count": 112,
   "id": "f9a2fb8f",
   "metadata": {},
   "outputs": [
    {
     "data": {
      "text/plain": [
       "<selenium.webdriver.remote.webelement.WebElement (session=\"a533948fdbb46b2e42efca674439de0f\", element=\"052fbb07-033d-4fe3-b7fe-5c4dc4893882\")>"
      ]
     },
     "execution_count": 112,
     "metadata": {},
     "output_type": "execute_result"
    }
   ],
   "source": [
    "color_filter = driver.find_element(By.XPATH,'/html/body/div[2]/div/div[1]/main/div[3]/div[1]/section/div/div[6]/ul/li[1]/label/div')\n",
    "color_filter"
   ]
  },
  {
   "cell_type": "code",
   "execution_count": 113,
   "id": "5e562c83",
   "metadata": {},
   "outputs": [],
   "source": [
    "color_filter.click()"
   ]
  },
  {
   "cell_type": "code",
   "execution_count": 142,
   "id": "dd1376a3",
   "metadata": {},
   "outputs": [
    {
     "data": {
      "text/plain": [
       "<selenium.webdriver.remote.webelement.WebElement (session=\"a533948fdbb46b2e42efca674439de0f\", element=\"e1f419fd-595f-4ce5-874a-0b8d71477173\")>"
      ]
     },
     "execution_count": 142,
     "metadata": {},
     "output_type": "execute_result"
    }
   ],
   "source": [
    "next_btn = driver.find_element(By.XPATH,'/html/body/div[2]/div/div[1]/main/div[3]/div[2]/div/div[2]/section/div[2]/ul/li[12]/a')\n",
    "next_btn"
   ]
  },
  {
   "cell_type": "code",
   "execution_count": 143,
   "id": "2206bc0f",
   "metadata": {},
   "outputs": [],
   "source": [
    "next_btn.click()"
   ]
  },
  {
   "cell_type": "code",
   "execution_count": 144,
   "id": "96d99659",
   "metadata": {},
   "outputs": [],
   "source": [
    "brand = driver.find_elements(By.CSS_SELECTOR,'h3.product-brand')\n",
    "brand\n",
    "shoe_brand = []"
   ]
  },
  {
   "cell_type": "code",
   "execution_count": 145,
   "id": "b90265ab",
   "metadata": {},
   "outputs": [],
   "source": [
    "for brand in brand:\n",
    "    shoe_brand.append(brand.text)"
   ]
  },
  {
   "cell_type": "code",
   "execution_count": 146,
   "id": "1574019f",
   "metadata": {},
   "outputs": [
    {
     "data": {
      "text/plain": [
       "50"
      ]
     },
     "execution_count": 146,
     "metadata": {},
     "output_type": "execute_result"
    }
   ],
   "source": [
    "len(shoe_brand)"
   ]
  },
  {
   "cell_type": "code",
   "execution_count": 147,
   "id": "3333960f",
   "metadata": {},
   "outputs": [],
   "source": [
    "price =  driver.find_elements(By.CSS_SELECTOR,'span.product-discountedPrice')\n",
    "price\n",
    "shoe_price = []"
   ]
  },
  {
   "cell_type": "code",
   "execution_count": 148,
   "id": "515958b5",
   "metadata": {},
   "outputs": [],
   "source": [
    "for price in price:\n",
    "    shoe_price.append(price.text)"
   ]
  },
  {
   "cell_type": "code",
   "execution_count": 149,
   "id": "ebba8e02",
   "metadata": {},
   "outputs": [
    {
     "data": {
      "text/plain": [
       "49"
      ]
     },
     "execution_count": 149,
     "metadata": {},
     "output_type": "execute_result"
    }
   ],
   "source": [
    "len(shoe_price)"
   ]
  },
  {
   "cell_type": "code",
   "execution_count": 150,
   "id": "6e7cb6ce",
   "metadata": {},
   "outputs": [],
   "source": [
    "description =  driver.find_elements(By.CSS_SELECTOR,'h4.product-product')\n",
    "description\n",
    "shoe_description = []"
   ]
  },
  {
   "cell_type": "code",
   "execution_count": 151,
   "id": "378c5e83",
   "metadata": {},
   "outputs": [],
   "source": [
    "for description in description:\n",
    "    shoe_description.append(description.text)"
   ]
  },
  {
   "cell_type": "code",
   "execution_count": 152,
   "id": "af6b703e",
   "metadata": {},
   "outputs": [
    {
     "data": {
      "text/plain": [
       "50"
      ]
     },
     "execution_count": 152,
     "metadata": {},
     "output_type": "execute_result"
    }
   ],
   "source": [
    "len(shoe_description)"
   ]
  },
  {
   "cell_type": "code",
   "execution_count": 153,
   "id": "21777b42",
   "metadata": {},
   "outputs": [
    {
     "data": {
      "text/html": [
       "<div>\n",
       "<style scoped>\n",
       "    .dataframe tbody tr th:only-of-type {\n",
       "        vertical-align: middle;\n",
       "    }\n",
       "\n",
       "    .dataframe tbody tr th {\n",
       "        vertical-align: top;\n",
       "    }\n",
       "\n",
       "    .dataframe thead th {\n",
       "        text-align: right;\n",
       "    }\n",
       "</style>\n",
       "<table border=\"1\" class=\"dataframe\">\n",
       "  <thead>\n",
       "    <tr style=\"text-align: right;\">\n",
       "      <th></th>\n",
       "      <th>Brand</th>\n",
       "      <th>Description</th>\n",
       "    </tr>\n",
       "  </thead>\n",
       "  <tbody>\n",
       "    <tr>\n",
       "      <th>0</th>\n",
       "      <td>one8 x PUMA</td>\n",
       "      <td></td>\n",
       "    </tr>\n",
       "    <tr>\n",
       "      <th>1</th>\n",
       "      <td>Nike</td>\n",
       "      <td>Women WINFLO 8 Running Shoes</td>\n",
       "    </tr>\n",
       "    <tr>\n",
       "      <th>2</th>\n",
       "      <td>U.S. Polo Assn.</td>\n",
       "      <td>Men PU Loafers</td>\n",
       "    </tr>\n",
       "    <tr>\n",
       "      <th>3</th>\n",
       "      <td>RINDAS</td>\n",
       "      <td>Women Colourblocked Sneakers</td>\n",
       "    </tr>\n",
       "    <tr>\n",
       "      <th>4</th>\n",
       "      <td>HRX by Hrithik Roshan</td>\n",
       "      <td>Women Alpha Running Shoes</td>\n",
       "    </tr>\n",
       "    <tr>\n",
       "      <th>5</th>\n",
       "      <td>HERE&amp;NOW</td>\n",
       "      <td>Women Solid Flats With Buckles</td>\n",
       "    </tr>\n",
       "    <tr>\n",
       "      <th>6</th>\n",
       "      <td>Nike</td>\n",
       "      <td>Men Colourblocked Sneakers</td>\n",
       "    </tr>\n",
       "    <tr>\n",
       "      <th>7</th>\n",
       "      <td>Mactree</td>\n",
       "      <td>Men Colourblocked PU Sneakers</td>\n",
       "    </tr>\n",
       "    <tr>\n",
       "      <th>8</th>\n",
       "      <td>DEAS</td>\n",
       "      <td>Women Colourblocked Sneakers</td>\n",
       "    </tr>\n",
       "    <tr>\n",
       "      <th>9</th>\n",
       "      <td>HRX by Hrithik Roshan</td>\n",
       "      <td>Men Running Shoes</td>\n",
       "    </tr>\n",
       "    <tr>\n",
       "      <th>10</th>\n",
       "      <td>Monrow</td>\n",
       "      <td>Women Sandals</td>\n",
       "    </tr>\n",
       "    <tr>\n",
       "      <th>11</th>\n",
       "      <td>Denill</td>\n",
       "      <td>Pointed Toe Block Pumps</td>\n",
       "    </tr>\n",
       "    <tr>\n",
       "      <th>12</th>\n",
       "      <td>Bond Street By Red Tape</td>\n",
       "      <td>Men Walking Shoes</td>\n",
       "    </tr>\n",
       "    <tr>\n",
       "      <th>13</th>\n",
       "      <td>HRX by Hrithik Roshan</td>\n",
       "      <td>Men Metalite Running Shoe</td>\n",
       "    </tr>\n",
       "    <tr>\n",
       "      <th>14</th>\n",
       "      <td>ASIAN</td>\n",
       "      <td>Men Colourblocked Slip-On Sneakers</td>\n",
       "    </tr>\n",
       "    <tr>\n",
       "      <th>15</th>\n",
       "      <td>Marc Loire</td>\n",
       "      <td>Women Pumps</td>\n",
       "    </tr>\n",
       "    <tr>\n",
       "      <th>16</th>\n",
       "      <td>DressBerry</td>\n",
       "      <td>Women Woven Design Sneakers</td>\n",
       "    </tr>\n",
       "    <tr>\n",
       "      <th>17</th>\n",
       "      <td>HRX by Hrithik Roshan</td>\n",
       "      <td>Men Alpha Running shoe</td>\n",
       "    </tr>\n",
       "    <tr>\n",
       "      <th>18</th>\n",
       "      <td>Catwalk</td>\n",
       "      <td>Suede Wedge Sandals</td>\n",
       "    </tr>\n",
       "    <tr>\n",
       "      <th>19</th>\n",
       "      <td>INVICTUS</td>\n",
       "      <td>Men Black Oxford Shoes</td>\n",
       "    </tr>\n",
       "    <tr>\n",
       "      <th>20</th>\n",
       "      <td>Sparx</td>\n",
       "      <td>Men Running Shoes</td>\n",
       "    </tr>\n",
       "    <tr>\n",
       "      <th>21</th>\n",
       "      <td>Fentacia</td>\n",
       "      <td>Men Lightweight Flat Boots</td>\n",
       "    </tr>\n",
       "    <tr>\n",
       "      <th>22</th>\n",
       "      <td>AfroJack</td>\n",
       "      <td>Men Colourblocked Sneakers</td>\n",
       "    </tr>\n",
       "    <tr>\n",
       "      <th>23</th>\n",
       "      <td>Puma</td>\n",
       "      <td>Women Enlighten Shoes</td>\n",
       "    </tr>\n",
       "    <tr>\n",
       "      <th>24</th>\n",
       "      <td>Nike</td>\n",
       "      <td>Men Zoom Court Lite 3 Tennis</td>\n",
       "    </tr>\n",
       "    <tr>\n",
       "      <th>25</th>\n",
       "      <td>Kiana</td>\n",
       "      <td>Floral Embroidered Mules</td>\n",
       "    </tr>\n",
       "    <tr>\n",
       "      <th>26</th>\n",
       "      <td>Puma</td>\n",
       "      <td>Men Sneakers</td>\n",
       "    </tr>\n",
       "    <tr>\n",
       "      <th>27</th>\n",
       "      <td>Puma</td>\n",
       "      <td>Men Colourblocked Sneakers</td>\n",
       "    </tr>\n",
       "    <tr>\n",
       "      <th>28</th>\n",
       "      <td>ALBERTO MORENO</td>\n",
       "      <td>Men Loafers</td>\n",
       "    </tr>\n",
       "    <tr>\n",
       "      <th>29</th>\n",
       "      <td>Provogue</td>\n",
       "      <td>Men Textured Formal Loafers</td>\n",
       "    </tr>\n",
       "    <tr>\n",
       "      <th>30</th>\n",
       "      <td>Nike</td>\n",
       "      <td>Men FLEX Running Shoes</td>\n",
       "    </tr>\n",
       "    <tr>\n",
       "      <th>31</th>\n",
       "      <td>Shoetopia</td>\n",
       "      <td>Women Open Toe Flats</td>\n",
       "    </tr>\n",
       "    <tr>\n",
       "      <th>32</th>\n",
       "      <td>Skechers</td>\n",
       "      <td>Men Go Walk 5 Walking Shoes</td>\n",
       "    </tr>\n",
       "    <tr>\n",
       "      <th>33</th>\n",
       "      <td>Mactree</td>\n",
       "      <td>Men Suede Loafers</td>\n",
       "    </tr>\n",
       "    <tr>\n",
       "      <th>34</th>\n",
       "      <td>HRX by Hrithik Roshan</td>\n",
       "      <td>Men Street Run Running Shoes</td>\n",
       "    </tr>\n",
       "    <tr>\n",
       "      <th>35</th>\n",
       "      <td>ELIXIR MAN</td>\n",
       "      <td>Men Sneakers</td>\n",
       "    </tr>\n",
       "    <tr>\n",
       "      <th>36</th>\n",
       "      <td>Nike</td>\n",
       "      <td>Women Renew In-Season Training</td>\n",
       "    </tr>\n",
       "    <tr>\n",
       "      <th>37</th>\n",
       "      <td>Bata</td>\n",
       "      <td>Boys Velcro School Sneakers</td>\n",
       "    </tr>\n",
       "    <tr>\n",
       "      <th>38</th>\n",
       "      <td>Sparx</td>\n",
       "      <td>Men Running Shoes</td>\n",
       "    </tr>\n",
       "    <tr>\n",
       "      <th>39</th>\n",
       "      <td>Puma</td>\n",
       "      <td>Men Colourblocked IDP Sneakers</td>\n",
       "    </tr>\n",
       "    <tr>\n",
       "      <th>40</th>\n",
       "      <td>HIGHLANDER</td>\n",
       "      <td>Men Solid Sneakers</td>\n",
       "    </tr>\n",
       "    <tr>\n",
       "      <th>41</th>\n",
       "      <td>PUMA Motorsport</td>\n",
       "      <td>Unisex Solid Sneakers</td>\n",
       "    </tr>\n",
       "    <tr>\n",
       "      <th>42</th>\n",
       "      <td>Puma</td>\n",
       "      <td>Men Better Foam Emerge</td>\n",
       "    </tr>\n",
       "    <tr>\n",
       "      <th>43</th>\n",
       "      <td>El Paso</td>\n",
       "      <td>Women Flat Boots</td>\n",
       "    </tr>\n",
       "    <tr>\n",
       "      <th>44</th>\n",
       "      <td>Bata</td>\n",
       "      <td>Men Solid Formal Derbys</td>\n",
       "    </tr>\n",
       "    <tr>\n",
       "      <th>45</th>\n",
       "      <td>San Frissco</td>\n",
       "      <td>Men Solid Formal Oxfords</td>\n",
       "    </tr>\n",
       "    <tr>\n",
       "      <th>46</th>\n",
       "      <td>Red Tape</td>\n",
       "      <td>Men Loafers</td>\n",
       "    </tr>\n",
       "    <tr>\n",
       "      <th>47</th>\n",
       "      <td>Nike</td>\n",
       "      <td>Men Flex Experience Running</td>\n",
       "    </tr>\n",
       "    <tr>\n",
       "      <th>48</th>\n",
       "      <td>Campus</td>\n",
       "      <td>Men Running Shoes</td>\n",
       "    </tr>\n",
       "    <tr>\n",
       "      <th>49</th>\n",
       "      <td>Nike</td>\n",
       "      <td>Men KD 15 Basketball Shoes</td>\n",
       "    </tr>\n",
       "  </tbody>\n",
       "</table>\n",
       "</div>"
      ],
      "text/plain": [
       "                      Brand                         Description\n",
       "0               one8 x PUMA                                    \n",
       "1                      Nike        Women WINFLO 8 Running Shoes\n",
       "2           U.S. Polo Assn.                      Men PU Loafers\n",
       "3                    RINDAS        Women Colourblocked Sneakers\n",
       "4     HRX by Hrithik Roshan           Women Alpha Running Shoes\n",
       "5                  HERE&NOW      Women Solid Flats With Buckles\n",
       "6                      Nike          Men Colourblocked Sneakers\n",
       "7                   Mactree       Men Colourblocked PU Sneakers\n",
       "8                      DEAS        Women Colourblocked Sneakers\n",
       "9     HRX by Hrithik Roshan                   Men Running Shoes\n",
       "10                   Monrow                       Women Sandals\n",
       "11                   Denill             Pointed Toe Block Pumps\n",
       "12  Bond Street By Red Tape                   Men Walking Shoes\n",
       "13    HRX by Hrithik Roshan           Men Metalite Running Shoe\n",
       "14                    ASIAN  Men Colourblocked Slip-On Sneakers\n",
       "15               Marc Loire                         Women Pumps\n",
       "16               DressBerry         Women Woven Design Sneakers\n",
       "17    HRX by Hrithik Roshan              Men Alpha Running shoe\n",
       "18                  Catwalk                 Suede Wedge Sandals\n",
       "19                 INVICTUS              Men Black Oxford Shoes\n",
       "20                    Sparx                   Men Running Shoes\n",
       "21                 Fentacia          Men Lightweight Flat Boots\n",
       "22                 AfroJack          Men Colourblocked Sneakers\n",
       "23                     Puma               Women Enlighten Shoes\n",
       "24                     Nike        Men Zoom Court Lite 3 Tennis\n",
       "25                    Kiana            Floral Embroidered Mules\n",
       "26                     Puma                        Men Sneakers\n",
       "27                     Puma          Men Colourblocked Sneakers\n",
       "28           ALBERTO MORENO                         Men Loafers\n",
       "29                 Provogue         Men Textured Formal Loafers\n",
       "30                     Nike              Men FLEX Running Shoes\n",
       "31                Shoetopia                Women Open Toe Flats\n",
       "32                 Skechers         Men Go Walk 5 Walking Shoes\n",
       "33                  Mactree                   Men Suede Loafers\n",
       "34    HRX by Hrithik Roshan        Men Street Run Running Shoes\n",
       "35               ELIXIR MAN                        Men Sneakers\n",
       "36                     Nike      Women Renew In-Season Training\n",
       "37                     Bata         Boys Velcro School Sneakers\n",
       "38                    Sparx                   Men Running Shoes\n",
       "39                     Puma      Men Colourblocked IDP Sneakers\n",
       "40               HIGHLANDER                  Men Solid Sneakers\n",
       "41          PUMA Motorsport               Unisex Solid Sneakers\n",
       "42                     Puma              Men Better Foam Emerge\n",
       "43                  El Paso                    Women Flat Boots\n",
       "44                     Bata             Men Solid Formal Derbys\n",
       "45              San Frissco            Men Solid Formal Oxfords\n",
       "46                 Red Tape                         Men Loafers\n",
       "47                     Nike         Men Flex Experience Running\n",
       "48                   Campus                   Men Running Shoes\n",
       "49                     Nike          Men KD 15 Basketball Shoes"
      ]
     },
     "execution_count": 153,
     "metadata": {},
     "output_type": "execute_result"
    }
   ],
   "source": [
    "data = {'Brand': shoe_brand, 'Description': shoe_description}\n",
    "df = pd.DataFrame(data)\n",
    "df"
   ]
  },
  {
   "cell_type": "code",
   "execution_count": null,
   "id": "64b3feb2",
   "metadata": {},
   "outputs": [],
   "source": [
    "#q8.  Go to webpage https://www.amazon.in/\n",
    "#Enter “Laptop” in the search field and then click the search icon.\n",
    "#Then set CPU Type filter to “Intel Core i7” as shown in the below image:\n",
    "#    After setting the filters scrape first 10 laptops data. You have to scrape 3 attributesfor each laptop:\n",
    "#1. Title\n",
    "#2. Ratings\n",
    "#3. Price"
   ]
  },
  {
   "cell_type": "code",
   "execution_count": 184,
   "id": "f72c8115",
   "metadata": {},
   "outputs": [],
   "source": [
    "import selenium\n",
    "import time\n",
    "from selenium import webdriver\n",
    "import pandas as pd\n",
    "import warnings\n",
    "warnings.filterwarnings(\"ignore\")\n",
    "\n",
    "from selenium.webdriver.common.keys import Keys\n",
    "from selenium.webdriver.chrome.options import Options\n",
    "from selenium.webdriver.support.ui import WebDriverWait\n",
    "from selenium.webdriver.support import expected_conditions as EC\n",
    "from getpass import getpass\n",
    "\n",
    "from selenium.webdriver.chrome.service import Service #always import this or web driver gives truble\n",
    "from selenium.webdriver.common.by import By #always import this or web driver gives truble\n",
    "import time\n"
   ]
  },
  {
   "cell_type": "code",
   "execution_count": 185,
   "id": "f5bb512f",
   "metadata": {},
   "outputs": [],
   "source": [
    "driver = webdriver.Chrome('chromedriver.exe')"
   ]
  },
  {
   "cell_type": "code",
   "execution_count": 186,
   "id": "63da1a14",
   "metadata": {},
   "outputs": [],
   "source": [
    "url='https://www.amazon.in/'\n",
    "driver.get(url)"
   ]
  },
  {
   "cell_type": "code",
   "execution_count": null,
   "id": "329ac9d3",
   "metadata": {},
   "outputs": [],
   "source": [
    "#finding web element for search \n",
    "laptop=driver.find_element(By.CSS_SELECTOR,\"div.nav-search-field\")\n",
    "laptop"
   ]
  },
  {
   "cell_type": "code",
   "execution_count": 191,
   "id": "3ec9820b",
   "metadata": {},
   "outputs": [
    {
     "ename": "WebDriverException",
     "evalue": "Message: chrome not reachable\n  (Session info: chrome=103.0.5060.66)\nStacktrace:\nBacktrace:\n\tOrdinal0 [0x00B06463+2188387]\n\tOrdinal0 [0x00A9E461+1762401]\n\tOrdinal0 [0x009B3C40+801856]\n\tOrdinal0 [0x009A8932+756018]\n\tOrdinal0 [0x009A9168+758120]\n\tOrdinal0 [0x009AAA22+764450]\n\tOrdinal0 [0x009A4379+738169]\n\tOrdinal0 [0x009B50D0+807120]\n\tOrdinal0 [0x00A0C402+1164290]\n\tOrdinal0 [0x009FC5F6+1099254]\n\tOrdinal0 [0x009D6BE0+945120]\n\tOrdinal0 [0x009D7AD6+948950]\n\tGetHandleVerifier [0x00DA71F2+2712546]\n\tGetHandleVerifier [0x00D9886D+2652765]\n\tGetHandleVerifier [0x00B9002A+520730]\n\tGetHandleVerifier [0x00B8EE06+516086]\n\tOrdinal0 [0x00AA468B+1787531]\n\tOrdinal0 [0x00AA8E88+1805960]\n\tOrdinal0 [0x00AA8F75+1806197]\n\tOrdinal0 [0x00AB1DF1+1842673]\n\tBaseThreadInitThunk [0x771BFA29+25]\n\tRtlGetAppContainerNamedObjectPath [0x77CF7A9E+286]\n\tRtlGetAppContainerNamedObjectPath [0x77CF7A6E+238]\n",
     "output_type": "error",
     "traceback": [
      "\u001b[1;31m---------------------------------------------------------------------------\u001b[0m",
      "\u001b[1;31mWebDriverException\u001b[0m                        Traceback (most recent call last)",
      "Input \u001b[1;32mIn [191]\u001b[0m, in \u001b[0;36m<cell line: 1>\u001b[1;34m()\u001b[0m\n\u001b[1;32m----> 1\u001b[0m \u001b[43mlaptop\u001b[49m\u001b[38;5;241;43m.\u001b[39;49m\u001b[43msend_keys\u001b[49m\u001b[43m(\u001b[49m\u001b[38;5;124;43m\"\u001b[39;49m\u001b[38;5;124;43mlaptop\u001b[39;49m\u001b[38;5;124;43m\"\u001b[39;49m\u001b[43m)\u001b[49m\n",
      "File \u001b[1;32mC:\\anaconda 2022\\lib\\site-packages\\selenium\\webdriver\\remote\\webelement.py:223\u001b[0m, in \u001b[0;36mWebElement.send_keys\u001b[1;34m(self, *value)\u001b[0m\n\u001b[0;32m    220\u001b[0m             remote_files\u001b[38;5;241m.\u001b[39mappend(\u001b[38;5;28mself\u001b[39m\u001b[38;5;241m.\u001b[39m_upload(file))\n\u001b[0;32m    221\u001b[0m         value \u001b[38;5;241m=\u001b[39m \u001b[38;5;124m'\u001b[39m\u001b[38;5;130;01m\\n\u001b[39;00m\u001b[38;5;124m'\u001b[39m\u001b[38;5;241m.\u001b[39mjoin(remote_files)\n\u001b[1;32m--> 223\u001b[0m \u001b[38;5;28;43mself\u001b[39;49m\u001b[38;5;241;43m.\u001b[39;49m\u001b[43m_execute\u001b[49m\u001b[43m(\u001b[49m\u001b[43mCommand\u001b[49m\u001b[38;5;241;43m.\u001b[39;49m\u001b[43mSEND_KEYS_TO_ELEMENT\u001b[49m\u001b[43m,\u001b[49m\n\u001b[0;32m    224\u001b[0m \u001b[43m              \u001b[49m\u001b[43m{\u001b[49m\u001b[38;5;124;43m'\u001b[39;49m\u001b[38;5;124;43mtext\u001b[39;49m\u001b[38;5;124;43m'\u001b[39;49m\u001b[43m:\u001b[49m\u001b[43m \u001b[49m\u001b[38;5;124;43m\"\u001b[39;49m\u001b[38;5;124;43m\"\u001b[39;49m\u001b[38;5;241;43m.\u001b[39;49m\u001b[43mjoin\u001b[49m\u001b[43m(\u001b[49m\u001b[43mkeys_to_typing\u001b[49m\u001b[43m(\u001b[49m\u001b[43mvalue\u001b[49m\u001b[43m)\u001b[49m\u001b[43m)\u001b[49m\u001b[43m,\u001b[49m\n\u001b[0;32m    225\u001b[0m \u001b[43m               \u001b[49m\u001b[38;5;124;43m'\u001b[39;49m\u001b[38;5;124;43mvalue\u001b[39;49m\u001b[38;5;124;43m'\u001b[39;49m\u001b[43m:\u001b[49m\u001b[43m \u001b[49m\u001b[43mkeys_to_typing\u001b[49m\u001b[43m(\u001b[49m\u001b[43mvalue\u001b[49m\u001b[43m)\u001b[49m\u001b[43m}\u001b[49m\u001b[43m)\u001b[49m\n",
      "File \u001b[1;32mC:\\anaconda 2022\\lib\\site-packages\\selenium\\webdriver\\remote\\webelement.py:396\u001b[0m, in \u001b[0;36mWebElement._execute\u001b[1;34m(self, command, params)\u001b[0m\n\u001b[0;32m    394\u001b[0m     params \u001b[38;5;241m=\u001b[39m {}\n\u001b[0;32m    395\u001b[0m params[\u001b[38;5;124m'\u001b[39m\u001b[38;5;124mid\u001b[39m\u001b[38;5;124m'\u001b[39m] \u001b[38;5;241m=\u001b[39m \u001b[38;5;28mself\u001b[39m\u001b[38;5;241m.\u001b[39m_id\n\u001b[1;32m--> 396\u001b[0m \u001b[38;5;28;01mreturn\u001b[39;00m \u001b[38;5;28;43mself\u001b[39;49m\u001b[38;5;241;43m.\u001b[39;49m\u001b[43m_parent\u001b[49m\u001b[38;5;241;43m.\u001b[39;49m\u001b[43mexecute\u001b[49m\u001b[43m(\u001b[49m\u001b[43mcommand\u001b[49m\u001b[43m,\u001b[49m\u001b[43m \u001b[49m\u001b[43mparams\u001b[49m\u001b[43m)\u001b[49m\n",
      "File \u001b[1;32mC:\\anaconda 2022\\lib\\site-packages\\selenium\\webdriver\\remote\\webdriver.py:435\u001b[0m, in \u001b[0;36mWebDriver.execute\u001b[1;34m(self, driver_command, params)\u001b[0m\n\u001b[0;32m    433\u001b[0m response \u001b[38;5;241m=\u001b[39m \u001b[38;5;28mself\u001b[39m\u001b[38;5;241m.\u001b[39mcommand_executor\u001b[38;5;241m.\u001b[39mexecute(driver_command, params)\n\u001b[0;32m    434\u001b[0m \u001b[38;5;28;01mif\u001b[39;00m response:\n\u001b[1;32m--> 435\u001b[0m     \u001b[38;5;28;43mself\u001b[39;49m\u001b[38;5;241;43m.\u001b[39;49m\u001b[43merror_handler\u001b[49m\u001b[38;5;241;43m.\u001b[39;49m\u001b[43mcheck_response\u001b[49m\u001b[43m(\u001b[49m\u001b[43mresponse\u001b[49m\u001b[43m)\u001b[49m\n\u001b[0;32m    436\u001b[0m     response[\u001b[38;5;124m'\u001b[39m\u001b[38;5;124mvalue\u001b[39m\u001b[38;5;124m'\u001b[39m] \u001b[38;5;241m=\u001b[39m \u001b[38;5;28mself\u001b[39m\u001b[38;5;241m.\u001b[39m_unwrap_value(\n\u001b[0;32m    437\u001b[0m         response\u001b[38;5;241m.\u001b[39mget(\u001b[38;5;124m'\u001b[39m\u001b[38;5;124mvalue\u001b[39m\u001b[38;5;124m'\u001b[39m, \u001b[38;5;28;01mNone\u001b[39;00m))\n\u001b[0;32m    438\u001b[0m     \u001b[38;5;28;01mreturn\u001b[39;00m response\n",
      "File \u001b[1;32mC:\\anaconda 2022\\lib\\site-packages\\selenium\\webdriver\\remote\\errorhandler.py:247\u001b[0m, in \u001b[0;36mErrorHandler.check_response\u001b[1;34m(self, response)\u001b[0m\n\u001b[0;32m    245\u001b[0m         alert_text \u001b[38;5;241m=\u001b[39m value[\u001b[38;5;124m'\u001b[39m\u001b[38;5;124malert\u001b[39m\u001b[38;5;124m'\u001b[39m]\u001b[38;5;241m.\u001b[39mget(\u001b[38;5;124m'\u001b[39m\u001b[38;5;124mtext\u001b[39m\u001b[38;5;124m'\u001b[39m)\n\u001b[0;32m    246\u001b[0m     \u001b[38;5;28;01mraise\u001b[39;00m exception_class(message, screen, stacktrace, alert_text)  \u001b[38;5;66;03m# type: ignore[call-arg]  # mypy is not smart enough here\u001b[39;00m\n\u001b[1;32m--> 247\u001b[0m \u001b[38;5;28;01mraise\u001b[39;00m exception_class(message, screen, stacktrace)\n",
      "\u001b[1;31mWebDriverException\u001b[0m: Message: chrome not reachable\n  (Session info: chrome=103.0.5060.66)\nStacktrace:\nBacktrace:\n\tOrdinal0 [0x00B06463+2188387]\n\tOrdinal0 [0x00A9E461+1762401]\n\tOrdinal0 [0x009B3C40+801856]\n\tOrdinal0 [0x009A8932+756018]\n\tOrdinal0 [0x009A9168+758120]\n\tOrdinal0 [0x009AAA22+764450]\n\tOrdinal0 [0x009A4379+738169]\n\tOrdinal0 [0x009B50D0+807120]\n\tOrdinal0 [0x00A0C402+1164290]\n\tOrdinal0 [0x009FC5F6+1099254]\n\tOrdinal0 [0x009D6BE0+945120]\n\tOrdinal0 [0x009D7AD6+948950]\n\tGetHandleVerifier [0x00DA71F2+2712546]\n\tGetHandleVerifier [0x00D9886D+2652765]\n\tGetHandleVerifier [0x00B9002A+520730]\n\tGetHandleVerifier [0x00B8EE06+516086]\n\tOrdinal0 [0x00AA468B+1787531]\n\tOrdinal0 [0x00AA8E88+1805960]\n\tOrdinal0 [0x00AA8F75+1806197]\n\tOrdinal0 [0x00AB1DF1+1842673]\n\tBaseThreadInitThunk [0x771BFA29+25]\n\tRtlGetAppContainerNamedObjectPath [0x77CF7A9E+286]\n\tRtlGetAppContainerNamedObjectPath [0x77CF7A6E+238]\n"
     ]
    }
   ],
   "source": [
    "laptop.send_keys(\"laptop\")"
   ]
  },
  {
   "cell_type": "code",
   "execution_count": null,
   "id": "dd5d393d",
   "metadata": {},
   "outputs": [],
   "source": [
    "search_laptop = driver.find_element(By.XPATH,'/html/body/div[1]/header/div/div[1]/div[2]/div/form/div[3]/div/span/input')\n",
    "search_laptop"
   ]
  },
  {
   "cell_type": "code",
   "execution_count": null,
   "id": "ec2555d7",
   "metadata": {},
   "outputs": [],
   "source": [
    "search_laptop.click()"
   ]
  },
  {
   "cell_type": "code",
   "execution_count": null,
   "id": "b4bcb380",
   "metadata": {},
   "outputs": [],
   "source": [
    "#q10.  Write a python program to scrape data for first 10 job results for Data Scientist Designation in Noida \n",
    "#location. You have to scrape company name, No. of days ago when job was posted, Rating of the company. \n",
    "#This task will be done in following steps:\n",
    "#1. First get the webpage https://www.ambitionbox.com/\n",
    "#2. Click on the Job option as shown in the image\n",
    "#3. After reaching to the next webpage, In place of “Search by Designations, Companies, Skills” enter\n",
    "#“Data Scientist” and click on search button.\n",
    "#ASSIGNMENT 2\n",
    "#4. You will reach to the following web page click on location and in place of “Search location” enter\n",
    "#“Noida” and select location “Noida”\n",
    "#5. Then scrape the data for the first 10 jobs results you get on the above shown page.\n",
    "#6. Finally create a dataframe of the scraped data.\n",
    "#Note: All the steps required during scraping should be done through code only and not manually"
   ]
  },
  {
   "cell_type": "code",
   "execution_count": 189,
   "id": "78d972b2",
   "metadata": {},
   "outputs": [],
   "source": [
    "import selenium\n",
    "import time\n",
    "from selenium import webdriver\n",
    "import pandas as pd\n",
    "import warnings\n",
    "warnings.filterwarnings(\"ignore\")\n",
    "\n",
    "from selenium.webdriver.common.keys import Keys\n",
    "from selenium.webdriver.chrome.options import Options\n",
    "from selenium.webdriver.support.ui import WebDriverWait\n",
    "from selenium.webdriver.support import expected_conditions as EC\n",
    "from getpass import getpass\n",
    "\n",
    "from selenium.webdriver.chrome.service import Service #always import this or web driver gives truble\n",
    "from selenium.webdriver.common.by import By #always import this or web driver gives truble\n",
    "import time"
   ]
  },
  {
   "cell_type": "code",
   "execution_count": 190,
   "id": "5d8f2173",
   "metadata": {},
   "outputs": [],
   "source": [
    "driver = webdriver.Chrome('chromedriver.exe')"
   ]
  },
  {
   "cell_type": "code",
   "execution_count": 192,
   "id": "f00e5434",
   "metadata": {},
   "outputs": [],
   "source": [
    "url='https://www.ambitionbox.com/'\n",
    "driver.get(url)"
   ]
  },
  {
   "cell_type": "code",
   "execution_count": 208,
   "id": "99d2ba53",
   "metadata": {},
   "outputs": [
    {
     "data": {
      "text/plain": [
       "<selenium.webdriver.remote.webelement.WebElement (session=\"6c07e49aafd0e2a9c7586e1fbfb94258\", element=\"ecab137a-acfb-4555-86f4-125ac44aa51e\")>"
      ]
     },
     "execution_count": 208,
     "metadata": {},
     "output_type": "execute_result"
    }
   ],
   "source": [
    "#finding web element for search job bar usind id\n",
    "job_search=driver.find_element(By.XPATH,\"/html/body/section[1]/div/div[2]/form/span/input\")\n",
    "job_search"
   ]
  },
  {
   "cell_type": "code",
   "execution_count": 209,
   "id": "ad2cb8a0",
   "metadata": {},
   "outputs": [],
   "source": [
    "job_search.send_keys(\"Data Scientist\")"
   ]
  },
  {
   "cell_type": "code",
   "execution_count": 211,
   "id": "ea518047",
   "metadata": {},
   "outputs": [
    {
     "data": {
      "text/plain": [
       "<selenium.webdriver.remote.webelement.WebElement (session=\"6c07e49aafd0e2a9c7586e1fbfb94258\", element=\"cf401c78-d911-423f-b627-856b3e72f861\")>"
      ]
     },
     "execution_count": 211,
     "metadata": {},
     "output_type": "execute_result"
    }
   ],
   "source": [
    "search_job = driver.find_element(By.XPATH,'/html/body/section[1]/div/div[2]/form/div[2]/input')\n",
    "search_job"
   ]
  },
  {
   "cell_type": "code",
   "execution_count": 213,
   "id": "60bf2df9",
   "metadata": {},
   "outputs": [
    {
     "ename": "StaleElementReferenceException",
     "evalue": "Message: stale element reference: element is not attached to the page document\n  (Session info: chrome=103.0.5060.66)\nStacktrace:\nBacktrace:\n\tOrdinal0 [0x00B06463+2188387]\n\tOrdinal0 [0x00A9E461+1762401]\n\tOrdinal0 [0x009B3D78+802168]\n\tOrdinal0 [0x009B6754+812884]\n\tOrdinal0 [0x009B6612+812562]\n\tOrdinal0 [0x009B68A0+813216]\n\tOrdinal0 [0x009E3259+995929]\n\tOrdinal0 [0x009D8536+951606]\n\tOrdinal0 [0x009FC7DC+1099740]\n\tOrdinal0 [0x009D7FF4+950260]\n\tOrdinal0 [0x009FC9F4+1100276]\n\tOrdinal0 [0x00A0CC22+1166370]\n\tOrdinal0 [0x009FC5F6+1099254]\n\tOrdinal0 [0x009D6BE0+945120]\n\tOrdinal0 [0x009D7AD6+948950]\n\tGetHandleVerifier [0x00DA71F2+2712546]\n\tGetHandleVerifier [0x00D9886D+2652765]\n\tGetHandleVerifier [0x00B9002A+520730]\n\tGetHandleVerifier [0x00B8EE06+516086]\n\tOrdinal0 [0x00AA468B+1787531]\n\tOrdinal0 [0x00AA8E88+1805960]\n\tOrdinal0 [0x00AA8F75+1806197]\n\tOrdinal0 [0x00AB1DF1+1842673]\n\tBaseThreadInitThunk [0x771BFA29+25]\n\tRtlGetAppContainerNamedObjectPath [0x77CF7A9E+286]\n\tRtlGetAppContainerNamedObjectPath [0x77CF7A6E+238]\n",
     "output_type": "error",
     "traceback": [
      "\u001b[1;31m---------------------------------------------------------------------------\u001b[0m",
      "\u001b[1;31mStaleElementReferenceException\u001b[0m            Traceback (most recent call last)",
      "Input \u001b[1;32mIn [213]\u001b[0m, in \u001b[0;36m<cell line: 1>\u001b[1;34m()\u001b[0m\n\u001b[1;32m----> 1\u001b[0m \u001b[43msearch_job\u001b[49m\u001b[38;5;241;43m.\u001b[39;49m\u001b[43mclick\u001b[49m\u001b[43m(\u001b[49m\u001b[43m)\u001b[49m\n",
      "File \u001b[1;32mC:\\anaconda 2022\\lib\\site-packages\\selenium\\webdriver\\remote\\webelement.py:88\u001b[0m, in \u001b[0;36mWebElement.click\u001b[1;34m(self)\u001b[0m\n\u001b[0;32m     86\u001b[0m \u001b[38;5;28;01mdef\u001b[39;00m \u001b[38;5;21mclick\u001b[39m(\u001b[38;5;28mself\u001b[39m) \u001b[38;5;241m-\u001b[39m\u001b[38;5;241m>\u001b[39m \u001b[38;5;28;01mNone\u001b[39;00m:\n\u001b[0;32m     87\u001b[0m     \u001b[38;5;124;03m\"\"\"Clicks the element.\"\"\"\u001b[39;00m\n\u001b[1;32m---> 88\u001b[0m     \u001b[38;5;28;43mself\u001b[39;49m\u001b[38;5;241;43m.\u001b[39;49m\u001b[43m_execute\u001b[49m\u001b[43m(\u001b[49m\u001b[43mCommand\u001b[49m\u001b[38;5;241;43m.\u001b[39;49m\u001b[43mCLICK_ELEMENT\u001b[49m\u001b[43m)\u001b[49m\n",
      "File \u001b[1;32mC:\\anaconda 2022\\lib\\site-packages\\selenium\\webdriver\\remote\\webelement.py:396\u001b[0m, in \u001b[0;36mWebElement._execute\u001b[1;34m(self, command, params)\u001b[0m\n\u001b[0;32m    394\u001b[0m     params \u001b[38;5;241m=\u001b[39m {}\n\u001b[0;32m    395\u001b[0m params[\u001b[38;5;124m'\u001b[39m\u001b[38;5;124mid\u001b[39m\u001b[38;5;124m'\u001b[39m] \u001b[38;5;241m=\u001b[39m \u001b[38;5;28mself\u001b[39m\u001b[38;5;241m.\u001b[39m_id\n\u001b[1;32m--> 396\u001b[0m \u001b[38;5;28;01mreturn\u001b[39;00m \u001b[38;5;28;43mself\u001b[39;49m\u001b[38;5;241;43m.\u001b[39;49m\u001b[43m_parent\u001b[49m\u001b[38;5;241;43m.\u001b[39;49m\u001b[43mexecute\u001b[49m\u001b[43m(\u001b[49m\u001b[43mcommand\u001b[49m\u001b[43m,\u001b[49m\u001b[43m \u001b[49m\u001b[43mparams\u001b[49m\u001b[43m)\u001b[49m\n",
      "File \u001b[1;32mC:\\anaconda 2022\\lib\\site-packages\\selenium\\webdriver\\remote\\webdriver.py:435\u001b[0m, in \u001b[0;36mWebDriver.execute\u001b[1;34m(self, driver_command, params)\u001b[0m\n\u001b[0;32m    433\u001b[0m response \u001b[38;5;241m=\u001b[39m \u001b[38;5;28mself\u001b[39m\u001b[38;5;241m.\u001b[39mcommand_executor\u001b[38;5;241m.\u001b[39mexecute(driver_command, params)\n\u001b[0;32m    434\u001b[0m \u001b[38;5;28;01mif\u001b[39;00m response:\n\u001b[1;32m--> 435\u001b[0m     \u001b[38;5;28;43mself\u001b[39;49m\u001b[38;5;241;43m.\u001b[39;49m\u001b[43merror_handler\u001b[49m\u001b[38;5;241;43m.\u001b[39;49m\u001b[43mcheck_response\u001b[49m\u001b[43m(\u001b[49m\u001b[43mresponse\u001b[49m\u001b[43m)\u001b[49m\n\u001b[0;32m    436\u001b[0m     response[\u001b[38;5;124m'\u001b[39m\u001b[38;5;124mvalue\u001b[39m\u001b[38;5;124m'\u001b[39m] \u001b[38;5;241m=\u001b[39m \u001b[38;5;28mself\u001b[39m\u001b[38;5;241m.\u001b[39m_unwrap_value(\n\u001b[0;32m    437\u001b[0m         response\u001b[38;5;241m.\u001b[39mget(\u001b[38;5;124m'\u001b[39m\u001b[38;5;124mvalue\u001b[39m\u001b[38;5;124m'\u001b[39m, \u001b[38;5;28;01mNone\u001b[39;00m))\n\u001b[0;32m    438\u001b[0m     \u001b[38;5;28;01mreturn\u001b[39;00m response\n",
      "File \u001b[1;32mC:\\anaconda 2022\\lib\\site-packages\\selenium\\webdriver\\remote\\errorhandler.py:247\u001b[0m, in \u001b[0;36mErrorHandler.check_response\u001b[1;34m(self, response)\u001b[0m\n\u001b[0;32m    245\u001b[0m         alert_text \u001b[38;5;241m=\u001b[39m value[\u001b[38;5;124m'\u001b[39m\u001b[38;5;124malert\u001b[39m\u001b[38;5;124m'\u001b[39m]\u001b[38;5;241m.\u001b[39mget(\u001b[38;5;124m'\u001b[39m\u001b[38;5;124mtext\u001b[39m\u001b[38;5;124m'\u001b[39m)\n\u001b[0;32m    246\u001b[0m     \u001b[38;5;28;01mraise\u001b[39;00m exception_class(message, screen, stacktrace, alert_text)  \u001b[38;5;66;03m# type: ignore[call-arg]  # mypy is not smart enough here\u001b[39;00m\n\u001b[1;32m--> 247\u001b[0m \u001b[38;5;28;01mraise\u001b[39;00m exception_class(message, screen, stacktrace)\n",
      "\u001b[1;31mStaleElementReferenceException\u001b[0m: Message: stale element reference: element is not attached to the page document\n  (Session info: chrome=103.0.5060.66)\nStacktrace:\nBacktrace:\n\tOrdinal0 [0x00B06463+2188387]\n\tOrdinal0 [0x00A9E461+1762401]\n\tOrdinal0 [0x009B3D78+802168]\n\tOrdinal0 [0x009B6754+812884]\n\tOrdinal0 [0x009B6612+812562]\n\tOrdinal0 [0x009B68A0+813216]\n\tOrdinal0 [0x009E3259+995929]\n\tOrdinal0 [0x009D8536+951606]\n\tOrdinal0 [0x009FC7DC+1099740]\n\tOrdinal0 [0x009D7FF4+950260]\n\tOrdinal0 [0x009FC9F4+1100276]\n\tOrdinal0 [0x00A0CC22+1166370]\n\tOrdinal0 [0x009FC5F6+1099254]\n\tOrdinal0 [0x009D6BE0+945120]\n\tOrdinal0 [0x009D7AD6+948950]\n\tGetHandleVerifier [0x00DA71F2+2712546]\n\tGetHandleVerifier [0x00D9886D+2652765]\n\tGetHandleVerifier [0x00B9002A+520730]\n\tGetHandleVerifier [0x00B8EE06+516086]\n\tOrdinal0 [0x00AA468B+1787531]\n\tOrdinal0 [0x00AA8E88+1805960]\n\tOrdinal0 [0x00AA8F75+1806197]\n\tOrdinal0 [0x00AB1DF1+1842673]\n\tBaseThreadInitThunk [0x771BFA29+25]\n\tRtlGetAppContainerNamedObjectPath [0x77CF7A9E+286]\n\tRtlGetAppContainerNamedObjectPath [0x77CF7A6E+238]\n"
     ]
    }
   ],
   "source": [
    "search_job.click()"
   ]
  },
  {
   "cell_type": "code",
   "execution_count": 225,
   "id": "9fef578e",
   "metadata": {},
   "outputs": [
    {
     "data": {
      "text/plain": [
       "<selenium.webdriver.remote.webelement.WebElement (session=\"6c07e49aafd0e2a9c7586e1fbfb94258\", element=\"e43ab17b-ddd6-4b1d-ae30-3ded9ac69a15\")>"
      ]
     },
     "execution_count": 225,
     "metadata": {},
     "output_type": "execute_result"
    }
   ],
   "source": [
    "search_locn= driver.find_element(By.XPATH,'/html/body/section[1]/div/section/div/div/div/div/div/div/div[5]/div[2]/div/div/div[1]/div[1]/div[1]/div[1]/div/a')\n",
    "search_locn"
   ]
  },
  {
   "cell_type": "code",
   "execution_count": 226,
   "id": "8cc60811",
   "metadata": {},
   "outputs": [],
   "source": [
    "search_locn.click()"
   ]
  },
  {
   "cell_type": "code",
   "execution_count": 232,
   "id": "cb972c5c",
   "metadata": {},
   "outputs": [
    {
     "data": {
      "text/plain": [
       "<selenium.webdriver.remote.webelement.WebElement (session=\"6c07e49aafd0e2a9c7586e1fbfb94258\", element=\"29ff8f38-a214-45cc-b4a3-259e3bd12025\")>"
      ]
     },
     "execution_count": 232,
     "metadata": {},
     "output_type": "execute_result"
    }
   ],
   "source": [
    "Noida_locn=driver.find_element(By.CLASS_NAME,'icon-chevron-right')\n",
    "Noida_locn"
   ]
  },
  {
   "cell_type": "code",
   "execution_count": 233,
   "id": "efbaa38d",
   "metadata": {},
   "outputs": [],
   "source": [
    "Noida_locn.click()"
   ]
  },
  {
   "cell_type": "code",
   "execution_count": 248,
   "id": "a3afc0bf",
   "metadata": {},
   "outputs": [
    {
     "ename": "NoSuchElementException",
     "evalue": "Message: no such element: Unable to locate element: {\"method\":\"xpath\",\"selector\":\"/html/body/div/div/div/div[2]/div[3]/div[1]/div/div/div/div[5]/div[2]/div/div[2]\"}\n  (Session info: chrome=103.0.5060.66)\nStacktrace:\nBacktrace:\n\tOrdinal0 [0x00B06463+2188387]\n\tOrdinal0 [0x00A9E461+1762401]\n\tOrdinal0 [0x009B3D78+802168]\n\tOrdinal0 [0x009E1880+989312]\n\tOrdinal0 [0x009E1B1B+989979]\n\tOrdinal0 [0x00A0E912+1173778]\n\tOrdinal0 [0x009FC824+1099812]\n\tOrdinal0 [0x00A0CC22+1166370]\n\tOrdinal0 [0x009FC5F6+1099254]\n\tOrdinal0 [0x009D6BE0+945120]\n\tOrdinal0 [0x009D7AD6+948950]\n\tGetHandleVerifier [0x00DA71F2+2712546]\n\tGetHandleVerifier [0x00D9886D+2652765]\n\tGetHandleVerifier [0x00B9002A+520730]\n\tGetHandleVerifier [0x00B8EE06+516086]\n\tOrdinal0 [0x00AA468B+1787531]\n\tOrdinal0 [0x00AA8E88+1805960]\n\tOrdinal0 [0x00AA8F75+1806197]\n\tOrdinal0 [0x00AB1DF1+1842673]\n\tBaseThreadInitThunk [0x771BFA29+25]\n\tRtlGetAppContainerNamedObjectPath [0x77CF7A9E+286]\n\tRtlGetAppContainerNamedObjectPath [0x77CF7A6E+238]\n",
     "output_type": "error",
     "traceback": [
      "\u001b[1;31m---------------------------------------------------------------------------\u001b[0m",
      "\u001b[1;31mNoSuchElementException\u001b[0m                    Traceback (most recent call last)",
      "Input \u001b[1;32mIn [248]\u001b[0m, in \u001b[0;36m<cell line: 1>\u001b[1;34m()\u001b[0m\n\u001b[1;32m----> 1\u001b[0m search_noida \u001b[38;5;241m=\u001b[39m \u001b[43mdriver\u001b[49m\u001b[38;5;241;43m.\u001b[39;49m\u001b[43mfind_element\u001b[49m\u001b[43m(\u001b[49m\u001b[43mBy\u001b[49m\u001b[38;5;241;43m.\u001b[39;49m\u001b[43mXPATH\u001b[49m\u001b[43m,\u001b[49m\u001b[38;5;124;43m'\u001b[39;49m\u001b[38;5;124;43m/html/body/div/div/div/div[2]/div[3]/div[1]/div/div/div/div[5]/div[2]/div/div[2]\u001b[39;49m\u001b[38;5;124;43m'\u001b[39;49m\u001b[43m)\u001b[49m\n\u001b[0;32m      2\u001b[0m search_noida\n",
      "File \u001b[1;32mC:\\anaconda 2022\\lib\\site-packages\\selenium\\webdriver\\remote\\webdriver.py:857\u001b[0m, in \u001b[0;36mWebDriver.find_element\u001b[1;34m(self, by, value)\u001b[0m\n\u001b[0;32m    854\u001b[0m     by \u001b[38;5;241m=\u001b[39m By\u001b[38;5;241m.\u001b[39mCSS_SELECTOR\n\u001b[0;32m    855\u001b[0m     value \u001b[38;5;241m=\u001b[39m \u001b[38;5;124m'\u001b[39m\u001b[38;5;124m[name=\u001b[39m\u001b[38;5;124m\"\u001b[39m\u001b[38;5;132;01m%s\u001b[39;00m\u001b[38;5;124m\"\u001b[39m\u001b[38;5;124m]\u001b[39m\u001b[38;5;124m'\u001b[39m \u001b[38;5;241m%\u001b[39m value\n\u001b[1;32m--> 857\u001b[0m \u001b[38;5;28;01mreturn\u001b[39;00m \u001b[38;5;28;43mself\u001b[39;49m\u001b[38;5;241;43m.\u001b[39;49m\u001b[43mexecute\u001b[49m\u001b[43m(\u001b[49m\u001b[43mCommand\u001b[49m\u001b[38;5;241;43m.\u001b[39;49m\u001b[43mFIND_ELEMENT\u001b[49m\u001b[43m,\u001b[49m\u001b[43m \u001b[49m\u001b[43m{\u001b[49m\n\u001b[0;32m    858\u001b[0m \u001b[43m    \u001b[49m\u001b[38;5;124;43m'\u001b[39;49m\u001b[38;5;124;43musing\u001b[39;49m\u001b[38;5;124;43m'\u001b[39;49m\u001b[43m:\u001b[49m\u001b[43m \u001b[49m\u001b[43mby\u001b[49m\u001b[43m,\u001b[49m\n\u001b[0;32m    859\u001b[0m \u001b[43m    \u001b[49m\u001b[38;5;124;43m'\u001b[39;49m\u001b[38;5;124;43mvalue\u001b[39;49m\u001b[38;5;124;43m'\u001b[39;49m\u001b[43m:\u001b[49m\u001b[43m \u001b[49m\u001b[43mvalue\u001b[49m\u001b[43m}\u001b[49m\u001b[43m)\u001b[49m[\u001b[38;5;124m'\u001b[39m\u001b[38;5;124mvalue\u001b[39m\u001b[38;5;124m'\u001b[39m]\n",
      "File \u001b[1;32mC:\\anaconda 2022\\lib\\site-packages\\selenium\\webdriver\\remote\\webdriver.py:435\u001b[0m, in \u001b[0;36mWebDriver.execute\u001b[1;34m(self, driver_command, params)\u001b[0m\n\u001b[0;32m    433\u001b[0m response \u001b[38;5;241m=\u001b[39m \u001b[38;5;28mself\u001b[39m\u001b[38;5;241m.\u001b[39mcommand_executor\u001b[38;5;241m.\u001b[39mexecute(driver_command, params)\n\u001b[0;32m    434\u001b[0m \u001b[38;5;28;01mif\u001b[39;00m response:\n\u001b[1;32m--> 435\u001b[0m     \u001b[38;5;28;43mself\u001b[39;49m\u001b[38;5;241;43m.\u001b[39;49m\u001b[43merror_handler\u001b[49m\u001b[38;5;241;43m.\u001b[39;49m\u001b[43mcheck_response\u001b[49m\u001b[43m(\u001b[49m\u001b[43mresponse\u001b[49m\u001b[43m)\u001b[49m\n\u001b[0;32m    436\u001b[0m     response[\u001b[38;5;124m'\u001b[39m\u001b[38;5;124mvalue\u001b[39m\u001b[38;5;124m'\u001b[39m] \u001b[38;5;241m=\u001b[39m \u001b[38;5;28mself\u001b[39m\u001b[38;5;241m.\u001b[39m_unwrap_value(\n\u001b[0;32m    437\u001b[0m         response\u001b[38;5;241m.\u001b[39mget(\u001b[38;5;124m'\u001b[39m\u001b[38;5;124mvalue\u001b[39m\u001b[38;5;124m'\u001b[39m, \u001b[38;5;28;01mNone\u001b[39;00m))\n\u001b[0;32m    438\u001b[0m     \u001b[38;5;28;01mreturn\u001b[39;00m response\n",
      "File \u001b[1;32mC:\\anaconda 2022\\lib\\site-packages\\selenium\\webdriver\\remote\\errorhandler.py:247\u001b[0m, in \u001b[0;36mErrorHandler.check_response\u001b[1;34m(self, response)\u001b[0m\n\u001b[0;32m    245\u001b[0m         alert_text \u001b[38;5;241m=\u001b[39m value[\u001b[38;5;124m'\u001b[39m\u001b[38;5;124malert\u001b[39m\u001b[38;5;124m'\u001b[39m]\u001b[38;5;241m.\u001b[39mget(\u001b[38;5;124m'\u001b[39m\u001b[38;5;124mtext\u001b[39m\u001b[38;5;124m'\u001b[39m)\n\u001b[0;32m    246\u001b[0m     \u001b[38;5;28;01mraise\u001b[39;00m exception_class(message, screen, stacktrace, alert_text)  \u001b[38;5;66;03m# type: ignore[call-arg]  # mypy is not smart enough here\u001b[39;00m\n\u001b[1;32m--> 247\u001b[0m \u001b[38;5;28;01mraise\u001b[39;00m exception_class(message, screen, stacktrace)\n",
      "\u001b[1;31mNoSuchElementException\u001b[0m: Message: no such element: Unable to locate element: {\"method\":\"xpath\",\"selector\":\"/html/body/div/div/div/div[2]/div[3]/div[1]/div/div/div/div[5]/div[2]/div/div[2]\"}\n  (Session info: chrome=103.0.5060.66)\nStacktrace:\nBacktrace:\n\tOrdinal0 [0x00B06463+2188387]\n\tOrdinal0 [0x00A9E461+1762401]\n\tOrdinal0 [0x009B3D78+802168]\n\tOrdinal0 [0x009E1880+989312]\n\tOrdinal0 [0x009E1B1B+989979]\n\tOrdinal0 [0x00A0E912+1173778]\n\tOrdinal0 [0x009FC824+1099812]\n\tOrdinal0 [0x00A0CC22+1166370]\n\tOrdinal0 [0x009FC5F6+1099254]\n\tOrdinal0 [0x009D6BE0+945120]\n\tOrdinal0 [0x009D7AD6+948950]\n\tGetHandleVerifier [0x00DA71F2+2712546]\n\tGetHandleVerifier [0x00D9886D+2652765]\n\tGetHandleVerifier [0x00B9002A+520730]\n\tGetHandleVerifier [0x00B8EE06+516086]\n\tOrdinal0 [0x00AA468B+1787531]\n\tOrdinal0 [0x00AA8E88+1805960]\n\tOrdinal0 [0x00AA8F75+1806197]\n\tOrdinal0 [0x00AB1DF1+1842673]\n\tBaseThreadInitThunk [0x771BFA29+25]\n\tRtlGetAppContainerNamedObjectPath [0x77CF7A9E+286]\n\tRtlGetAppContainerNamedObjectPath [0x77CF7A6E+238]\n"
     ]
    }
   ],
   "source": [
    "search_noida = driver.find_element(By.XPATH,'/html/body/div/div/div/div[2]/div[3]/div[1]/div/div/div/div[5]/div[2]/div/div[2]')\n",
    "search_noida"
   ]
  },
  {
   "cell_type": "code",
   "execution_count": null,
   "id": "6af04538",
   "metadata": {},
   "outputs": [],
   "source": []
  }
 ],
 "metadata": {
  "kernelspec": {
   "display_name": "Python 3 (ipykernel)",
   "language": "python",
   "name": "python3"
  },
  "language_info": {
   "codemirror_mode": {
    "name": "ipython",
    "version": 3
   },
   "file_extension": ".py",
   "mimetype": "text/x-python",
   "name": "python",
   "nbconvert_exporter": "python",
   "pygments_lexer": "ipython3",
   "version": "3.9.12"
  }
 },
 "nbformat": 4,
 "nbformat_minor": 5
}
